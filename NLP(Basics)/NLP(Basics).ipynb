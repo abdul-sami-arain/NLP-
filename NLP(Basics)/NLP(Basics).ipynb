{
 "cells": [
  {
   "cell_type": "markdown",
   "id": "932e1c09",
   "metadata": {},
   "source": [
    "# NATURAL LANGUAGE PROCESSING (Basics):"
   ]
  },
  {
   "cell_type": "markdown",
   "id": "bf225105",
   "metadata": {},
   "source": [
    "## Contents:\n",
    "- Data Description\n",
    "- Data Statistics\n",
    "- Text Cleaning\n",
    "- NLP Pipeline\n",
    "\n"
   ]
  },
  {
   "cell_type": "markdown",
   "id": "f8b59c8e",
   "metadata": {},
   "source": [
    "## import basic libraries of Regular Python"
   ]
  },
  {
   "cell_type": "code",
   "execution_count": 1,
   "id": "d9fd9fb6",
   "metadata": {},
   "outputs": [],
   "source": [
    "import pandas as pd\n",
    "import numpy as np\n",
    "import re\n",
    "import time"
   ]
  },
  {
   "cell_type": "markdown",
   "id": "4227b293",
   "metadata": {},
   "source": [
    "## import dataset "
   ]
  },
  {
   "cell_type": "markdown",
   "id": "e3487611",
   "metadata": {},
   "source": [
    "[Data Source Kaggle](https://www.kaggle.com/competitions/sentiment-analysis-on-movie-reviews/data)"
   ]
  },
  {
   "cell_type": "code",
   "execution_count": 2,
   "id": "681931d1",
   "metadata": {},
   "outputs": [
    {
     "data": {
      "text/html": [
       "<div>\n",
       "<style scoped>\n",
       "    .dataframe tbody tr th:only-of-type {\n",
       "        vertical-align: middle;\n",
       "    }\n",
       "\n",
       "    .dataframe tbody tr th {\n",
       "        vertical-align: top;\n",
       "    }\n",
       "\n",
       "    .dataframe thead th {\n",
       "        text-align: right;\n",
       "    }\n",
       "</style>\n",
       "<table border=\"1\" class=\"dataframe\">\n",
       "  <thead>\n",
       "    <tr style=\"text-align: right;\">\n",
       "      <th></th>\n",
       "      <th>PhraseId</th>\n",
       "      <th>SentenceId</th>\n",
       "      <th>Phrase</th>\n",
       "      <th>Sentiment</th>\n",
       "    </tr>\n",
       "  </thead>\n",
       "  <tbody>\n",
       "    <tr>\n",
       "      <th>0</th>\n",
       "      <td>1</td>\n",
       "      <td>1</td>\n",
       "      <td>A series of escapades demonstrating the adage ...</td>\n",
       "      <td>1</td>\n",
       "    </tr>\n",
       "    <tr>\n",
       "      <th>1</th>\n",
       "      <td>2</td>\n",
       "      <td>1</td>\n",
       "      <td>A series of escapades demonstrating the adage ...</td>\n",
       "      <td>2</td>\n",
       "    </tr>\n",
       "    <tr>\n",
       "      <th>2</th>\n",
       "      <td>3</td>\n",
       "      <td>1</td>\n",
       "      <td>A series</td>\n",
       "      <td>2</td>\n",
       "    </tr>\n",
       "    <tr>\n",
       "      <th>3</th>\n",
       "      <td>4</td>\n",
       "      <td>1</td>\n",
       "      <td>A</td>\n",
       "      <td>2</td>\n",
       "    </tr>\n",
       "    <tr>\n",
       "      <th>4</th>\n",
       "      <td>5</td>\n",
       "      <td>1</td>\n",
       "      <td>series</td>\n",
       "      <td>2</td>\n",
       "    </tr>\n",
       "  </tbody>\n",
       "</table>\n",
       "</div>"
      ],
      "text/plain": [
       "   PhraseId  SentenceId                                             Phrase  \\\n",
       "0         1           1  A series of escapades demonstrating the adage ...   \n",
       "1         2           1  A series of escapades demonstrating the adage ...   \n",
       "2         3           1                                           A series   \n",
       "3         4           1                                                  A   \n",
       "4         5           1                                             series   \n",
       "\n",
       "   Sentiment  \n",
       "0          1  \n",
       "1          2  \n",
       "2          2  \n",
       "3          2  \n",
       "4          2  "
      ]
     },
     "execution_count": 2,
     "metadata": {},
     "output_type": "execute_result"
    }
   ],
   "source": [
    "df = pd.read_csv(\"train.tsv\",sep='\\t')\n",
    "df.head()"
   ]
  },
  {
   "cell_type": "markdown",
   "id": "8e3bf250",
   "metadata": {},
   "source": [
    "### TSV vs CSV\n",
    "```Tab Separated Values (TSV) and Comma Separated Values (CSV) are the two file type extensions used to load a set of data. A .tsv file will have tab separated values whereas .csv file has comma separated fields. These types of files are used to get raw data for many purposes possible. Most of the Text Editors can read both the type of files. TSV extension files are more efficient for many applications in programming languages like javascript, tensorflow etc. Also, in a TSV file rows and columns are easily distinguishable. CSV files are used more in fields like machine learning, data analysis, deep learning.```"
   ]
  },
  {
   "cell_type": "markdown",
   "id": "f9ffedd8",
   "metadata": {},
   "source": [
    "## Data Statistics:"
   ]
  },
  {
   "cell_type": "code",
   "execution_count": 3,
   "id": "8ed9dd6c",
   "metadata": {},
   "outputs": [
    {
     "name": "stdout",
     "output_type": "stream",
     "text": [
      "<class 'pandas.core.frame.DataFrame'>\n",
      "RangeIndex: 156060 entries, 0 to 156059\n",
      "Data columns (total 4 columns):\n",
      " #   Column      Non-Null Count   Dtype \n",
      "---  ------      --------------   ----- \n",
      " 0   PhraseId    156060 non-null  int64 \n",
      " 1   SentenceId  156060 non-null  int64 \n",
      " 2   Phrase      156060 non-null  object\n",
      " 3   Sentiment   156060 non-null  int64 \n",
      "dtypes: int64(3), object(1)\n",
      "memory usage: 4.8+ MB\n"
     ]
    }
   ],
   "source": [
    "df.info()"
   ]
  },
  {
   "cell_type": "code",
   "execution_count": 4,
   "id": "9fea4b5b",
   "metadata": {},
   "outputs": [
    {
     "data": {
      "text/html": [
       "<div>\n",
       "<style scoped>\n",
       "    .dataframe tbody tr th:only-of-type {\n",
       "        vertical-align: middle;\n",
       "    }\n",
       "\n",
       "    .dataframe tbody tr th {\n",
       "        vertical-align: top;\n",
       "    }\n",
       "\n",
       "    .dataframe thead th {\n",
       "        text-align: right;\n",
       "    }\n",
       "</style>\n",
       "<table border=\"1\" class=\"dataframe\">\n",
       "  <thead>\n",
       "    <tr style=\"text-align: right;\">\n",
       "      <th></th>\n",
       "      <th>PhraseId</th>\n",
       "      <th>SentenceId</th>\n",
       "      <th>Sentiment</th>\n",
       "    </tr>\n",
       "  </thead>\n",
       "  <tbody>\n",
       "    <tr>\n",
       "      <th>count</th>\n",
       "      <td>156060.000000</td>\n",
       "      <td>156060.000000</td>\n",
       "      <td>156060.000000</td>\n",
       "    </tr>\n",
       "    <tr>\n",
       "      <th>mean</th>\n",
       "      <td>78030.500000</td>\n",
       "      <td>4079.732744</td>\n",
       "      <td>2.063578</td>\n",
       "    </tr>\n",
       "    <tr>\n",
       "      <th>std</th>\n",
       "      <td>45050.785842</td>\n",
       "      <td>2502.764394</td>\n",
       "      <td>0.893832</td>\n",
       "    </tr>\n",
       "    <tr>\n",
       "      <th>min</th>\n",
       "      <td>1.000000</td>\n",
       "      <td>1.000000</td>\n",
       "      <td>0.000000</td>\n",
       "    </tr>\n",
       "    <tr>\n",
       "      <th>25%</th>\n",
       "      <td>39015.750000</td>\n",
       "      <td>1861.750000</td>\n",
       "      <td>2.000000</td>\n",
       "    </tr>\n",
       "    <tr>\n",
       "      <th>50%</th>\n",
       "      <td>78030.500000</td>\n",
       "      <td>4017.000000</td>\n",
       "      <td>2.000000</td>\n",
       "    </tr>\n",
       "    <tr>\n",
       "      <th>75%</th>\n",
       "      <td>117045.250000</td>\n",
       "      <td>6244.000000</td>\n",
       "      <td>3.000000</td>\n",
       "    </tr>\n",
       "    <tr>\n",
       "      <th>max</th>\n",
       "      <td>156060.000000</td>\n",
       "      <td>8544.000000</td>\n",
       "      <td>4.000000</td>\n",
       "    </tr>\n",
       "  </tbody>\n",
       "</table>\n",
       "</div>"
      ],
      "text/plain": [
       "            PhraseId     SentenceId      Sentiment\n",
       "count  156060.000000  156060.000000  156060.000000\n",
       "mean    78030.500000    4079.732744       2.063578\n",
       "std     45050.785842    2502.764394       0.893832\n",
       "min         1.000000       1.000000       0.000000\n",
       "25%     39015.750000    1861.750000       2.000000\n",
       "50%     78030.500000    4017.000000       2.000000\n",
       "75%    117045.250000    6244.000000       3.000000\n",
       "max    156060.000000    8544.000000       4.000000"
      ]
     },
     "execution_count": 4,
     "metadata": {},
     "output_type": "execute_result"
    }
   ],
   "source": [
    "df.describe()"
   ]
  },
  {
   "cell_type": "code",
   "execution_count": 5,
   "id": "377766b1",
   "metadata": {},
   "outputs": [
    {
     "data": {
      "text/plain": [
       "Index(['PhraseId', 'SentenceId', 'Phrase', 'Sentiment'], dtype='object')"
      ]
     },
     "execution_count": 5,
     "metadata": {},
     "output_type": "execute_result"
    }
   ],
   "source": [
    "df.columns"
   ]
  },
  {
   "cell_type": "code",
   "execution_count": 6,
   "id": "d05ebc1f",
   "metadata": {},
   "outputs": [
    {
     "name": "stdout",
     "output_type": "stream",
     "text": [
      "Total counts of  values in Phrase column is  156060\n",
      "Total counts of not null values in Phrase column is  156060\n"
     ]
    }
   ],
   "source": [
    "non_null = df['Phrase'].notna().count()\n",
    "total = df['Phrase'].count()\n",
    "print(\"Total counts of  values in Phrase column is \",total)\n",
    "print(\"Total counts of not null values in Phrase column is \",non_null)"
   ]
  },
  {
   "cell_type": "markdown",
   "id": "bad8d193",
   "metadata": {},
   "source": [
    "#### comment\n",
    "there is no any null cell in Phrase column"
   ]
  },
  {
   "cell_type": "markdown",
   "id": "d5ca7b17",
   "metadata": {},
   "source": [
    "## Data Description:"
   ]
  },
  {
   "cell_type": "markdown",
   "id": "f23f4b47",
   "metadata": {},
   "source": [
    "This tsv file contains the phrases and their associated sentiment labels.<br>\n",
    "The sentiment labels are:<br>\n",
    "\n",
    "- 0 - negative\n",
    "- 1 - somewhat negative\n",
    "- 2 - neutral\n",
    "- 3 - somewhat positive\n",
    "- 4 - positive\n",
    "\n",
    "here we will pass only data of sentiment label 0 and 4 from NLP pipeline<br>\n",
    "\n",
    "now we will create a separate dataframe that contains only phrases with sentiment labels 0 and 4"
   ]
  },
  {
   "cell_type": "code",
   "execution_count": 7,
   "id": "c35be8c7",
   "metadata": {},
   "outputs": [
    {
     "name": "stdout",
     "output_type": "stream",
     "text": [
      "16278\n"
     ]
    }
   ],
   "source": [
    "df2 = pd.concat(\n",
    "[\n",
    "    df[df.Sentiment==0],\n",
    "    df[df.Sentiment==4]\n",
    "])[[\"Phrase\",\"Sentiment\"]]\n",
    "print(len(df2))"
   ]
  },
  {
   "cell_type": "code",
   "execution_count": 8,
   "id": "296dc2de",
   "metadata": {},
   "outputs": [
    {
     "data": {
      "text/html": [
       "<div>\n",
       "<style scoped>\n",
       "    .dataframe tbody tr th:only-of-type {\n",
       "        vertical-align: middle;\n",
       "    }\n",
       "\n",
       "    .dataframe tbody tr th {\n",
       "        vertical-align: top;\n",
       "    }\n",
       "\n",
       "    .dataframe thead th {\n",
       "        text-align: right;\n",
       "    }\n",
       "</style>\n",
       "<table border=\"1\" class=\"dataframe\">\n",
       "  <thead>\n",
       "    <tr style=\"text-align: right;\">\n",
       "      <th></th>\n",
       "      <th>Phrase</th>\n",
       "      <th>Sentiment</th>\n",
       "    </tr>\n",
       "  </thead>\n",
       "  <tbody>\n",
       "    <tr>\n",
       "      <th>101</th>\n",
       "      <td>would have a hard time sitting through this one</td>\n",
       "      <td>0</td>\n",
       "    </tr>\n",
       "    <tr>\n",
       "      <th>103</th>\n",
       "      <td>have a hard time sitting through this one</td>\n",
       "      <td>0</td>\n",
       "    </tr>\n",
       "    <tr>\n",
       "      <th>157</th>\n",
       "      <td>Aggressive self-glorification and a manipulati...</td>\n",
       "      <td>0</td>\n",
       "    </tr>\n",
       "    <tr>\n",
       "      <th>159</th>\n",
       "      <td>self-glorification and a manipulative whitewash</td>\n",
       "      <td>0</td>\n",
       "    </tr>\n",
       "    <tr>\n",
       "      <th>201</th>\n",
       "      <td>Trouble Every Day is a plodding mess .</td>\n",
       "      <td>0</td>\n",
       "    </tr>\n",
       "    <tr>\n",
       "      <th>...</th>\n",
       "      <td>...</td>\n",
       "      <td>...</td>\n",
       "    </tr>\n",
       "    <tr>\n",
       "      <th>3010</th>\n",
       "      <td>ugly to look at and not a Hollywood product</td>\n",
       "      <td>0</td>\n",
       "    </tr>\n",
       "    <tr>\n",
       "      <th>3030</th>\n",
       "      <td>bogged down in earnest dramaturgy</td>\n",
       "      <td>0</td>\n",
       "    </tr>\n",
       "    <tr>\n",
       "      <th>3172</th>\n",
       "      <td>cheap</td>\n",
       "      <td>0</td>\n",
       "    </tr>\n",
       "    <tr>\n",
       "      <th>3266</th>\n",
       "      <td>Violent , vulgar and forgettably</td>\n",
       "      <td>0</td>\n",
       "    </tr>\n",
       "    <tr>\n",
       "      <th>3270</th>\n",
       "      <td>vulgar</td>\n",
       "      <td>0</td>\n",
       "    </tr>\n",
       "  </tbody>\n",
       "</table>\n",
       "<p>100 rows × 2 columns</p>\n",
       "</div>"
      ],
      "text/plain": [
       "                                                 Phrase  Sentiment\n",
       "101     would have a hard time sitting through this one          0\n",
       "103           have a hard time sitting through this one          0\n",
       "157   Aggressive self-glorification and a manipulati...          0\n",
       "159     self-glorification and a manipulative whitewash          0\n",
       "201              Trouble Every Day is a plodding mess .          0\n",
       "...                                                 ...        ...\n",
       "3010        ugly to look at and not a Hollywood product          0\n",
       "3030                  bogged down in earnest dramaturgy          0\n",
       "3172                                              cheap          0\n",
       "3266                   Violent , vulgar and forgettably          0\n",
       "3270                                             vulgar          0\n",
       "\n",
       "[100 rows x 2 columns]"
      ]
     },
     "execution_count": 8,
     "metadata": {},
     "output_type": "execute_result"
    }
   ],
   "source": [
    "df2.head(100)"
   ]
  },
  {
   "cell_type": "markdown",
   "id": "3334d6c3",
   "metadata": {},
   "source": [
    "## Import packages for NLP:"
   ]
  },
  {
   "cell_type": "code",
   "execution_count": 9,
   "id": "b4699b12",
   "metadata": {},
   "outputs": [
    {
     "name": "stderr",
     "output_type": "stream",
     "text": [
      "[nltk_data] Downloading package punkt to C:\\Users\\Abdul\n",
      "[nltk_data]     Sami\\AppData\\Roaming\\nltk_data...\n",
      "[nltk_data]   Package punkt is already up-to-date!\n",
      "[nltk_data] Downloading package averaged_perceptron_tagger to\n",
      "[nltk_data]     C:\\Users\\Abdul Sami\\AppData\\Roaming\\nltk_data...\n",
      "[nltk_data]   Package averaged_perceptron_tagger is already up-to-\n",
      "[nltk_data]       date!\n",
      "[nltk_data] Downloading package wordnet to C:\\Users\\Abdul\n",
      "[nltk_data]     Sami\\AppData\\Roaming\\nltk_data...\n",
      "[nltk_data]   Package wordnet is already up-to-date!\n",
      "[nltk_data] Downloading package omw-1.4 to C:\\Users\\Abdul\n",
      "[nltk_data]     Sami\\AppData\\Roaming\\nltk_data...\n",
      "[nltk_data]   Package omw-1.4 is already up-to-date!\n",
      "[nltk_data] Downloading package stopwords to C:\\Users\\Abdul\n",
      "[nltk_data]     Sami\\AppData\\Roaming\\nltk_data...\n",
      "[nltk_data]   Package stopwords is already up-to-date!\n"
     ]
    }
   ],
   "source": [
    "import unidecode\n",
    "import nltk\n",
    "nltk.download('punkt')\n",
    "nltk.download('averaged_perceptron_tagger')\n",
    "nltk.download('wordnet')\n",
    "nltk.download('omw-1.4')\n",
    "from nltk.corpus import stopwords\n",
    "nltk.download('stopwords')\n",
    "from nltk.tokenize import word_tokenize\n",
    "from nltk.stem import WordNetLemmatizer\n",
    "#pip install autocorrect\n",
    "from autocorrect import Speller\n",
    "import string\n",
    "import timeit\n",
    "from bs4 import BeautifulSoup"
   ]
  },
  {
   "cell_type": "markdown",
   "id": "94d6b6f5",
   "metadata": {},
   "source": [
    "### Little Description of Each imported Package:\n"
   ]
  },
  {
   "cell_type": "markdown",
   "id": "8b769f2b",
   "metadata": {},
   "source": [
    "- __unidecode:__ <br>\n",
    "The unidecode module accepts unicode string values and returns a unicode string in Python 3. You are giving it binary data instead. Decode to unicode or open the input text file in textmode, and encode the result to ASCII before writing it to a file, or open the output text file in text mode.<br>\n",
    "- __nltk.corpus:__ <br>\n",
    "NLTK corpus readers. The modules in this package provide functions that can be used to read corpus files in a variety of formats.<br>\n",
    "- __word_tokenize:__ <br>\n",
    "We use the word_tokenize() method to split a sentence into tokens or words<br>\n",
    "- __WordNetLemmatizer__:<br>\n",
    "Wordnet is an large, freely and publicly available lexical database for the English language aiming to establish structured semantic relationships between words.<br>\n",
    "\n"
   ]
  },
  {
   "cell_type": "markdown",
   "id": "32db08cb",
   "metadata": {},
   "source": [
    "## Text Cleaning:"
   ]
  },
  {
   "cell_type": "markdown",
   "id": "dc1f29b2",
   "metadata": {},
   "source": [
    "### Remove newlines & tabs"
   ]
  },
  {
   "cell_type": "code",
   "execution_count": 10,
   "id": "9bef04ad",
   "metadata": {},
   "outputs": [
    {
     "name": "stdout",
     "output_type": "stream",
     "text": [
      "input:  This is her \\ first day at this place.\n",
      " Please,\t Be nice to her.\\n\n",
      "Output: \n"
     ]
    },
    {
     "data": {
      "text/plain": [
       "(None, 'This is her   first day at this place.  Please,  Be nice to her. ')"
      ]
     },
     "execution_count": 10,
     "metadata": {},
     "output_type": "execute_result"
    }
   ],
   "source": [
    "def remove_newlines_tabs(text):\n",
    "    # Replacing all the occurrences of \\n,\\\\n,\\t,\\\\ with a space.\n",
    "    Formatted_text = text.replace('\\\\n', ' ').replace('\\n', ' ').replace('\\t',' ').replace('\\\\', ' ').replace('. com', '.com')\n",
    "    return Formatted_text\n",
    "print(\"input: \", \"This is her \\\\ first day at this place.\\n Please,\\t Be nice to her.\\\\n\")\n",
    "print(\"Output: \"),remove_newlines_tabs(\"This is her \\\\ first day at this place.\\n Please,\\t Be nice to her.\\\\n\")"
   ]
  },
  {
   "cell_type": "markdown",
   "id": "f9734f17",
   "metadata": {},
   "source": [
    "### Remove Links"
   ]
  },
  {
   "cell_type": "code",
   "execution_count": 11,
   "id": "0b59043d",
   "metadata": {},
   "outputs": [
    {
     "data": {
      "text/plain": [
       "' website:   visit:  adasfas ad as'"
      ]
     },
     "execution_count": 11,
     "metadata": {},
     "output_type": "execute_result"
    }
   ],
   "source": [
    "def remove_links(text):\n",
    "    # Removing all the occurrences of links that starts with https\n",
    "    remove_https = re.sub(r'http\\S+', '', text)\n",
    "    # Remove all the occurrences of text that ends with .com\n",
    "    remove_com = re.sub(r\"\\ [A-Za-z]*\\.com\", \" \", remove_https)\n",
    "    return remove_com\n",
    "\n",
    "remove_links(\" website: catster.com  visit: https://catster.com//how-to-feed-cats adasfas ad as\")\n"
   ]
  },
  {
   "cell_type": "markdown",
   "id": "5c17ca83",
   "metadata": {},
   "source": [
    "### Remove WhiteSpaces"
   ]
  },
  {
   "cell_type": "code",
   "execution_count": 12,
   "id": "690946a8",
   "metadata": {},
   "outputs": [
    {
     "data": {
      "text/plain": [
       "'How are you doing ?  (pakistan) ABC'"
      ]
     },
     "execution_count": 12,
     "metadata": {},
     "output_type": "execute_result"
    }
   ],
   "source": [
    "def remove_whitespace(text):\n",
    "    pattern = re.compile(r'\\s+') \n",
    "    Without_whitespace = re.sub(pattern, ' ', text)\n",
    "    # There are some instances where there is no space after '?' & ')', \n",
    "    # So I am replacing these with one space so that It will not consider two words as one token.\n",
    "    text = Without_whitespace.replace('?', ' ? ').replace(')', ') ')\n",
    "    return text    \n",
    "\n",
    "remove_whitespace(\"How   are  \\t you \\n   doing? (pakistan)ABC\")\n"
   ]
  },
  {
   "cell_type": "markdown",
   "id": "244c7ff5",
   "metadata": {},
   "source": [
    "### Remove Accented Characters"
   ]
  },
  {
   "cell_type": "code",
   "execution_count": 13,
   "id": "ec04fc60",
   "metadata": {},
   "outputs": [
    {
     "data": {
      "text/plain": [
       "'Malaga, aeeohello'"
      ]
     },
     "execution_count": 13,
     "metadata": {},
     "output_type": "execute_result"
    }
   ],
   "source": [
    "def accented_characters_removal(text):\n",
    "    # Remove accented characters from text using unidecode.\n",
    "    # Unidecode() - It takes unicode data & tries to represent it to ASCII characters. \n",
    "    text = unidecode.unidecode(text)\n",
    "    return text\n",
    "\n",
    "accented_characters_removal(\"Málaga, àéêöhello\")"
   ]
  },
  {
   "cell_type": "markdown",
   "id": "bc635860",
   "metadata": {},
   "source": [
    "### Case Conversion"
   ]
  },
  {
   "cell_type": "code",
   "execution_count": 14,
   "id": "fa065bee",
   "metadata": {},
   "outputs": [
    {
     "data": {
      "text/plain": [
       "'pakistan zinda bad!'"
      ]
     },
     "execution_count": 14,
     "metadata": {},
     "output_type": "execute_result"
    }
   ],
   "source": [
    "def lower_casing_text(text):\n",
    "    # Convert text to lower case\n",
    "    # lower() - It converts all upperase letter of given string to lowercase.\n",
    "    text = text.lower()\n",
    "    return text\n",
    "\n",
    "lower_casing_text(\"Pakistan Zinda BAD!\")"
   ]
  },
  {
   "cell_type": "markdown",
   "id": "47ec051a",
   "metadata": {},
   "source": [
    "### Reduce repeated characters and punctuations"
   ]
  },
  {
   "cell_type": "code",
   "execution_count": 15,
   "id": "102b0c5b",
   "metadata": {},
   "outputs": [
    {
     "data": {
      "text/plain": [
       "'Reallyy, Greeaatt !?.;:)'"
      ]
     },
     "execution_count": 15,
     "metadata": {},
     "output_type": "execute_result"
    }
   ],
   "source": [
    "def reducing_incorrect_character_repeatation(text):\n",
    "    # Pattern matching for all case alphabets\n",
    "    Pattern_alpha = re.compile(r\"([A-Za-z])\\1{1,}\", re.DOTALL)\n",
    "    \n",
    "    # Limiting all the  repeatation to two characters.\n",
    "    Formatted_text = Pattern_alpha.sub(r\"\\1\\1\", text) \n",
    "    \n",
    "    # Pattern matching for all the punctuations that can occur\n",
    "    Pattern_Punct = re.compile(r'([.,/#!$%^&*?;:{}=_`~()+-])\\1{1,}')\n",
    "    \n",
    "    # Limiting punctuations in previously formatted string to only one.\n",
    "    Combined_Formatted = Pattern_Punct.sub(r'\\1', Formatted_text)\n",
    "    \n",
    "    # The below statement is replacing repeatation of spaces that occur more than two times with that of one occurrence.\n",
    "    Final_Formatted = re.sub(' {2,}',' ', Combined_Formatted)\n",
    "    return Final_Formatted\n",
    "\n",
    "reducing_incorrect_character_repeatation(\"Realllllllllyyyyy,        Greeeeaaaatttt   !!!!?....;;;;:)\")"
   ]
  },
  {
   "cell_type": "markdown",
   "id": "d33112ee",
   "metadata": {},
   "source": [
    "### Expand contraction words"
   ]
  },
  {
   "cell_type": "code",
   "execution_count": 16,
   "id": "3cec2f05",
   "metadata": {},
   "outputs": [
    {
     "data": {
      "text/plain": [
       "\"is not , are not , cannot , cannot've\""
      ]
     },
     "execution_count": 16,
     "metadata": {},
     "output_type": "execute_result"
    }
   ],
   "source": [
    "CONTRACTION_MAP = {\n",
    "\"ain't\": \"is not\",\n",
    "\"aren't\": \"are not\",\n",
    "\"can't\": \"cannot\",\n",
    "\"can't've\": \"cannot have\",\n",
    "\"'cause\": \"because\",\n",
    "\"could've\": \"could have\",\n",
    "\"couldn't\": \"could not\",\n",
    "\"couldn't've\": \"could not have\",\n",
    "\"didn't\": \"did not\",\n",
    "\"doesn't\": \"does not\",\n",
    "\"don't\": \"do not\",\n",
    "\"hadn't\": \"had not\",\n",
    "\"hadn't've\": \"had not have\",\n",
    "\"hasn't\": \"has not\",\n",
    "\"haven't\": \"have not\",\n",
    "\"he'd\": \"he would\",\n",
    "\"he'd've\": \"he would have\",\n",
    "\"he'll\": \"he will\",\n",
    "\"he'll've\": \"he he will have\",\n",
    "\"he's\": \"he is\",\n",
    "\"how'd\": \"how did\",\n",
    "\"how'd'y\": \"how do you\",\n",
    "\"how'll\": \"how will\",\n",
    "\"how's\": \"how is\",\n",
    "\"i'd\": \"i would\",\n",
    "\"i'd've\": \"i would have\",\n",
    "\"i'll\": \"i will\",\n",
    "\"i'll've\": \"i will have\",\n",
    "\"i'm\": \"i am\",\n",
    "\"i've\": \"i have\",\n",
    "\"isn't\": \"is not\",\n",
    "\"it'd\": \"it would\",\n",
    "\"it'd've\": \"it would have\",\n",
    "\"it'll\": \"it will\",\n",
    "\"it'll've\": \"it will have\",\n",
    "\"it's\": \"it is\",\n",
    "\"let's\": \"let us\",\n",
    "\"ma'am\": \"madam\",\n",
    "\"mayn't\": \"may not\",\n",
    "\"might've\": \"might have\",\n",
    "\"mightn't\": \"might not\",\n",
    "\"mightn't've\": \"might not have\",\n",
    "\"must've\": \"must have\",\n",
    "\"mustn't\": \"must not\",\n",
    "\"mustn't've\": \"must not have\",\n",
    "\"needn't\": \"need not\",\n",
    "\"needn't've\": \"need not have\",\n",
    "\"o'clock\": \"of the clock\",\n",
    "\"oughtn't\": \"ought not\",\n",
    "\"oughtn't've\": \"ought not have\",\n",
    "\"shan't\": \"shall not\",\n",
    "\"sha'n't\": \"shall not\",\n",
    "\"shan't've\": \"shall not have\",\n",
    "\"she'd\": \"she would\",\n",
    "\"she'd've\": \"she would have\",\n",
    "\"she'll\": \"she will\",\n",
    "\"she'll've\": \"she will have\",\n",
    "\"she's\": \"she is\",\n",
    "\"should've\": \"should have\",\n",
    "\"shouldn't\": \"should not\",\n",
    "\"shouldn't've\": \"should not have\",\n",
    "\"so've\": \"so have\",\n",
    "\"so's\": \"so as\",\n",
    "\"that'd\": \"that would\",\n",
    "\"that'd've\": \"that would have\",\n",
    "\"that's\": \"that is\",\n",
    "\"there'd\": \"there would\",\n",
    "\"there'd've\": \"there would have\",\n",
    "\"there's\": \"there is\",\n",
    "\"they'd\": \"they would\",\n",
    "\"they'd've\": \"they would have\",\n",
    "\"they'll\": \"they will\",\n",
    "\"they'll've\": \"they will have\",\n",
    "\"they're\": \"they are\",\n",
    "\"they've\": \"they have\",\n",
    "\"to've\": \"to have\",\n",
    "\"wasn't\": \"was not\",\n",
    "\"we'd\": \"we would\",\n",
    "\"we'd've\": \"we would have\",\n",
    "\"we'll\": \"we will\",\n",
    "\"we'll've\": \"we will have\",\n",
    "\"we're\": \"we are\",\n",
    "\"we've\": \"we have\",\n",
    "\"weren't\": \"were not\",\n",
    "\"what'll\": \"what will\",\n",
    "\"what'll've\": \"what will have\",\n",
    "\"what're\": \"what are\",\n",
    "\"what's\": \"what is\",\n",
    "\"what've\": \"what have\",\n",
    "\"when's\": \"when is\",\n",
    "\"when've\": \"when have\",\n",
    "\"where'd\": \"where did\",\n",
    "\"where's\": \"where is\",\n",
    "\"where've\": \"where have\",\n",
    "\"who'll\": \"who will\",\n",
    "\"who'll've\": \"who will have\",\n",
    "\"who's\": \"who is\",\n",
    "\"who've\": \"who have\",\n",
    "\"why's\": \"why is\",\n",
    "\"why've\": \"why have\",\n",
    "\"will've\": \"will have\",\n",
    "\"won't\": \"will not\",\n",
    "\"won't've\": \"will not have\",\n",
    "\"would've\": \"would have\",\n",
    "\"wouldn't\": \"would not\",\n",
    "\"wouldn't've\": \"would not have\",\n",
    "\"y'all\": \"you all\",\n",
    "\"y'all'd\": \"you all would\",\n",
    "\"y'all'd've\": \"you all would have\",\n",
    "\"y'all're\": \"you all are\",\n",
    "\"y'all've\": \"you all have\",\n",
    "\"you'd\": \"you would\",\n",
    "\"you'd've\": \"you would have\",\n",
    "\"you'll\": \"you will\",\n",
    "\"you'll've\": \"you will have\",\n",
    "\"you're\": \"you are\",\n",
    "\"you've\": \"you have\",\n",
    "}\n",
    "# The code for expanding contraction words\n",
    "def expand_contractions(text, contraction_mapping =  CONTRACTION_MAP):\n",
    "    # Tokenizing text into tokens.\n",
    "    list_Of_tokens = text.split(' ')\n",
    "\n",
    "    # Checking for whether the given token matches with the Key & replacing word with key's value.\n",
    "    \n",
    "    # Check whether Word is in lidt_Of_tokens or not.\n",
    "    for Word in list_Of_tokens: \n",
    "        # Check whether found word is in dictionary \"Contraction Map\" or not as a key. \n",
    "         if Word in CONTRACTION_MAP: \n",
    "                # If Word is present in both dictionary & list_Of_tokens, replace that word with the key value.\n",
    "                list_Of_tokens = [item.replace(Word, CONTRACTION_MAP[Word]) for item in list_Of_tokens]\n",
    "                \n",
    "    # Converting list of tokens to String.\n",
    "    String_Of_tokens = ' '.join(str(e) for e in list_Of_tokens) \n",
    "    return String_Of_tokens    \n",
    "\n",
    "expand_contractions(\"ain't , aren't , can't , can't've\")\n"
   ]
  },
  {
   "cell_type": "markdown",
   "id": "d819d87f",
   "metadata": {},
   "source": [
    "### Remove special characters"
   ]
  },
  {
   "cell_type": "code",
   "execution_count": 17,
   "id": "52a40776",
   "metadata": {},
   "outputs": [
    {
     "data": {
      "text/plain": [
       "' Hello, K a j a l. Thi*s is $100.05 : the payment that you will recieve! (Is this okay?) '"
      ]
     },
     "execution_count": 17,
     "metadata": {},
     "output_type": "execute_result"
    }
   ],
   "source": [
    "def removing_special_characters(text):\n",
    "    # The formatted text after removing not necessary punctuations.\n",
    "    Formatted_Text = re.sub(r\"[^a-zA-Z0-9:$-,%.?!]+\", ' ', text) \n",
    "    # In the above regex expression,I am providing necessary set of punctuations that are frequent in this particular dataset.\n",
    "    return Formatted_Text\n",
    "\n",
    "removing_special_characters(\" Hello, K-a-j-a-l. Thi*s is $100.05 : the payment that you will recieve! (Is this okay?) \")"
   ]
  },
  {
   "cell_type": "markdown",
   "id": "9a0ca4f1",
   "metadata": {},
   "source": [
    "## NLP pipeline:"
   ]
  },
  {
   "cell_type": "code",
   "execution_count": 18,
   "id": "4bfd5d8b",
   "metadata": {},
   "outputs": [
    {
     "name": "stdout",
     "output_type": "stream",
     "text": [
      "A phrase is made up of a head (or headword)—which determines the grammatical nature of the unit—and one or more optional modifiers.\n",
      "Phrases may contain other phrases inside them.\n"
     ]
    }
   ],
   "source": [
    "#Example:\n",
    "# Variable that stores the whole paragraph\n",
    "text = \"A phrase is made up of a head (or headword)—which determines the grammatical nature of the unit—and one or more optional modifiers. Phrases may contain other phrases inside them.\"\n",
    "\n",
    "# Tokenize paragraph into sentences\n",
    "sentences = nltk.sent_tokenize(text)\n",
    "\n",
    "# Print out sentences\n",
    "for sentence in sentences:\n",
    "\tprint(sentence)"
   ]
  },
  {
   "cell_type": "markdown",
   "id": "e08c90bd",
   "metadata": {},
   "source": [
    "### Word Tokenization:"
   ]
  },
  {
   "cell_type": "code",
   "execution_count": 19,
   "id": "ca1dec3c",
   "metadata": {},
   "outputs": [
    {
     "data": {
      "text/plain": [
       "['A',\n",
       " 'phrase',\n",
       " 'is',\n",
       " 'made',\n",
       " 'up',\n",
       " 'of',\n",
       " 'a',\n",
       " 'head',\n",
       " '(',\n",
       " 'or',\n",
       " 'headword',\n",
       " ')',\n",
       " '—which',\n",
       " 'determines',\n",
       " 'the',\n",
       " 'grammatical',\n",
       " 'nature',\n",
       " 'of',\n",
       " 'the',\n",
       " 'unit—and',\n",
       " 'one',\n",
       " 'or',\n",
       " 'more',\n",
       " 'optional',\n",
       " 'modifiers',\n",
       " '.',\n",
       " 'Phrases',\n",
       " 'may',\n",
       " 'contain',\n",
       " 'other',\n",
       " 'phrases',\n",
       " 'inside',\n",
       " 'them',\n",
       " '.']"
      ]
     },
     "execution_count": 19,
     "metadata": {},
     "output_type": "execute_result"
    }
   ],
   "source": [
    "from nltk.tokenize import word_tokenize \n",
    "\n",
    "def token(text):\n",
    "    tokens = word_tokenize(text)\n",
    "    return tokens\n",
    "    \n",
    "token(\"A phrase is made up of a head (or headword)—which determines the grammatical nature of the unit—and one or more optional modifiers. Phrases may contain other phrases inside them.\")"
   ]
  },
  {
   "cell_type": "markdown",
   "id": "d34a73db",
   "metadata": {},
   "source": [
    "### POS Tagging:"
   ]
  },
  {
   "cell_type": "code",
   "execution_count": 20,
   "id": "3045ba27",
   "metadata": {},
   "outputs": [],
   "source": [
    "from nltk import pos_tag \n",
    "def partsofspeech(text):\n",
    "    tokens = word_tokenize(text)\n",
    "    pos_tags = pos_tag(tokens)\n",
    "    return pos_tags\n",
    "\n"
   ]
  },
  {
   "cell_type": "markdown",
   "id": "92dc04f8",
   "metadata": {},
   "source": [
    "### Text Lemmatization:"
   ]
  },
  {
   "cell_type": "code",
   "execution_count": 21,
   "id": "14d37ba9",
   "metadata": {},
   "outputs": [],
   "source": [
    "def lemmat(text):\n",
    "    tokens = word_tokenize(text) # tokens\n",
    "    lemmatizer = nltk.stem.WordNetLemmatizer() # lemmatizer\n",
    "    lemma = [lemmatizer.lemmatize(w) for w in tokens]\n",
    "    tokens_without_sw = [word for word in lemma if not word in stopwords.words('english')]\n",
    "    return tokens_without_sw\n"
   ]
  },
  {
   "cell_type": "markdown",
   "id": "0104e959",
   "metadata": {},
   "source": [
    "### Stopwords"
   ]
  },
  {
   "cell_type": "code",
   "execution_count": 22,
   "id": "18b00a08",
   "metadata": {},
   "outputs": [],
   "source": [
    "def stop(text):\n",
    "    tokens_without_sw = [word for word in text if not word in stopwords.words('english')]\n",
    "    return tokens_without_sw\n"
   ]
  },
  {
   "cell_type": "markdown",
   "id": "77888631",
   "metadata": {},
   "source": [
    "## Putting all in single function"
   ]
  },
  {
   "cell_type": "code",
   "execution_count": 23,
   "id": "2b719684",
   "metadata": {},
   "outputs": [],
   "source": [
    "def text_preprocessing(text, newlines_tabs=True,links=True,extra_whitespace=True,accented_chars=True,lowercase=True, contractions=True, punctuations=True,special_chars=True,tokenization=False,lemmatization_allow = True,stop_words=False):\n",
    "    \n",
    "    if newlines_tabs==True:\n",
    "        data = remove_newlines_tabs(text)\n",
    "    if links == True:\n",
    "        data = remove_links(text)\n",
    "    if extra_whitespace==True:\n",
    "        data = remove_whitespace(text)\n",
    "    if accented_chars==True:\n",
    "        data = accented_characters_removal(text)\n",
    "    if lowercase==True:\n",
    "        data = lower_casing_text(text)\n",
    "    if contractions==True:\n",
    "        data = expand_contractions(text)\n",
    "    if punctuations==True:\n",
    "        data = reducing_incorrect_character_repeatation(text)\n",
    "    if special_chars==True:\n",
    "        data = removing_special_characters(text)\n",
    "    if lemmatization_allow==True:\n",
    "        data = lemmat(text)\n",
    "    return data    \n",
    "        \n",
    "    "
   ]
  },
  {
   "cell_type": "markdown",
   "id": "d4596aa8",
   "metadata": {},
   "source": [
    "### Now apply function on dataset"
   ]
  },
  {
   "cell_type": "code",
   "execution_count": 24,
   "id": "c7c055a3",
   "metadata": {},
   "outputs": [
    {
     "data": {
      "text/html": [
       "<div>\n",
       "<style scoped>\n",
       "    .dataframe tbody tr th:only-of-type {\n",
       "        vertical-align: middle;\n",
       "    }\n",
       "\n",
       "    .dataframe tbody tr th {\n",
       "        vertical-align: top;\n",
       "    }\n",
       "\n",
       "    .dataframe thead th {\n",
       "        text-align: right;\n",
       "    }\n",
       "</style>\n",
       "<table border=\"1\" class=\"dataframe\">\n",
       "  <thead>\n",
       "    <tr style=\"text-align: right;\">\n",
       "      <th></th>\n",
       "      <th>Phrase</th>\n",
       "      <th>Sentiment</th>\n",
       "    </tr>\n",
       "  </thead>\n",
       "  <tbody>\n",
       "    <tr>\n",
       "      <th>154379</th>\n",
       "      <td>wonderfully speculative</td>\n",
       "      <td>4</td>\n",
       "    </tr>\n",
       "    <tr>\n",
       "      <th>154423</th>\n",
       "      <td>Nonchalantly freaky and uncommonly pleasurable...</td>\n",
       "      <td>4</td>\n",
       "    </tr>\n",
       "    <tr>\n",
       "      <th>154429</th>\n",
       "      <td>, Warm Water may well be the year 's best and ...</td>\n",
       "      <td>4</td>\n",
       "    </tr>\n",
       "    <tr>\n",
       "      <th>154430</th>\n",
       "      <td>Warm Water may well be the year 's best and mo...</td>\n",
       "      <td>4</td>\n",
       "    </tr>\n",
       "    <tr>\n",
       "      <th>154432</th>\n",
       "      <td>may well be the year 's best and most unpredic...</td>\n",
       "      <td>4</td>\n",
       "    </tr>\n",
       "    <tr>\n",
       "      <th>...</th>\n",
       "      <td>...</td>\n",
       "      <td>...</td>\n",
       "    </tr>\n",
       "    <tr>\n",
       "      <th>155946</th>\n",
       "      <td>is laughingly enjoyable</td>\n",
       "      <td>4</td>\n",
       "    </tr>\n",
       "    <tr>\n",
       "      <th>155955</th>\n",
       "      <td>a unique culture that is presented with univer...</td>\n",
       "      <td>4</td>\n",
       "    </tr>\n",
       "    <tr>\n",
       "      <th>155961</th>\n",
       "      <td>with universal appeal</td>\n",
       "      <td>4</td>\n",
       "    </tr>\n",
       "    <tr>\n",
       "      <th>156007</th>\n",
       "      <td>really do a great job of anchoring the charact...</td>\n",
       "      <td>4</td>\n",
       "    </tr>\n",
       "    <tr>\n",
       "      <th>156010</th>\n",
       "      <td>a great job of anchoring the characters in the...</td>\n",
       "      <td>4</td>\n",
       "    </tr>\n",
       "  </tbody>\n",
       "</table>\n",
       "<p>100 rows × 2 columns</p>\n",
       "</div>"
      ],
      "text/plain": [
       "                                                   Phrase  Sentiment\n",
       "154379                            wonderfully speculative          4\n",
       "154423  Nonchalantly freaky and uncommonly pleasurable...          4\n",
       "154429  , Warm Water may well be the year 's best and ...          4\n",
       "154430  Warm Water may well be the year 's best and mo...          4\n",
       "154432  may well be the year 's best and most unpredic...          4\n",
       "...                                                   ...        ...\n",
       "155946                            is laughingly enjoyable          4\n",
       "155955  a unique culture that is presented with univer...          4\n",
       "155961                              with universal appeal          4\n",
       "156007  really do a great job of anchoring the charact...          4\n",
       "156010  a great job of anchoring the characters in the...          4\n",
       "\n",
       "[100 rows x 2 columns]"
      ]
     },
     "execution_count": 24,
     "metadata": {},
     "output_type": "execute_result"
    }
   ],
   "source": [
    "df2.tail(100)"
   ]
  },
  {
   "cell_type": "code",
   "execution_count": 25,
   "id": "da4042be",
   "metadata": {},
   "outputs": [
    {
     "name": "stdout",
     "output_type": "stream",
     "text": [
      "Wall time: 1min 11s\n"
     ]
    }
   ],
   "source": [
    "\n",
    "%%time\n",
    "df2['Processed_Phrase']= df2.Phrase.apply(text_preprocessing)\n"
   ]
  },
  {
   "cell_type": "code",
   "execution_count": 26,
   "id": "4f67c55b",
   "metadata": {},
   "outputs": [
    {
     "data": {
      "text/html": [
       "<div>\n",
       "<style scoped>\n",
       "    .dataframe tbody tr th:only-of-type {\n",
       "        vertical-align: middle;\n",
       "    }\n",
       "\n",
       "    .dataframe tbody tr th {\n",
       "        vertical-align: top;\n",
       "    }\n",
       "\n",
       "    .dataframe thead th {\n",
       "        text-align: right;\n",
       "    }\n",
       "</style>\n",
       "<table border=\"1\" class=\"dataframe\">\n",
       "  <thead>\n",
       "    <tr style=\"text-align: right;\">\n",
       "      <th></th>\n",
       "      <th>Phrase</th>\n",
       "      <th>Sentiment</th>\n",
       "      <th>Processed_Phrase</th>\n",
       "    </tr>\n",
       "  </thead>\n",
       "  <tbody>\n",
       "    <tr>\n",
       "      <th>154379</th>\n",
       "      <td>wonderfully speculative</td>\n",
       "      <td>4</td>\n",
       "      <td>[wonderfully, speculative]</td>\n",
       "    </tr>\n",
       "    <tr>\n",
       "      <th>154423</th>\n",
       "      <td>Nonchalantly freaky and uncommonly pleasurable...</td>\n",
       "      <td>4</td>\n",
       "      <td>[Nonchalantly, freaky, uncommonly, pleasurable...</td>\n",
       "    </tr>\n",
       "    <tr>\n",
       "      <th>154429</th>\n",
       "      <td>, Warm Water may well be the year 's best and ...</td>\n",
       "      <td>4</td>\n",
       "      <td>[,, Warm, Water, may, well, year, 's, best, un...</td>\n",
       "    </tr>\n",
       "    <tr>\n",
       "      <th>154430</th>\n",
       "      <td>Warm Water may well be the year 's best and mo...</td>\n",
       "      <td>4</td>\n",
       "      <td>[Warm, Water, may, well, year, 's, best, unpre...</td>\n",
       "    </tr>\n",
       "    <tr>\n",
       "      <th>154432</th>\n",
       "      <td>may well be the year 's best and most unpredic...</td>\n",
       "      <td>4</td>\n",
       "      <td>[may, well, year, 's, best, unpredictable, com...</td>\n",
       "    </tr>\n",
       "    <tr>\n",
       "      <th>...</th>\n",
       "      <td>...</td>\n",
       "      <td>...</td>\n",
       "      <td>...</td>\n",
       "    </tr>\n",
       "    <tr>\n",
       "      <th>155946</th>\n",
       "      <td>is laughingly enjoyable</td>\n",
       "      <td>4</td>\n",
       "      <td>[laughingly, enjoyable]</td>\n",
       "    </tr>\n",
       "    <tr>\n",
       "      <th>155955</th>\n",
       "      <td>a unique culture that is presented with univer...</td>\n",
       "      <td>4</td>\n",
       "      <td>[unique, culture, presented, universal, appeal]</td>\n",
       "    </tr>\n",
       "    <tr>\n",
       "      <th>155961</th>\n",
       "      <td>with universal appeal</td>\n",
       "      <td>4</td>\n",
       "      <td>[universal, appeal]</td>\n",
       "    </tr>\n",
       "    <tr>\n",
       "      <th>156007</th>\n",
       "      <td>really do a great job of anchoring the charact...</td>\n",
       "      <td>4</td>\n",
       "      <td>[really, great, job, anchoring, character, emo...</td>\n",
       "    </tr>\n",
       "    <tr>\n",
       "      <th>156010</th>\n",
       "      <td>a great job of anchoring the characters in the...</td>\n",
       "      <td>4</td>\n",
       "      <td>[great, job, anchoring, character, emotional, ...</td>\n",
       "    </tr>\n",
       "  </tbody>\n",
       "</table>\n",
       "<p>100 rows × 3 columns</p>\n",
       "</div>"
      ],
      "text/plain": [
       "                                                   Phrase  Sentiment  \\\n",
       "154379                            wonderfully speculative          4   \n",
       "154423  Nonchalantly freaky and uncommonly pleasurable...          4   \n",
       "154429  , Warm Water may well be the year 's best and ...          4   \n",
       "154430  Warm Water may well be the year 's best and mo...          4   \n",
       "154432  may well be the year 's best and most unpredic...          4   \n",
       "...                                                   ...        ...   \n",
       "155946                            is laughingly enjoyable          4   \n",
       "155955  a unique culture that is presented with univer...          4   \n",
       "155961                              with universal appeal          4   \n",
       "156007  really do a great job of anchoring the charact...          4   \n",
       "156010  a great job of anchoring the characters in the...          4   \n",
       "\n",
       "                                         Processed_Phrase  \n",
       "154379                         [wonderfully, speculative]  \n",
       "154423  [Nonchalantly, freaky, uncommonly, pleasurable...  \n",
       "154429  [,, Warm, Water, may, well, year, 's, best, un...  \n",
       "154430  [Warm, Water, may, well, year, 's, best, unpre...  \n",
       "154432  [may, well, year, 's, best, unpredictable, com...  \n",
       "...                                                   ...  \n",
       "155946                            [laughingly, enjoyable]  \n",
       "155955    [unique, culture, presented, universal, appeal]  \n",
       "155961                                [universal, appeal]  \n",
       "156007  [really, great, job, anchoring, character, emo...  \n",
       "156010  [great, job, anchoring, character, emotional, ...  \n",
       "\n",
       "[100 rows x 3 columns]"
      ]
     },
     "execution_count": 26,
     "metadata": {},
     "output_type": "execute_result"
    }
   ],
   "source": [
    "df2.tail(100)"
   ]
  },
  {
   "cell_type": "code",
   "execution_count": 27,
   "id": "1ec31b9f",
   "metadata": {},
   "outputs": [
    {
     "data": {
      "text/html": [
       "<div>\n",
       "<style scoped>\n",
       "    .dataframe tbody tr th:only-of-type {\n",
       "        vertical-align: middle;\n",
       "    }\n",
       "\n",
       "    .dataframe tbody tr th {\n",
       "        vertical-align: top;\n",
       "    }\n",
       "\n",
       "    .dataframe thead th {\n",
       "        text-align: right;\n",
       "    }\n",
       "</style>\n",
       "<table border=\"1\" class=\"dataframe\">\n",
       "  <thead>\n",
       "    <tr style=\"text-align: right;\">\n",
       "      <th></th>\n",
       "      <th>Phrase</th>\n",
       "      <th>Sentiment</th>\n",
       "      <th>Processed_Phrase</th>\n",
       "    </tr>\n",
       "  </thead>\n",
       "  <tbody>\n",
       "    <tr>\n",
       "      <th>101</th>\n",
       "      <td>would have a hard time sitting through this one</td>\n",
       "      <td>0</td>\n",
       "      <td>[would, hard, time, sitting, one]</td>\n",
       "    </tr>\n",
       "    <tr>\n",
       "      <th>103</th>\n",
       "      <td>have a hard time sitting through this one</td>\n",
       "      <td>0</td>\n",
       "      <td>[hard, time, sitting, one]</td>\n",
       "    </tr>\n",
       "    <tr>\n",
       "      <th>157</th>\n",
       "      <td>Aggressive self-glorification and a manipulati...</td>\n",
       "      <td>0</td>\n",
       "      <td>[Aggressive, self-glorification, manipulative,...</td>\n",
       "    </tr>\n",
       "    <tr>\n",
       "      <th>159</th>\n",
       "      <td>self-glorification and a manipulative whitewash</td>\n",
       "      <td>0</td>\n",
       "      <td>[self-glorification, manipulative, whitewash]</td>\n",
       "    </tr>\n",
       "    <tr>\n",
       "      <th>201</th>\n",
       "      <td>Trouble Every Day is a plodding mess .</td>\n",
       "      <td>0</td>\n",
       "      <td>[Trouble, Every, Day, plodding, mess, .]</td>\n",
       "    </tr>\n",
       "    <tr>\n",
       "      <th>...</th>\n",
       "      <td>...</td>\n",
       "      <td>...</td>\n",
       "      <td>...</td>\n",
       "    </tr>\n",
       "    <tr>\n",
       "      <th>3172</th>\n",
       "      <td>cheap</td>\n",
       "      <td>0</td>\n",
       "      <td>[cheap]</td>\n",
       "    </tr>\n",
       "    <tr>\n",
       "      <th>3266</th>\n",
       "      <td>Violent , vulgar and forgettably</td>\n",
       "      <td>0</td>\n",
       "      <td>[Violent, ,, vulgar, forgettably]</td>\n",
       "    </tr>\n",
       "    <tr>\n",
       "      <th>3270</th>\n",
       "      <td>vulgar</td>\n",
       "      <td>0</td>\n",
       "      <td>[vulgar]</td>\n",
       "    </tr>\n",
       "    <tr>\n",
       "      <th>3475</th>\n",
       "      <td>at the expense of those who paid for it and th...</td>\n",
       "      <td>0</td>\n",
       "      <td>[expense, paid, pay, see]</td>\n",
       "    </tr>\n",
       "    <tr>\n",
       "      <th>3591</th>\n",
       "      <td>It 's hard to say who might enjoy this</td>\n",
       "      <td>0</td>\n",
       "      <td>[It, 's, hard, say, might, enjoy]</td>\n",
       "    </tr>\n",
       "  </tbody>\n",
       "</table>\n",
       "<p>102 rows × 3 columns</p>\n",
       "</div>"
      ],
      "text/plain": [
       "                                                 Phrase  Sentiment  \\\n",
       "101     would have a hard time sitting through this one          0   \n",
       "103           have a hard time sitting through this one          0   \n",
       "157   Aggressive self-glorification and a manipulati...          0   \n",
       "159     self-glorification and a manipulative whitewash          0   \n",
       "201              Trouble Every Day is a plodding mess .          0   \n",
       "...                                                 ...        ...   \n",
       "3172                                              cheap          0   \n",
       "3266                   Violent , vulgar and forgettably          0   \n",
       "3270                                             vulgar          0   \n",
       "3475  at the expense of those who paid for it and th...          0   \n",
       "3591             It 's hard to say who might enjoy this          0   \n",
       "\n",
       "                                       Processed_Phrase  \n",
       "101                   [would, hard, time, sitting, one]  \n",
       "103                          [hard, time, sitting, one]  \n",
       "157   [Aggressive, self-glorification, manipulative,...  \n",
       "159       [self-glorification, manipulative, whitewash]  \n",
       "201            [Trouble, Every, Day, plodding, mess, .]  \n",
       "...                                                 ...  \n",
       "3172                                            [cheap]  \n",
       "3266                  [Violent, ,, vulgar, forgettably]  \n",
       "3270                                           [vulgar]  \n",
       "3475                          [expense, paid, pay, see]  \n",
       "3591                  [It, 's, hard, say, might, enjoy]  \n",
       "\n",
       "[102 rows x 3 columns]"
      ]
     },
     "execution_count": 27,
     "metadata": {},
     "output_type": "execute_result"
    }
   ],
   "source": [
    "df2.head(102)"
   ]
  },
  {
   "cell_type": "code",
   "execution_count": 28,
   "id": "933d3896",
   "metadata": {},
   "outputs": [
    {
     "data": {
      "text/plain": [
       "['would', 'hard', 'time', 'sitting', 'one']"
      ]
     },
     "execution_count": 28,
     "metadata": {},
     "output_type": "execute_result"
    }
   ],
   "source": [
    "df2 = df2.reset_index()\n",
    "df2['Processed_Phrase'][0]"
   ]
  },
  {
   "cell_type": "code",
   "execution_count": 29,
   "id": "570cb071",
   "metadata": {},
   "outputs": [
    {
     "data": {
      "text/html": [
       "<div>\n",
       "<style scoped>\n",
       "    .dataframe tbody tr th:only-of-type {\n",
       "        vertical-align: middle;\n",
       "    }\n",
       "\n",
       "    .dataframe tbody tr th {\n",
       "        vertical-align: top;\n",
       "    }\n",
       "\n",
       "    .dataframe thead th {\n",
       "        text-align: right;\n",
       "    }\n",
       "</style>\n",
       "<table border=\"1\" class=\"dataframe\">\n",
       "  <thead>\n",
       "    <tr style=\"text-align: right;\">\n",
       "      <th></th>\n",
       "      <th>index</th>\n",
       "      <th>Phrase</th>\n",
       "      <th>Sentiment</th>\n",
       "      <th>Processed_Phrase</th>\n",
       "      <th>Processed_Phrase1</th>\n",
       "    </tr>\n",
       "  </thead>\n",
       "  <tbody>\n",
       "    <tr>\n",
       "      <th>0</th>\n",
       "      <td>101</td>\n",
       "      <td>would have a hard time sitting through this one</td>\n",
       "      <td>0</td>\n",
       "      <td>[would, hard, time, sitting, one]</td>\n",
       "      <td>would hard time sitting one</td>\n",
       "    </tr>\n",
       "    <tr>\n",
       "      <th>1</th>\n",
       "      <td>103</td>\n",
       "      <td>have a hard time sitting through this one</td>\n",
       "      <td>0</td>\n",
       "      <td>[hard, time, sitting, one]</td>\n",
       "      <td>hard time sitting one</td>\n",
       "    </tr>\n",
       "    <tr>\n",
       "      <th>2</th>\n",
       "      <td>157</td>\n",
       "      <td>Aggressive self-glorification and a manipulati...</td>\n",
       "      <td>0</td>\n",
       "      <td>[Aggressive, self-glorification, manipulative,...</td>\n",
       "      <td>Aggressive self-glorification manipulative whi...</td>\n",
       "    </tr>\n",
       "    <tr>\n",
       "      <th>3</th>\n",
       "      <td>159</td>\n",
       "      <td>self-glorification and a manipulative whitewash</td>\n",
       "      <td>0</td>\n",
       "      <td>[self-glorification, manipulative, whitewash]</td>\n",
       "      <td>self-glorification manipulative whitewash</td>\n",
       "    </tr>\n",
       "    <tr>\n",
       "      <th>4</th>\n",
       "      <td>201</td>\n",
       "      <td>Trouble Every Day is a plodding mess .</td>\n",
       "      <td>0</td>\n",
       "      <td>[Trouble, Every, Day, plodding, mess, .]</td>\n",
       "      <td>Trouble Every Day plodding mess .</td>\n",
       "    </tr>\n",
       "    <tr>\n",
       "      <th>...</th>\n",
       "      <td>...</td>\n",
       "      <td>...</td>\n",
       "      <td>...</td>\n",
       "      <td>...</td>\n",
       "      <td>...</td>\n",
       "    </tr>\n",
       "    <tr>\n",
       "      <th>16273</th>\n",
       "      <td>155946</td>\n",
       "      <td>is laughingly enjoyable</td>\n",
       "      <td>4</td>\n",
       "      <td>[laughingly, enjoyable]</td>\n",
       "      <td>laughingly enjoyable</td>\n",
       "    </tr>\n",
       "    <tr>\n",
       "      <th>16274</th>\n",
       "      <td>155955</td>\n",
       "      <td>a unique culture that is presented with univer...</td>\n",
       "      <td>4</td>\n",
       "      <td>[unique, culture, presented, universal, appeal]</td>\n",
       "      <td>unique culture presented universal appeal</td>\n",
       "    </tr>\n",
       "    <tr>\n",
       "      <th>16275</th>\n",
       "      <td>155961</td>\n",
       "      <td>with universal appeal</td>\n",
       "      <td>4</td>\n",
       "      <td>[universal, appeal]</td>\n",
       "      <td>universal appeal</td>\n",
       "    </tr>\n",
       "    <tr>\n",
       "      <th>16276</th>\n",
       "      <td>156007</td>\n",
       "      <td>really do a great job of anchoring the charact...</td>\n",
       "      <td>4</td>\n",
       "      <td>[really, great, job, anchoring, character, emo...</td>\n",
       "      <td>really great job anchoring character emotional...</td>\n",
       "    </tr>\n",
       "    <tr>\n",
       "      <th>16277</th>\n",
       "      <td>156010</td>\n",
       "      <td>a great job of anchoring the characters in the...</td>\n",
       "      <td>4</td>\n",
       "      <td>[great, job, anchoring, character, emotional, ...</td>\n",
       "      <td>great job anchoring character emotional realit...</td>\n",
       "    </tr>\n",
       "  </tbody>\n",
       "</table>\n",
       "<p>16278 rows × 5 columns</p>\n",
       "</div>"
      ],
      "text/plain": [
       "        index                                             Phrase  Sentiment  \\\n",
       "0         101    would have a hard time sitting through this one          0   \n",
       "1         103          have a hard time sitting through this one          0   \n",
       "2         157  Aggressive self-glorification and a manipulati...          0   \n",
       "3         159    self-glorification and a manipulative whitewash          0   \n",
       "4         201             Trouble Every Day is a plodding mess .          0   \n",
       "...       ...                                                ...        ...   \n",
       "16273  155946                            is laughingly enjoyable          4   \n",
       "16274  155955  a unique culture that is presented with univer...          4   \n",
       "16275  155961                              with universal appeal          4   \n",
       "16276  156007  really do a great job of anchoring the charact...          4   \n",
       "16277  156010  a great job of anchoring the characters in the...          4   \n",
       "\n",
       "                                        Processed_Phrase  \\\n",
       "0                      [would, hard, time, sitting, one]   \n",
       "1                             [hard, time, sitting, one]   \n",
       "2      [Aggressive, self-glorification, manipulative,...   \n",
       "3          [self-glorification, manipulative, whitewash]   \n",
       "4               [Trouble, Every, Day, plodding, mess, .]   \n",
       "...                                                  ...   \n",
       "16273                            [laughingly, enjoyable]   \n",
       "16274    [unique, culture, presented, universal, appeal]   \n",
       "16275                                [universal, appeal]   \n",
       "16276  [really, great, job, anchoring, character, emo...   \n",
       "16277  [great, job, anchoring, character, emotional, ...   \n",
       "\n",
       "                                       Processed_Phrase1  \n",
       "0                            would hard time sitting one  \n",
       "1                                  hard time sitting one  \n",
       "2      Aggressive self-glorification manipulative whi...  \n",
       "3              self-glorification manipulative whitewash  \n",
       "4                      Trouble Every Day plodding mess .  \n",
       "...                                                  ...  \n",
       "16273                               laughingly enjoyable  \n",
       "16274          unique culture presented universal appeal  \n",
       "16275                                   universal appeal  \n",
       "16276  really great job anchoring character emotional...  \n",
       "16277  great job anchoring character emotional realit...  \n",
       "\n",
       "[16278 rows x 5 columns]"
      ]
     },
     "execution_count": 29,
     "metadata": {},
     "output_type": "execute_result"
    }
   ],
   "source": [
    "df2['Processed_Phrase1'] = df2.Processed_Phrase.apply(lambda x:\" \".join(x))\n",
    "df2"
   ]
  },
  {
   "cell_type": "markdown",
   "id": "81141aaa",
   "metadata": {},
   "source": [
    "## Word Embedding or Text Vectorization"
   ]
  },
  {
   "cell_type": "markdown",
   "id": "04657104",
   "metadata": {},
   "source": [
    "There are various techniques used to do word embedding:\n",
    "- One Hot Encoding\n",
    "- Count Vectorizer\n",
    "- Bag of Words\n",
    "- N-grams Vectorization\n",
    "- TF-IDF Vectorization"
   ]
  },
  {
   "cell_type": "markdown",
   "id": "4f9c81e1",
   "metadata": {},
   "source": [
    "### Using TF-IDF Vectorization:"
   ]
  },
  {
   "cell_type": "code",
   "execution_count": 30,
   "id": "277abfe0",
   "metadata": {},
   "outputs": [
    {
     "name": "stdout",
     "output_type": "stream",
     "text": [
      "Wall time: 33.8 s\n"
     ]
    }
   ],
   "source": [
    "%%time\n",
    "from sklearn.feature_extraction.text import TfidfVectorizer\n",
    "vocabulary_ = []\n",
    "idf_ = []\n",
    "vectors = []\n",
    "# create the transform\n",
    "vectorizer = TfidfVectorizer()\n",
    "\n",
    "for i in df2['Processed_Phrase'].index:\n",
    "    vectorizer.fit(df2['Processed_Phrase'][i])\n",
    "    vocabulary_.append(vectorizer.vocabulary_)\n",
    "    idf_.append(vectorizer.idf_)\n",
    "    vector = vectorizer.transform(df2['Processed_Phrase'][i])\n",
    "    vectors.append(vector.toarray())\n",
    "\n",
    "df2.insert(4,\"Vocabularry\",vocabulary_,True)\n",
    "df2.insert(5,\"IDF\",idf_,True)\n"
   ]
  },
  {
   "cell_type": "code",
   "execution_count": 31,
   "id": "d9a4ecda",
   "metadata": {},
   "outputs": [],
   "source": [
    "df2.insert(6,\"Vectors\",vectors,True)"
   ]
  },
  {
   "cell_type": "code",
   "execution_count": 32,
   "id": "f4d4636d",
   "metadata": {},
   "outputs": [
    {
     "data": {
      "text/html": [
       "<div>\n",
       "<style scoped>\n",
       "    .dataframe tbody tr th:only-of-type {\n",
       "        vertical-align: middle;\n",
       "    }\n",
       "\n",
       "    .dataframe tbody tr th {\n",
       "        vertical-align: top;\n",
       "    }\n",
       "\n",
       "    .dataframe thead th {\n",
       "        text-align: right;\n",
       "    }\n",
       "</style>\n",
       "<table border=\"1\" class=\"dataframe\">\n",
       "  <thead>\n",
       "    <tr style=\"text-align: right;\">\n",
       "      <th></th>\n",
       "      <th>index</th>\n",
       "      <th>Phrase</th>\n",
       "      <th>Sentiment</th>\n",
       "      <th>Processed_Phrase</th>\n",
       "      <th>Vocabularry</th>\n",
       "      <th>IDF</th>\n",
       "      <th>Vectors</th>\n",
       "      <th>Processed_Phrase1</th>\n",
       "    </tr>\n",
       "  </thead>\n",
       "  <tbody>\n",
       "    <tr>\n",
       "      <th>16178</th>\n",
       "      <td>154379</td>\n",
       "      <td>wonderfully speculative</td>\n",
       "      <td>4</td>\n",
       "      <td>[wonderfully, speculative]</td>\n",
       "      <td>{'wonderfully': 1, 'speculative': 0}</td>\n",
       "      <td>[1.4054651081081644, 1.4054651081081644]</td>\n",
       "      <td>[[0.0, 1.0], [1.0, 0.0]]</td>\n",
       "      <td>wonderfully speculative</td>\n",
       "    </tr>\n",
       "    <tr>\n",
       "      <th>16179</th>\n",
       "      <td>154423</td>\n",
       "      <td>Nonchalantly freaky and uncommonly pleasurable...</td>\n",
       "      <td>4</td>\n",
       "      <td>[Nonchalantly, freaky, uncommonly, pleasurable...</td>\n",
       "      <td>{'nonchalantly': 4, 'freaky': 2, 'uncommonly':...</td>\n",
       "      <td>[3.0794415416798357, 3.0794415416798357, 3.079...</td>\n",
       "      <td>[[0.0, 0.0, 0.0, 0.0, 1.0, 0.0, 0.0, 0.0, 0.0,...</td>\n",
       "      <td>Nonchalantly freaky uncommonly pleasurable , W...</td>\n",
       "    </tr>\n",
       "    <tr>\n",
       "      <th>16180</th>\n",
       "      <td>154429</td>\n",
       "      <td>, Warm Water may well be the year 's best and ...</td>\n",
       "      <td>4</td>\n",
       "      <td>[,, Warm, Water, may, well, year, 's, best, un...</td>\n",
       "      <td>{'warm': 4, 'water': 5, 'may': 2, 'well': 6, '...</td>\n",
       "      <td>[2.791759469228055, 2.791759469228055, 2.79175...</td>\n",
       "      <td>[[0.0, 0.0, 0.0, 0.0, 0.0, 0.0, 0.0, 0.0], [0....</td>\n",
       "      <td>, Warm Water may well year 's best unpredictab...</td>\n",
       "    </tr>\n",
       "    <tr>\n",
       "      <th>16181</th>\n",
       "      <td>154430</td>\n",
       "      <td>Warm Water may well be the year 's best and mo...</td>\n",
       "      <td>4</td>\n",
       "      <td>[Warm, Water, may, well, year, 's, best, unpre...</td>\n",
       "      <td>{'warm': 4, 'water': 5, 'may': 2, 'well': 6, '...</td>\n",
       "      <td>[2.7047480922384253, 2.7047480922384253, 2.704...</td>\n",
       "      <td>[[0.0, 0.0, 0.0, 0.0, 1.0, 0.0, 0.0, 0.0], [0....</td>\n",
       "      <td>Warm Water may well year 's best unpredictable...</td>\n",
       "    </tr>\n",
       "    <tr>\n",
       "      <th>16182</th>\n",
       "      <td>154432</td>\n",
       "      <td>may well be the year 's best and most unpredic...</td>\n",
       "      <td>4</td>\n",
       "      <td>[may, well, year, 's, best, unpredictable, com...</td>\n",
       "      <td>{'may': 2, 'well': 4, 'year': 5, 'best': 0, 'u...</td>\n",
       "      <td>[2.386294361119891, 2.386294361119891, 2.38629...</td>\n",
       "      <td>[[0.0, 0.0, 1.0, 0.0, 0.0, 0.0], [0.0, 0.0, 0....</td>\n",
       "      <td>may well year 's best unpredictable comedy</td>\n",
       "    </tr>\n",
       "    <tr>\n",
       "      <th>...</th>\n",
       "      <td>...</td>\n",
       "      <td>...</td>\n",
       "      <td>...</td>\n",
       "      <td>...</td>\n",
       "      <td>...</td>\n",
       "      <td>...</td>\n",
       "      <td>...</td>\n",
       "      <td>...</td>\n",
       "    </tr>\n",
       "    <tr>\n",
       "      <th>16273</th>\n",
       "      <td>155946</td>\n",
       "      <td>is laughingly enjoyable</td>\n",
       "      <td>4</td>\n",
       "      <td>[laughingly, enjoyable]</td>\n",
       "      <td>{'laughingly': 1, 'enjoyable': 0}</td>\n",
       "      <td>[1.4054651081081644, 1.4054651081081644]</td>\n",
       "      <td>[[0.0, 1.0], [1.0, 0.0]]</td>\n",
       "      <td>laughingly enjoyable</td>\n",
       "    </tr>\n",
       "    <tr>\n",
       "      <th>16274</th>\n",
       "      <td>155955</td>\n",
       "      <td>a unique culture that is presented with univer...</td>\n",
       "      <td>4</td>\n",
       "      <td>[unique, culture, presented, universal, appeal]</td>\n",
       "      <td>{'unique': 3, 'culture': 1, 'presented': 2, 'u...</td>\n",
       "      <td>[2.09861228866811, 2.09861228866811, 2.0986122...</td>\n",
       "      <td>[[0.0, 0.0, 0.0, 1.0, 0.0], [0.0, 1.0, 0.0, 0....</td>\n",
       "      <td>unique culture presented universal appeal</td>\n",
       "    </tr>\n",
       "    <tr>\n",
       "      <th>16275</th>\n",
       "      <td>155961</td>\n",
       "      <td>with universal appeal</td>\n",
       "      <td>4</td>\n",
       "      <td>[universal, appeal]</td>\n",
       "      <td>{'universal': 1, 'appeal': 0}</td>\n",
       "      <td>[1.4054651081081644, 1.4054651081081644]</td>\n",
       "      <td>[[0.0, 1.0], [1.0, 0.0]]</td>\n",
       "      <td>universal appeal</td>\n",
       "    </tr>\n",
       "    <tr>\n",
       "      <th>16276</th>\n",
       "      <td>156007</td>\n",
       "      <td>really do a great job of anchoring the charact...</td>\n",
       "      <td>4</td>\n",
       "      <td>[really, great, job, anchoring, character, emo...</td>\n",
       "      <td>{'really': 8, 'great': 4, 'job': 5, 'anchoring...</td>\n",
       "      <td>[2.7047480922384253, 2.7047480922384253, 2.704...</td>\n",
       "      <td>[[0.0, 0.0, 0.0, 0.0, 0.0, 0.0, 0.0, 0.0, 1.0]...</td>\n",
       "      <td>really great job anchoring character emotional...</td>\n",
       "    </tr>\n",
       "    <tr>\n",
       "      <th>16277</th>\n",
       "      <td>156010</td>\n",
       "      <td>a great job of anchoring the characters in the...</td>\n",
       "      <td>4</td>\n",
       "      <td>[great, job, anchoring, character, emotional, ...</td>\n",
       "      <td>{'great': 4, 'job': 5, 'anchoring': 1, 'charac...</td>\n",
       "      <td>[2.504077396776274, 2.504077396776274, 2.50407...</td>\n",
       "      <td>[[0.0, 0.0, 0.0, 0.0, 1.0, 0.0, 0.0, 0.0], [0....</td>\n",
       "      <td>great job anchoring character emotional realit...</td>\n",
       "    </tr>\n",
       "  </tbody>\n",
       "</table>\n",
       "<p>100 rows × 8 columns</p>\n",
       "</div>"
      ],
      "text/plain": [
       "        index                                             Phrase  Sentiment  \\\n",
       "16178  154379                            wonderfully speculative          4   \n",
       "16179  154423  Nonchalantly freaky and uncommonly pleasurable...          4   \n",
       "16180  154429  , Warm Water may well be the year 's best and ...          4   \n",
       "16181  154430  Warm Water may well be the year 's best and mo...          4   \n",
       "16182  154432  may well be the year 's best and most unpredic...          4   \n",
       "...       ...                                                ...        ...   \n",
       "16273  155946                            is laughingly enjoyable          4   \n",
       "16274  155955  a unique culture that is presented with univer...          4   \n",
       "16275  155961                              with universal appeal          4   \n",
       "16276  156007  really do a great job of anchoring the charact...          4   \n",
       "16277  156010  a great job of anchoring the characters in the...          4   \n",
       "\n",
       "                                        Processed_Phrase  \\\n",
       "16178                         [wonderfully, speculative]   \n",
       "16179  [Nonchalantly, freaky, uncommonly, pleasurable...   \n",
       "16180  [,, Warm, Water, may, well, year, 's, best, un...   \n",
       "16181  [Warm, Water, may, well, year, 's, best, unpre...   \n",
       "16182  [may, well, year, 's, best, unpredictable, com...   \n",
       "...                                                  ...   \n",
       "16273                            [laughingly, enjoyable]   \n",
       "16274    [unique, culture, presented, universal, appeal]   \n",
       "16275                                [universal, appeal]   \n",
       "16276  [really, great, job, anchoring, character, emo...   \n",
       "16277  [great, job, anchoring, character, emotional, ...   \n",
       "\n",
       "                                             Vocabularry  \\\n",
       "16178               {'wonderfully': 1, 'speculative': 0}   \n",
       "16179  {'nonchalantly': 4, 'freaky': 2, 'uncommonly':...   \n",
       "16180  {'warm': 4, 'water': 5, 'may': 2, 'well': 6, '...   \n",
       "16181  {'warm': 4, 'water': 5, 'may': 2, 'well': 6, '...   \n",
       "16182  {'may': 2, 'well': 4, 'year': 5, 'best': 0, 'u...   \n",
       "...                                                  ...   \n",
       "16273                  {'laughingly': 1, 'enjoyable': 0}   \n",
       "16274  {'unique': 3, 'culture': 1, 'presented': 2, 'u...   \n",
       "16275                      {'universal': 1, 'appeal': 0}   \n",
       "16276  {'really': 8, 'great': 4, 'job': 5, 'anchoring...   \n",
       "16277  {'great': 4, 'job': 5, 'anchoring': 1, 'charac...   \n",
       "\n",
       "                                                     IDF  \\\n",
       "16178           [1.4054651081081644, 1.4054651081081644]   \n",
       "16179  [3.0794415416798357, 3.0794415416798357, 3.079...   \n",
       "16180  [2.791759469228055, 2.791759469228055, 2.79175...   \n",
       "16181  [2.7047480922384253, 2.7047480922384253, 2.704...   \n",
       "16182  [2.386294361119891, 2.386294361119891, 2.38629...   \n",
       "...                                                  ...   \n",
       "16273           [1.4054651081081644, 1.4054651081081644]   \n",
       "16274  [2.09861228866811, 2.09861228866811, 2.0986122...   \n",
       "16275           [1.4054651081081644, 1.4054651081081644]   \n",
       "16276  [2.7047480922384253, 2.7047480922384253, 2.704...   \n",
       "16277  [2.504077396776274, 2.504077396776274, 2.50407...   \n",
       "\n",
       "                                                 Vectors  \\\n",
       "16178                           [[0.0, 1.0], [1.0, 0.0]]   \n",
       "16179  [[0.0, 0.0, 0.0, 0.0, 1.0, 0.0, 0.0, 0.0, 0.0,...   \n",
       "16180  [[0.0, 0.0, 0.0, 0.0, 0.0, 0.0, 0.0, 0.0], [0....   \n",
       "16181  [[0.0, 0.0, 0.0, 0.0, 1.0, 0.0, 0.0, 0.0], [0....   \n",
       "16182  [[0.0, 0.0, 1.0, 0.0, 0.0, 0.0], [0.0, 0.0, 0....   \n",
       "...                                                  ...   \n",
       "16273                           [[0.0, 1.0], [1.0, 0.0]]   \n",
       "16274  [[0.0, 0.0, 0.0, 1.0, 0.0], [0.0, 1.0, 0.0, 0....   \n",
       "16275                           [[0.0, 1.0], [1.0, 0.0]]   \n",
       "16276  [[0.0, 0.0, 0.0, 0.0, 0.0, 0.0, 0.0, 0.0, 1.0]...   \n",
       "16277  [[0.0, 0.0, 0.0, 0.0, 1.0, 0.0, 0.0, 0.0], [0....   \n",
       "\n",
       "                                       Processed_Phrase1  \n",
       "16178                            wonderfully speculative  \n",
       "16179  Nonchalantly freaky uncommonly pleasurable , W...  \n",
       "16180  , Warm Water may well year 's best unpredictab...  \n",
       "16181  Warm Water may well year 's best unpredictable...  \n",
       "16182         may well year 's best unpredictable comedy  \n",
       "...                                                  ...  \n",
       "16273                               laughingly enjoyable  \n",
       "16274          unique culture presented universal appeal  \n",
       "16275                                   universal appeal  \n",
       "16276  really great job anchoring character emotional...  \n",
       "16277  great job anchoring character emotional realit...  \n",
       "\n",
       "[100 rows x 8 columns]"
      ]
     },
     "execution_count": 32,
     "metadata": {},
     "output_type": "execute_result"
    }
   ],
   "source": [
    "df2.tail(100)"
   ]
  },
  {
   "cell_type": "code",
   "execution_count": 33,
   "id": "1ca0b5dd",
   "metadata": {},
   "outputs": [
    {
     "name": "stdout",
     "output_type": "stream",
     "text": [
      "{'would': 9829, 'hard': 4052, 'time': 8877, 'sitting': 7917, 'one': 6040, 'aggressive': 278, 'self': 7677, 'glorification': 3797, 'manipulative': 5360, 'whitewash': 9703, 'trouble': 9062, 'every': 3045, 'day': 2127, 'plodding': 6522, 'mess': 5527, 'could': 1911, 'hate': 4076, 'reason': 7003, 'oedekerk': 6009, 'realization': 6995, 'childhood': 1463, 'dream': 2624, 'martial': 5397, 'arts': 553, 'flick': 3438, 'prof': 6751, 'sometimes': 8081, 'youth': 9888, 'remain': 7131, 'baseball': 766, 'movie': 5725, 'try': 9077, 'mythic': 5786, 'hampered': 4017, 'paralyzed': 6247, 'indulgent': 4509, 'script': 7616, 'aim': 294, 'poetry': 6544, 'end': 2884, 'sounding': 8114, 'like': 5130, 'satire': 7512, 'there': 8806, 'little': 5176, 'sense': 7691, 'going': 3821, 'avoid': 663, 'almost': 339, 'feel': 3299, 'interested': 4645, 'entertaining': 2946, 'amusing': 391, 'the': 8791, 'progression': 6764, 'rambling': 6930, 'incoherence': 4465, 'give': 3776, 'new': 5877, 'meaning': 5461, 'phrase': 6426, 'fatal': 3267, 'error': 2992, 'tartakovsky': 8695, 'team': 8716, 'ha': 3991, 'freakish': 3564, 'power': 6631, 'visual': 9511, 'charm': 1417, 'five': 3393, 'writer': 9844, 'slip': 7981, 'modern': 5638, 'rut': 7445, 'narrative': 5812, 'banality': 726, 'bad': 699, 'sure': 8559, 'filmmaker': 3360, 'disagree': 2419, 'honestly': 4233, 'see': 7657, 'point': 6548, 'clunky': 1599, 'tv': 9108, 'approach': 493, 'thanks': 8788, 'largely': 5006, 'williams': 9734, 'interesting': 4646, 'development': 2345, 'processed': 6744, '60': 73, 'minute': 5584, 'rest': 7231, 'overexposed': 6145, 'waste': 9599, 'film': 3355, 'comes': 1661, 'across': 172, 'relic': 7123, 'bygone': 1218, 'era': 2982, 'convolution': 1872, 'silly': 7879, 'rather': 6962, 'plausible': 6496, 'run': 7431, 'life': 5116, 'make': 5329, 'teeth': 8740, 'hurt': 4317, 'its': 4741, 'generic': 3724, 'villain': 9485, 'lack': 4968, 'intrigue': 4668, 'lrb': 5255, 'funny': 3642, 'accent': 133, 'rrb': 7414, 'action': 176, 'scene': 7554, 'poorly': 6578, 'delivered': 2227, 'downright': 2591, 'transparent': 8997, 'endless': 2891, 'assault': 576, 'embarrassingly': 2838, 'ham': 4011, 'fisted': 3389, 'sex': 7747, 'joke': 4808, 'reek': 7059, 'rewrite': 7284, 'designed': 2305, 'garner': 3690, 'cooler': 1877, 'pg': 6404, '13': 16, 'rating': 6963, 'impossible': 4421, 'go': 3809, 'overboard': 6139, 'loony': 5216, 'melodramatic': 5494, 'denouement': 2256, 'high': 4167, 'school': 7573, 'swimming': 8625, 'pool': 6575, 'substitute': 8474, 'bathtub': 780, 'directed': 2407, 'barely': 747, 'lazy': 5043, 'solving': 8071, 'problem': 6738, 'trying': 9078, 'distract': 2505, 'solution': 8070, 'another': 438, 'music': 5763, 'comic': 1665, 'antic': 446, 'perverse': 6393, 'pleasure': 6515, 'watching': 9606, 'disney': 2476, 'scrape': 7598, 'bottom': 1043, 'cracker': 1940, 'barrel': 757, 'scarcely': 7545, 'worth': 9825, 'mention': 5512, 'apart': 461, 'reporting': 7182, 'number': 5965, 'tumbleweed': 9089, 'blowing': 962, 'empty': 2870, 'theatre': 8793, 'graced': 3866, 'company': 1691, 'analyze': 399, 'that': 8790, 'crass': 1958, 'contrived': 1844, 'sequel': 7709, 'fails': 3214, 'second': 7646, 'guess': 3961, 'affection': 252, 'original': 6093, 'particularly': 6269, 'good': 3832, 'comedy': 1660, 'equivalent': 2980, 'saddam': 7458, 'hussein': 4319, 'ready': 6987, 'ask': 566, 'permission': 6374, 'preemptive': 6665, 'strike': 8401, 'consistently': 1805, 'unimaginative': 9274, 'probably': 6733, 'way': 9615, 'saved': 7525, 'aid': 289, 'wisecracking': 9760, 'mystery': 5782, 'science': 7579, 'theater': 8792, '3000': 58, 'guy': 3985, 'mawkish': 5438, 'parody': 6263, 'play': 6497, 'weird': 9651, 'masterpiece': 5420, 'sketch': 7928, 'neither': 5860, 'view': 9476, 'compelling': 1699, 'takes': 8670, 'character': 1401, 'believe': 836, 'put': 6863, 'battle': 781, 'care': 1301, 'knock': 4930, 'enjoy': 2922, 'big': 884, 'screen': 7605, 'postcard': 6616, 'glorified': 3798, 'martin': 5398, 'lawrence': 5035, 'lovefest': 5243, 'whole': 9705, 'sneaky': 8033, 'director': 2412, 'dupe': 2699, 'viewer': 9478, 'taking': 8671, 'very': 9455, 'important': 4419, 'simply': 7890, 'ugly': 9132, 'look': 5212, 'hollywood': 4220, 'product': 6749, 'bogged': 989, 'earnest': 2727, 'dramaturgy': 2612, 'cheap': 1427, 'violent': 9494, 'vulgar': 9539, 'forgettably': 3515, 'expense': 3128, 'paid': 6204, 'pay': 6318, 'it': 4735, 'say': 7533, 'might': 5556, 'beyond': 876, 'comprehension': 1724, 'even': 3033, 'still': 8342, 'poor': 6577, 'editing': 2764, 'bluescreen': 968, 'ultra': 9138, 'cheesy': 1445, 'dialogue': 2363, 'highlight': 4170, 'radical': 6909, 'completely': 1709, 'miss': 5612, 'emotion': 2853, 'failing': 3213, 'ultimately': 9137, 'scientific': 7580, 'law': 5033, 'discerned': 2433, 'producer': 6748, 'well': 9657, 'heed': 4122, 'mediocre': 5475, 'start': 8285, 'drag': 2600, 'soon': 8090, 'speed': 8153, 'explosion': 3150, 'fall': 3223, 'piece': 6439, 'stale': 8263, 'uninspired': 9280, 'wear': 9623, 'welcome': 9656, 'tryingly': 9079, 'title': 8899, 'force': 3496, 'scratch': 7599, 'hole': 4215, 'head': 4090, 'convoluted': 1871, 'violence': 9493, 'has': 4072, 'exist': 3109, 'employ': 2864, 'kid': 4892, 'people': 6345, 'owe': 6181, 'favor': 3276, 'famous': 3235, 'parent': 6255, 'nothing': 5942, 'amiable': 376, 'unfocused': 9250, 'bagatelle': 706, 'loosely': 5219, 'connected': 1786, 'string': 8405, 'acting': 175, 'workshop': 9817, 'exercise': 3101, 'dull': 2682, 'starts': 8290, 'spiral': 8176, 'downward': 2594, 'thud': 8856, 'utterly': 9401, 'incompetent': 4467, 'conclusion': 1748, 'horrendously': 4255, 'amateurish': 360, 'filmmaking': 3362, 'plainly': 6487, 'visually': 9513, 'incomprehensible': 4468, 'an': 393, 'awkwardly': 680, 'magic': 5311, 'realism': 6991, 'great': 3903, 'deal': 2139, 'corny': 1895, 'preposterous': 6677, 'moment': 5652, 'rehash': 7097, 'several': 7741, 'old': 6029, 'theme': 8799, 'capped': 1283, 'pointless': 6550, 'extreme': 3175, 'insanely': 4580, 'graphic': 3889, 'disappointed': 2422, 'never': 5875, 'dramatic': 2607, 'thing': 8815, 'happen': 4041, 'generates': 3721, 'plot': 6524, 'degree': 2200, 'randomness': 6938, 'usually': 9395, 'achieved': 160, 'lottery': 5233, 'drawing': 2617, 'depress': 2277, 'smug': 8025, 'satisfaction': 7514, 'pomposity': 6567, 'pretentiousness': 6700, 'depressing': 2279, 'ruthlessly': 7447, 'pained': 6206, 'depraved': 2274, 'staring': 8282, 'open': 6051, 'wound': 9830, 'instead': 4609, 'opts': 6073, 'routine': 7409, 'slasher': 7958, 'wa': 9543, 'fun': 3632, 'sit': 7913, 've': 9431, 'nice': 5884, 'screenwriter': 7609, 'trusted': 9074, 'audience': 635, 'understand': 9215, 'complex': 1712, 'story': 8376, 'left': 5070, 'predictable': 6661, 'superfluous': 8544, 'plagued': 6485, 'familiar': 3231, 'feeling': 3300, 'let': 5093, 'get': 3748, 'everyone': 3049, 'shown': 7843, 'appointed': 488, 'place': 6479, 'anti': 445, 'feminist': 3310, 'equation': 2976, 'career': 1303, 'misery': 5603, 'tiresome': 8893, 'romantic': 7380, 'dud': 2676, 'plays': 6505, 'blend': 941, 'overripe': 6160, 'episode': 2970, 'dawson': 2126, 'creek': 1983, 'recycled': 7041, 'dumbed': 2691, 'down': 2587, 'version': 9453, 'love': 5239, 'cover': 1933, 'huge': 4284, 'heavy': 4118, 'topic': 8933, 'bland': 926, 'surfacey': 8566, 'doe': 2539, 'offer': 6017, 'insight': 4587, 'instance': 4607, 'improve': 4432, 'upon': 9367, 'experience': 3130, 'blank': 929, 'difficult': 2383, 'imagine': 4383, 'confused': 1775, 'le': 5044, 'sloppily': 7988, 'made': 5303, 'possibly': 6614, 'come': 1656, 'road': 7344, '2002': 46, 'lackadaisical': 4969, 'plotting': 6528, 'mindless': 5573, 'all': 325, 'about': 114, 'benjamins': 856, 'evokes': 3058, 'tier': 8871, 'blaxploitation': 935, '1970s': 35, 'ah': 285, 'yes': 9873, 'fighting': 3346, 'urge': 9379, 'doze': 2595, 'thoughtless': 8836, 'random': 6937, 'superficial': 8541, 'humour': 4307, 'lot': 5230, 'scouse': 7597, 'feels': 3301, 'strangely': 8386, 'hollow': 4218, 'emotional': 2854, 'core': 1890, 'commercialism': 1679, 'squeezed': 8240, 'whatever': 9676, 'idealism': 4347, 'american': 374, 'moviemaking': 5730, 'ever': 3040, 'black': 917, 'and': 406, 'white': 9702, 'unrealistic': 9322, 'camouflage': 1255, 'carvey': 1327, 'considering': 1800, 'paper': 6238, 'bag': 705, 'public': 6826, 'recognized': 7024, 'man': 5344, 'bilked': 890, 'unsuspecting': 9352, 'moviegoer': 5726, 'bite': 910, 'chew': 1453, 'linking': 5155, 'massacre': 5411, 'bogus': 991, 'become': 803, 'apparent': 472, 'franchise': 3554, 'best': 864, 'year': 9868, 'long': 5206, 'past': 6287, 'small': 8003, 'easily': 2735, 'overshadowed': 6163, 'predictability': 6660, 'flat': 3416, 'fake': 3222, 'festers': 3322, 'dungpile': 2696, 'swear': 8609, 'monkey': 5657, 'flinging': 3445, 'feces': 3296, 'in': 4442, 'addition': 199, 'overcooked': 6142, 'direction': 2409, 'actor': 180, 'reaching': 6980, 'back': 690, 'row': 7411, 'sound': 8113, 'horrible': 4256, 'vile': 9484, 'incoherent': 4466, 'scummy': 7626, 'ripoff': 7329, 'david': 2122, 'cronenberg': 2008, 'brilliant': 1113, 'videodrome': 9471, 'smart': 8005, 'kinda': 4907, 'dumb': 2690, 'blade': 920, 'ii': 4363, 'cut': 2068, 'arch': 505, 'cold': 1624, 'blooded': 957, 'thinly': 8819, 'conceived': 1737, 'emphasis': 2858, 'britney': 1124, 'spears': 8142, 'first': 3383, 'dreary': 2632, 'ca': 1224, 'generate': 3719, 'enough': 2934, 'heat': 4113, 'vacuum': 9405, 'reaction': 6982, 'to': 8902, 'ivan': 4742, 'prince': 6720, 'fellow': 3305, 'shallow': 7770, 'glib': 3787, 'though': 8831, 'mean': 5457, 'spirited': 8178, 'indication': 4490, 'responsible': 7230, 'putting': 6866, 'together': 8907, 'particular': 6268, 'value': 9415, 'merit': 5520, 'allen': 330, 'making': 5334, 'piffle': 6442, 'saying': 7534, 'airhead': 300, 'business': 1205, 'deserves': 2301, 'right': 7312, 'pass': 6277, 'hysteric': 4331, 'uneven': 9237, 'performance': 6363, 'spotty': 8215, 'irritating': 4724, 'soul': 8109, 'searching': 7638, 'garbage': 3683, 'comparison': 1694, 'earlier': 2722, 'seems': 7666, 'disappointingly': 2424, 'thin': 8814, 'slice': 7973, 'lower': 5250, 'class': 1531, 'london': 5203, 'despite': 2317, 'amount': 384, 'surprisingly': 8573, 'appears': 480, 'idea': 4345, 'logic': 5197, 'cohesion': 1621, 'entirely': 2958, 'foreign': 3505, 'concept': 1740, 'dreadful': 2621, 'better': 869, 'celebration': 1361, 'unfairly': 9243, 'dismissed': 2474, 'hero': 4146, 'painfully': 6208, 'forced': 3497, 'false': 3229, 'fabricated': 3192, 'relative': 7110, 'letdown': 5094, 'monumental': 5672, 'achievement': 161, 'practically': 6638, 'facet': 3200, 'inept': 4517, 'joyless': 4832, 'idiotic': 4356, 'annoying': 435, 'handed': 4020, 'atrocious': 612, 'often': 6024, 'creepy': 1987, 'highly': 4172, 'praised': 6641, 'disappointment': 2425, 'misfortune': 5606, 'watch': 9603, 'quite': 6895, 'remember': 7140, 'thriller': 8844, 'actually': 185, 'thrilled': 8843, 'fundamentally': 3634, 'conventional': 1854, 'level': 5099, 'accurate': 153, 'call': 1245, 'abhorrent': 106, 'hell': 4131, 'purports': 6854, 'wind': 9745, 'kind': 4906, 'target': 8692, 'something': 8079, 'unsophisticated': 9344, 'stupid': 8443, 'infantile': 4529, 'redundant': 7056, 'sloppy': 7990, 'over': 6134, 'top': 8932, 'resolutely': 7215, 'avoids': 664, 'possibility': 6612, 'situation': 7918, 'becomes': 804, 'gag': 3662, 'prom': 6771, 'date': 2119, 'once': 6039, 'expectation': 3124, 'laughter': 5028, 'quashed': 6876, 'obscenity': 5984, 'hand': 4019, 'funniest': 3640, 'trick': 9036, 'book': 1017, 'outrage': 6122, 'just': 4858, 'bunch': 1181, 'flailing': 3406, 'around': 528, 'caper': 1280, 'terribly': 8768, 'this': 8825, 'ill': 4367, 'expensive': 3129, 'project': 6765, 'looking': 5214, 'talented': 8674, 'thesps': 8809, 'slumming': 7998, 'offensive': 6016, 'pitifully': 6472, 'real': 6990, 'laugh': 5021, 'everybody': 3046, 'else': 2828, 'background': 692, 'manufactured': 5369, 'artificial': 545, 'kathie': 4872, 'lee': 5069, 'gifford': 3764, 'sadly': 7465, 'proving': 6801, 'ego': 2785, 'always': 355, 'talent': 8673, 'trash': 9007, 'loses': 5226, 'humor': 4304, 'vat': 9429, 'failed': 3212, 'twitchy': 9122, 'general': 3715, 'boorishness': 1021, 'mired': 5593, 'tear': 8718, 'drenched': 2635, 'quicksand': 6888, 'final': 3365, 'effect': 2774, 'two': 9123, 'yelling': 9871, 'face': 3197, 'hour': 4272, 'assembled': 579, 'cliche': 1557, 'pabulum': 6188, '95': 96, 'commercial': 1678, 'nba': 5838, 'property': 6786, 'ambitious': 369, 'serious': 7717, 'manages': 5348, 'virtually': 9496, 'everything': 3050, 'wrong': 9847, 'akin': 304, 'act': 173, 'cinematic': 1507, 'penance': 6339, 'anyone': 458, 'suffers': 8506, 'least': 5062, 'box': 1059, 'consolation': 1806, 'candy': 1268, 'walked': 9554, 'away': 672, 'attal': 618, 'push': 6860, 'drama': 2605, 'case': 1329, 'humanly': 4297, 'possible': 6613, 'create': 1968, 'sweet': 8614, 'believable': 835, 'defeated': 2181, 'screenplay': 7608, 'bizarre': 916, 'implausible': 4413, 'behavior': 827, 'overplayed': 6157, 'exaggerated': 3065, 'subtlety': 8481, 'trademark': 8971, 'double': 2579, 'barreled': 758, 'rip': 7326, 'off': 6011, 'frustratingly': 3617, 'refuse': 7082, 'pinochet': 6456, 'crime': 1994, 'political': 6560, 'context': 1830, 'nightmare': 5896, 'incessant': 4455, 'use': 9387, 'obvious': 5993, 'obnoxious': 5981, 'didactic': 2375, 'burlesque': 1190, 'scruffy': 7622, 'sand': 7491, 'titular': 8901, 'community': 1688, 'young': 9884, 'star': 8280, 'cute': 2069, 'ensuing': 2938, 'complication': 1716, 'message': 5528, 'blatant': 934, 'resolution': 7216, 'convenient': 1852, 'characteristically': 1404, 'engorged': 2912, 'african': 262, 'americans': 375, 'broad': 1128, 'racial': 6903, 'insensitivity': 4584, 'towards': 8963, 'begin': 817, 'seven': 7738, 'extremely': 3176, 'unpleasant': 9316, 'pile': 6444, 'useless': 9390, 'actioners': 177, 'mtv': 5736, 'schmuck': 7570, 'know': 4932, 'tell': 8746, 'four': 3540, 'sara': 7503, 'sugarman': 8511, 'stoop': 8368, 'drop': 2654, 'pant': 6235, 'last': 5013, 'provoke': 6804, 're': 6976, 'thinking': 8818, 'present': 6682, 'standard': 8270, 'allow': 332, 'plenty': 6518, 'nudity': 5963, 'overproduced': 6159, 'dreck': 2633, 'shockingly': 7817, 'absolutely': 120, 'unnecessary': 9309, 'flawed': 3428, 'compromised': 1727, 'sad': 7457, 'charming': 1419, 'thrown': 8854, 'summer': 8528, 'camp': 1257, 'show': 7836, 'hastily': 4074, 'written': 9846, 'underrehearsed': 9212, 'arbitrarily': 501, 'plotted': 6527, 'filled': 3352, 'crude': 2019, 'innuendo': 4574, 'but': 1208, 'essence': 3003, 'promise': 6772, 'soar': 8048, 'material': 5425, 'realm': 7000, 'opposite': 6063, 'truly': 9070, 'magical': 5312, 'hamstrung': 4018, 'badly': 701, 'handled': 4024, 'really': 6999, 'tech': 8723, 'tux': 9106, 'transforms': 8992, 'wearer': 9624, 'superman': 8548, 'seem': 7662, 'disappointing': 2423, 'generality': 3716, 'unfortunately': 9259, 'cuteness': 2070, 'worse': 9823, 'ensemble': 2936, 'cast': 1333, 'vincent': 9490, 'nebrida': 5843, 'gutless': 3982, 'laurice': 5031, 'guillen': 3968, 'goldmember': 3825, 'none': 5917, 'wit': 9770, 'previous': 6708, 'picture': 6436, 'jay': 4776, 'roach': 7343, 'taxicab': 8711, 'nausea': 5832, 'convincing': 1869, 'arnie': 526, 'musclefest': 5760, 'much': 5738, 'resonance': 7217, 'world': 9818, 'event': 3036, 'insultingly': 4620, 'simplistic': 7889, 'unbelievably': 9161, 'suck': 8497, 'done': 2558, 'death': 2146, 'after': 263, 'tedious': 8731, 'classroom': 1537, 'college': 1636, 'history': 4191, 'course': 1927, 'while': 9688, 'focused': 3472, 'anne': 430, 'rice': 7295, 'novel': 5954, 'based': 767, 'queen': 6879, 'of': 6010, 'damned': 2092, 'meandering': 5459, 'goth': 3856, 'vampire': 9416, 'tortured': 8946, 'woe': 9787, 'is': 4727, 'me': 5455, 'lifestyle': 5118, 'boring': 1033, 'as': 559, 'dragged': 2601, 'thought': 8832, 'heard': 4102, 'mysterious': 5781, 'voice': 9524, 'felt': 3307, 'powerfully': 6634, 'drawn': 2618, 'toward': 8962, 'light': 5122, 'exit': 3117, 'sign': 7865, 'wreaked': 9834, 'seriously': 7718, 'frustration': 3618, 'unexceptional': 9239, 'excruciating': 3093, '86': 87, 'involve': 4697, 'dentist': 2258, 'drill': 2641, 'so': 8045, 'they': 8811, 'jumbled': 4850, 'we': 9619, 'started': 8286, 'wonder': 9792, 'unpaid': 9313, 'intern': 4654, 'typed': 9127, 'chris': 1491, 'rock': 7359, 'anthony': 443, 'hopkins': 4252, 'terrorist': 8775, 'univac': 9291, 'machine': 5296, 'unlikable': 9300, 'next': 5883, 'not': 5935, 'hot': 4267, 'overly': 6156, 'saw': 7532, 'wanted': 9576, 'protagonist': 6790, 'fail': 3211, 'undermining': 9208, 'reality': 6994, 'stifling': 8339, 'creator': 1976, 'limps': 5148, 'along': 341, 'squirm': 8242, 'inducing': 4505, 'fish': 3385, 'out': 6110, 'water': 9607, 'formula': 3528, 'nowhere': 5956, 'slowly': 7995, 'mechanical': 5472, 'whose': 9712, 'seeming': 7664, 'purpose': 6855, 'market': 5386, 'charismatic': 1413, 'jackie': 4751, 'chan': 1392, 'younger': 9885, 'chalk': 1386, 'worst': 9824, 'hubristic': 4279, 'folly': 3481, 'stomp': 8364, 'hobnail': 4206, 'boot': 1024, 'natalie': 5819, 'babbitt': 687, 'gentle': 3734, 'endearing': 2886, '1975': 36, 'child': 1462, 'served': 7726, 'hack': 3992, 'examination': 3067, 'grief': 3920, 'impact': 4403, 'relationship': 7109, 'survivor': 8586, 'tired': 8891, 'retread': 7250, 'copy': 1885, 'pick': 6432, 'lint': 5156, 'borg': 1032, 'alice': 317, 'krige': 4951, 'cape': 1279, 'leaden': 5046, 'clearly': 1549, 'defines': 2188, 'crematorium': 1989, 'chimney': 1471, 'fire': 3378, 'stack': 8247, 'dead': 2134, 'body': 985, 'stagy': 8259, 'too': 8926, 'premise': 6672, 'involved': 4698, 'con': 1731, 'artist': 547, 'liar': 5106, 'maybe': 5442, 'how': 4275, '88': 89, 'confined': 1766, 'slo': 7984, 'mo': 5629, 'gun': 3976, 'firing': 3381, 'glass': 3782, 'shattering': 7788, 'claim': 1520, 'express': 3154, 'warmth': 9586, 'longing': 5209, 'shankman': 7777, 'karen': 4870, 'janszen': 4767, 'bungle': 1183, 'series': 7716, 'bible': 880, 'parable': 6242, 'actual': 184, 'terrible': 8767, 'regard': 7087, 'painful': 6207, 'why': 9713, 'spend': 8157, 'stuff': 8433, 'buck': 1160, 'greasy': 3902, 'vidgame': 9473, 'pit': 6466, 'lobby': 5188, 'ver': 9445, 'wiel': 9721, 'desperate': 2313, 'attempt': 619, 'lost': 5229, 'leaving': 5066, 'critical': 2005, 'jim': 4799, 'dimensional': 2394, 'word': 9807, 'badder': 700, 'wedding': 9637, 'bit': 908, 'anachronistic': 395, 'fling': 3444, 'talked': 8676, 'rarely': 6953, 'aggressively': 279, 'erotic': 2988, 'alienate': 319, 'mainstream': 5320, 'ringing': 7321, 'cliched': 1558, 'hardened': 4053, 'indie': 4493, 'heads': 4094, 'petty': 6403, 'thievery': 8813, 'flimsy': 3442, 'behind': 829, 'bar': 736, 'nearly': 5841, 'doa': 2530, 'longley': 5210, 'balance': 711, 'struggle': 8419, 'meaningful': 5462, 'historical': 4189, 'stereotyped': 8324, 'woo': 9802, 'instinct': 4611, 'undermine': 9206, 'moral': 5680, 'dilemma': 2390, 'heart': 4104, 'voyeur': 9534, 'require': 7197, 'patience': 6301, 'job': 4801, 'interminable': 4651, 'shapeless': 7781, 'documentary': 2535, 'swinging': 8628, 'subculture': 8457, 'you': 9883, 'hear': 4101, 'george': 3740, 'orwell': 6098, 'turning': 9103, 'unrepentantly': 9330, 'trashy': 9008, 'pretend': 6696, 'sat': 7509, 'score': 7590, '120': 12, 'notice': 5943, 'flaw': 3427, 'definitely': 2190, 'matter': 5432, 'think': 8816, 'fan': 3237, 'sandler': 7493, 'taste': 8700, 'may': 5441, 'find': 3368, 'uninteresting': 9285, 'crew': 1991, 'pact': 6196, 'burn': 1191, 'negative': 5853, 'existed': 3110, 'altogether': 354, 'clownish': 1588, 'triangle': 9034, 'depth': 2281, 'complexity': 1713, 'zeal': 9895, 'squeeze': 8239, 'arc': 503, 'holocaust': 4223, 'escape': 2994, 'minac': 5570, 'drain': 2604, 'individuality': 4499, 'scream': 7602, 'low': 5248, 'budget': 1165, 'muddled': 5742, 'limp': 5145, 'biscuit': 906, 'soap': 8047, 'opera': 6055, 'term': 8764, 'achieves': 162, 'remarkable': 7137, 'feat': 3290, 'squandering': 8233, 'topnotch': 8937, 'foursome': 3541, 'promisingly': 6776, 'proceeds': 6742, 'flop': 3452, 'steam': 8307, 'half': 4002, 'beer': 810, 'performer': 6365, 'motion': 5704, 'static': 8296, 'more': 5687, 'pas': 6275, 'acceptable': 135, 'teen': 8734, 'entertainment': 2948, 'kitschy': 4921, 'flashy': 3415, 'overlong': 6153, 'developed': 2342, 'caricature': 1308, 'buffoon': 1169, 'execrable': 3096, 'attractive': 628, 'unacceptable': 9145, 'frustrating': 3616, 'patchwork': 6294, 'uneasy': 9230, 'marriage': 5392, 'louis': 5235, 'begley': 820, 'source': 8117, 'schmidt': 7569, 'payne': 6322, 'late': 5014, 'tapping': 8689, 'obsession': 5989, 'tardier': 8691, 'exploiting': 3143, 'novelty': 5955, 'webcast': 9634, 'held': 4130, 'hostage': 4266, 'seek': 7660, 'remake': 7135, 'sleepless': 7969, 'seattle': 7645, 'payoff': 6323, 'messy': 5531, 'murky': 5757, 'unsatisfying': 9336, 'intelligence': 4631, 'gay': 3700, 'grossly': 3942, 'underestimated': 9198, 'meaty': 5470, 'sacrificed': 7455, 'skin': 7938, 'flash': 3412, 'fizzle': 3397, 'took': 8927, 'three': 8840, '30': 56, 'turned': 9101, '90': 91, 'interminably': 4652, 'bleak': 938, 'united': 9290, 'states': 8295, 'slack': 7949, 'complacency': 1706, 'drown': 2658, 'tinny': 8887, 'righteousness': 7314, 'palpable': 6226, 'chemistry': 1450, 'lopez': 5221, 'male': 5338, 'lead': 5045, 'ralph': 6927, 'fiennes': 3337, 'plus': 6536, 'working': 9812, 'girl': 3773, 'scribe': 7615, 'kevin': 4888, 'wade': 9545, 'workmanlike': 9813, 'lax': 5036, 'seen': 7667, 'meander': 5458, 'worn': 9821, 'sitcomishly': 7915, 'cloying': 1589, 'work': 9809, 'strong': 8412, 'pulse': 6835, 'war': 9579, 'roses': 7397, 'trailer': 8980, 'style': 8448, 'fifty': 3344, 'car': 1296, 'pileup': 6445, 'pitiful': 6471, 'slapdash': 7954, 'disaster': 2428, 'thrilling': 8845, 'either': 2794, 'irwin': 4725, 'adequate': 202, 'money': 5655, 'television': 8745, 'free': 3571, 'issue': 4734, 'spat': 8136, 'tinseltown': 8888, 'assembly': 581, 'line': 5150, 'abandon': 100, 'leave': 5065, 'wanting': 9577, 'before': 812, 'evening': 3034, 'rejected': 7104, 'files': 3350, 'credible': 1979, 'account': 151, 'puzzling': 6868, 'happening': 4043, 'no': 5903, 'intention': 4639, 'able': 111, 'overcome': 6140, 'triviality': 9055, 'distaste': 2495, 'distances': 2493, 'throwing': 8853, 'many': 5370, 'red': 7043, 'herring': 4150, 'scare': 7546, 'genuine': 3737, 'register': 7093, 'skip': 7941, 'gained': 3667, 'lots': 5232, 'effort': 2782, 'display': 2483, 'execution': 3098, 'awkward': 679, 'lifeless': 5117, 'rumbling': 7428, 'consider': 1797, 'celluloid': 1366, 'litmus': 5174, 'test': 8776, 'intellectual': 4629, 'pedigree': 6335, 'giant': 3759, 'step': 8317, 'backward': 698, 'admire': 209, 'banter': 735, 'loose': 5218, 'setting': 7735, 'pathetically': 6298, 'compare': 1692, 'note': 5939, 'budding': 1163, 'amour': 385, 'uncomfortable': 9174, 'suffocating': 8507, 'senseless': 7692, 'grey': 3919, 'zone': 9910, 'center': 1368, 'morbid': 5684, 'lousy': 5236, 'john': 4804, 'devoid': 2353, 'sensuality': 7697, 'dubbed': 2672, 'hedonistic': 4121, 'their': 8796, 'contrast': 1839, 'collateral': 1631, 'damage': 2088, 'earns': 2729, 'extra': 3170, 'skinny': 7939, 'dip': 2400, 'jerry': 4792, 'bruckheimer': 1151, 'putrid': 6864, 'pond': 6569, 'twaddle': 9109, 'video': 9470, 'store': 8374, 'bile': 889, 'sanctimonious': 7489, 'righteous': 7313, 'eager': 2718, 'earn': 2725, 'want': 9575, 'slap': 7953, 'threadbare': 8838, 'perhaps': 6368, 'effective': 2776, 'creating': 1971, 'atmosphere': 609, 'dust': 2701, 'caked': 1236, 'stagnation': 8258, 'labored': 4961, 'gentility': 3733, 'finally': 3367, 'succeeds': 8488, 'diminishing': 2395, 'stature': 8298, 'oscar': 6099, 'winning': 9752, 'master': 5414, 'lowly': 5252, 'studio': 8429, 'horrid': 4258, 'propaganda': 6782, 'expected': 3125, 'heap': 4100, 'slight': 7977, 'coming': 1668, 'age': 269, 'tale': 8672, 'easy': 2739, 'worthless': 9826, 'drowns': 2660, 'sap': 7500, 'total': 8950, 'washout': 9596, 'tom': 8914, 'dey': 2359, 'spliced': 8197, 'midnight': 5554, '48': 64, 'hours': 4273, 'shrek': 7846, 'dim': 2391, 'witted': 9780, 'pairing': 6215, 'speak': 8139, 'animal': 421, 'gibberish': 3760, 'what': 9675, 'emerged': 2848, 'hilarious': 4174, 'lunacy': 5269, 'woody': 9805, 'mel': 5485, 'brooks': 1141, '70s': 78, 'heyday': 4156, 'lame': 4985, 'sophomoric': 8097, 'debut': 2153, 'feature': 3292, 'comedic': 1658, 'incredibly': 4478, 'thoroughly': 8829, 'vacuous': 9404, 'embody': 2842, 'excess': 3085, 'nouvelle': 5953, 'vague': 9406, 'without': 9777, 'energy': 2901, 'writing': 9845, 'undoing': 9227, 'mostly': 5700, 'weak': 9620, 'support': 8552, 'epic': 2967, 'treatment': 9023, 'short': 7827, 'flabby': 3399, 'indulges': 4511, 'element': 2810, 'true': 9067, 'men': 5506, 'allegedly': 327, 'inspired': 4603, 'funnier': 3639, 'deftly': 2195, 'enacted': 2872, 'cobbled': 1607, 'onscreen': 6044, 'conundrum': 1851, 'illness': 4369, 'inconsistent': 4473, 'margarita': 5376, 'happy': 4048, 'resembles': 7205, 'el': 2796, 'cheapo': 1431, 'within': 9776, 'touch': 8953, 'spousal': 8216, 'abuse': 130, 'veers': 9434, 'cagney': 1233, 'replaced': 7176, 'swallow': 8603, 'my': 5777, 'minority': 5582, 'report': 7179, 'stink': 8350, 'unless': 9299, 'zoning': 9911, 'ordinance': 6085, 'protect': 6791, 'dullest': 2685, 'fiction': 3330, 'unfulfilling': 9260, 'sopranos': 8099, 'dated': 2120, 'unfunny': 9261, 'also': 345, 'demonstrate': 2246, 'maker': 5330, 'doing': 2547, 'for': 3493, 'cash': 1330, 'bore': 1029, 'disguise': 2454, '71': 79, 'crimen': 1995, 'del': 2203, 'padre': 6199, 'amaro': 358, 'catholic': 1349, 'bears': 790, 'imagined': 4384, 'crush': 2028, 'woman': 9790, 'since': 7894, 'valley': 9413, 'dolls': 2551, 'innovation': 4572, 'attract': 625, 'sustain': 8597, 'older': 6030, 'crowd': 2015, 'gripping': 3929, 'attitude': 624, 'subject': 8459, 'tide': 8868, 'set': 7732, 'sea': 7629, 'ghost': 3755, 'ship': 7810, 'pretty': 6701, 'landbound': 4990, 'exposition': 3153, 'telegraphed': 8741, 'surprise': 8570, 'on': 6038, 'icy': 4344, 'subzero': 8485, 'monsters': 5666, 'inc': 4453, 'latter': 5019, 'imagination': 4380, 'texture': 8785, 'negativity': 5854, 'constructed': 1812, 'fatally': 3268, 'consistent': 1804, 'tone': 8920, 'degenerating': 2198, 'pious': 6458, 'preachy': 6648, 'asleep': 568, 'nonstop': 5925, 'artifice': 544, 'surface': 8565, 'histrionics': 4192, 'compensate': 1702, 'characterization': 1405, 'facile': 3202, 'group': 3949, 'absorbed': 122, 'mother': 5701, 'daughter': 2121, 'featured': 3293, 'sleep': 7967, 'bewildered': 873, 'artsy': 555, 'visuals': 9514, 'windtalkers': 9748, 'll': 5184, 'serving': 7729, 'serve': 7725, 'fluff': 3461, 'watchable': 9604, 'spin': 8172, 'hopelessly': 4250, 'control': 1846, 'carol': 1314, 'kane': 4867, 'sort': 8107, 'gender': 3714, 'provoking': 6807, 'philosophy': 6413, 'submerged': 8466, 'phone': 6418, 'fax': 3281, 'confusing': 1777, 'melange': 5489, 'talking': 8678, 'etc': 3014, 'justice': 4859, 'plain': 6486, 'unendurable': 9233, 'viewing': 9480, 'fool': 3486, 'gold': 3822, 'home': 4228, 'quickie': 6886, 'especially': 2998, 'stretched': 8398, '80': 82, 'running': 7434, 'continues': 1832, 'systematically': 8649, 'destroy': 2322, 'hold': 4212, 'dear': 2143, 'cinema': 1505, 'begun': 823, 'split': 8198, 'instantly': 4608, 'whodunit': 9704, 'press': 6690, 'delete': 2207, 'key': 4889, 'daily': 2086, 'activity': 179, 'leaf': 5048, 'shooting': 7822, 'wo': 9786, 'argue': 519, 'slackers': 7950, 'insulting': 4619, 'childish': 1464, 'hobbled': 4205, 'baked': 710, 'setup': 7737, 'sluggish': 7997, 'pacing': 6191, 'mind': 5571, 'attraction': 627, 'rudy': 7421, 'yellow': 9872, 'lodge': 5194, 'eyre': 3189, 'need': 5847, 'take': 8668, 'sweat': 8610, 'clarify': 1526, 'vision': 9506, 'creation': 1972, 'lesson': 5092, 'trickster': 9038, 'spider': 8164, 'spy': 8229, 'kids': 4897, 'gifted': 3766, '12': 11, 'grown': 3952, 'unmemorable': 9305, 'lengthy': 5082, 'eventually': 3039, 'resents': 7208, 'inhale': 4559, 'gutter': 3984, 'romancer': 7378, 'secondhand': 7647, 'handle': 4023, 'nuclear': 5962, 'crisis': 2000, 'sequence': 7710, 'evenly': 3035, 'milk': 5563, 'building': 1173, 'suspense': 8593, 'move': 5722, 'quickly': 6887, 'lika': 5128, 'da': 2081, 'pedestrian': 6334, 'positive': 6608, 'comment': 1674, 'rob': 7347, 'schneider': 7571, 'turn': 9100, 'prissy': 6728, 'teenage': 8735, 'bother': 1042, 'fat': 3266, 'navel': 5835, 'scald': 7537, 'acid': 167, 'posing': 6607, 'homage': 4227, 'some': 8073, 'wayne': 9616, 'classic': 1532, 'certain': 1374, 'brought': 1147, 'uncomfortably': 9175, 'close': 1579, 'losing': 5227, 'lunch': 5272, 'stench': 8316, 'hanging': 4032, 'weakly': 9621, 'acted': 174, 'mojo': 5645, 'assumes': 587, 'realize': 6996, 'already': 344, 'exact': 3063, 'hundred': 4308, 'labute': 4964, 'mistake': 5617, 'check': 1434, 'full': 3629, 'ticket': 8864, 'price': 6711, 'simone': 7884, 'dvd': 2708, 'rental': 7164, 'allows': 335, 'churn': 1500, 'aspect': 570, 'implausibility': 4412, 'sag': 7469, 'pace': 6189, 'padded': 6197, 'jelly': 4787, 'belly': 841, 'astonishingly': 596, 'witless': 9778, 'backdrop': 691, 'ridiculous': 7306, 'heel': 4124, 'unsympathetic': 9353, 'someone': 8077, 'likely': 5133, 'bear': 787, 'typical': 9128, 'junkie': 4857, 'madonna': 5306, 'skill': 7934, 'presence': 6681, 'regain': 7085, 'ground': 3946, 'chef': 1446, 'fussing': 3651, 'recipe': 7018, 'prison': 6727, 'stretch': 8397, 'listen': 5164, 'tori': 8939, 'amos': 383, 'record': 7032, 'compendium': 1701, 'jaded': 4756, 'type': 9126, 'phony': 6421, 'baloney': 721, 'biz': 915, 'sweetest': 8615, 'bitter': 913, 'air': 299, 'leak': 5051, 'flattening': 3420, 'momentum': 5653, 'aloof': 343, 'raw': 6972, 'relies': 7125, 'personal': 6385, 'cruel': 2023, 'misanthropic': 5595, 'surrealism': 8575, 'helped': 4139, 'spark': 8129, 'chasing': 1423, 'amy': 392, 'changing': 1395, 'lanes': 4995, 'cia': 1502, 'agent': 273, 'jack': 4747, 'ryan': 7448, 'sum': 8526, 'fears': 3288, 'alt': 346, 'requires': 7200, 'clear': 1548, 'oh': 6026, 'category': 1345, 'feathers': 3291, 'semi': 7681, 'autobiographical': 652, 'central': 1371, 'bugsy': 1171, 'caterer': 1346, 'anything': 459, 'remarkably': 7138, 'caine': 1234, 'mill': 5566, 'revulsion': 7279, 'western': 9670, 'loud': 5234, 'overbearing': 6137, 'expect': 3123, 'indeed': 4482, 'plympton': 6538, 'awfully': 677, 'racism': 6904, 'spiteful': 8186, 'idiot': 4355, 'whether': 9685, 'friendship': 3596, 'salvaged': 7479, 'difference': 2380, 'insufferable': 4615, 'grossest': 3941, 'fact': 3204, 'tried': 9040, 'tacky': 8659, 'nonsense': 5923, 'wistful': 9769, 'testosterone': 8780, 'charged': 1411, 'wizardry': 9783, 'production': 6750, 'wal': 9552, 'mart': 5395, 'switch': 8630, 'person': 6382, 'printed': 6724, 'page': 6201, 'iles': 4365, 'translate': 8994, 'thirty': 8824, 'personally': 6387, 'planet': 6490, 'orgy': 6090, 'exploitation': 3141, 'night': 5895, 'shyamalan': 7852, 'sucked': 8498, 'mystic': 5783, 'genre': 3732, 'unbreakable': 9163, 'signs': 7872, 'redeeming': 7044, 'waterlogged': 9609, 'plumb': 6531, 'uncharted': 9169, 'stupidity': 8444, 'sub': 8456, 'sexual': 7750, 'imaginary': 4379, 'sport': 8209, 'onto': 6046, 'masochism': 5407, 'blow': 961, 'unwatchable': 9359, 'caffeinated': 1231, 'wish': 9765, 'break': 1086, 'mood': 5673, 'absurdly': 128, 'inappropriate': 4449, 'morphs': 5694, 'mundane': 5754, 'perfectly': 6361, 'wendigo': 9663, 'monster': 5665, 'art': 538, 'house': 4274, 'trap': 9003, 'pretention': 6698, 'forgettable': 3514, 'wasted': 9600, 'potential': 6624, 'slapstick': 7957, '19': 23, 'unique': 9287, 'memorable': 5502, 'liked': 5132, 'twenty': 9112, 'artsploitation': 554, 'sour': 8116, 'exploration': 3145, 'emptiness': 2869, 'underlay': 9204, 'relentless': 7117, 'gaiety': 3665, '1920': 24, 'ending': 2890, 'talkiness': 8677, 'necessarily': 5844, 'frequently': 3580, 'mark': 5382, 'bloodbath': 956, 'laughably': 5023, 'unbearable': 9158, 'merely': 5518, 'wretchedly': 9841, 'wannabe': 9574, 'inane': 4448, 'awful': 676, 'doubt': 2581, 'cowardly': 1934, 'trip': 9048, 'adventure': 235, 'song': 8086, 'overwrought': 6180, 'bodice': 983, 'ripper': 7330, 'amateurishly': 361, 'animation': 423, 'engage': 2904, 'peevish': 6337, 'gimmicky': 3771, 'vapid': 9420, 'vehicle': 9438, 'doltish': 2553, 'uneventful': 9238, 'telling': 8747, 'country': 1919, 'skunk': 7946, 'severe': 7742, 'odor': 6005, 'crap': 1953, 'leash': 5061, 'far': 3247, 'polite': 6559, 'scale': 7538, 'lunatic': 5271, 'height': 4127, 'joe': 4802, 'dante': 2104, 'similarly': 7882, 'styled': 8449, 'gremlins': 3914, 'if': 4358, 'dependable': 2263, 'botched': 1040, 'bring': 1118, 'edge': 2758, 'personality': 6386, 'rising': 7333, 'deep': 2177, 'south': 8119, 'inspiring': 4605, 'hallmark': 4007, 'card': 1297, 'with': 9772, 'visible': 9505, 'colin': 1626, 'hanks': 4034, 'major': 5327, 'coffee': 1617, 'poky': 6554, 'pseudo': 6813, 'sham': 7771, 'affected': 249, 'malaise': 5335, 'undercut': 9195, 'structure': 8417, 'veering': 9433, 'strongly': 8415, 'focus': 3471, 'mixed': 5624, 'blown': 963, 'bruce': 1150, 'willis': 9740, 'scar': 7544, 'kirshner': 4915, 'monroe': 5663, 'contest': 1829, 'slow': 7993, 'ridden': 7302, 'clyde': 1602, 'barrow': 761, 'wishy': 9767, 'washy': 9597, 'sturm': 8446, 'und': 9186, 'drung': 2666, 'explains': 3137, 'decision': 2168, 'unsatisfactorily': 9334, 'whiny': 9695, 'defensive': 2183, 'altering': 348, 'mature': 5435, 'tragic': 8977, 'pizazz': 6477, 'teenager': 8737, 'surprising': 8572, 'winner': 9751, 'adult': 230, 'maid': 5316, 'manhattan': 5353, 'easier': 2734, 'change': 1394, 'sheet': 7795, 'hackneyed': 3994, 'dreaming': 2626, 'revolting': 7276, 'outcome': 6113, 'globetrotters': 3795, 'generals': 3718, 'game': 3673, 'juwanna': 4863, 'mann': 5363, 'ludicrous': 5261, 'dress': 2636, 'irrelevant': 4715, 'deeply': 2179, 'bottomlessly': 1044, 'cynical': 2079, 'awkwardness': 681, 'dreaded': 2620, 'king': 4911, 'brown': 1149, 'snake': 8029, 'dismiss': 2473, 'barbershop': 744, 'abrupt': 117, 'iq': 4702, 'race': 6901, 'finish': 3376, 'discouraging': 2442, 'slide': 7976, 'titled': 8900, 'jennifer': 4788, 'unpleasantly': 9317, 'immature': 4393, '110': 9, 'claustrophobic': 1544, 'realized': 6997, 'harsh': 4067, 'entered': 2941, 'rise': 7332, 'disgusting': 2459, 'blandly': 927, 'where': 9683, 'went': 9664, 'movies': 5731, 'ago': 282, 'spot': 8213, 'deception': 2162, 'undo': 9225, 'believability': 834, 'entire': 2957, 'scenario': 7553, 'reverie': 7267, 'memory': 5505, 'regret': 7095, 'remembering': 7142, '4th': 66, 'spry': 8227, '2001': 45, 'predecessor': 6657, 'rushed': 7440, 'sake': 7473, 'ingenuity': 4554, 'cellophane': 1365, 'pop': 6580, 'punk': 6847, 'ladies': 4975, 'gentlemen': 3735, 'fabulous': 3193, 'stains': 8261, 'crossroads': 2014, 'inconsequential': 4471, 'schlock': 7566, 'merchant': 5514, 'speaking': 8140, 'territory': 8772, 'strictly': 8400, 'steve': 8328, 'distracting': 2506, 'special': 8143, 'party': 6274, 'relatively': 7111, 'happens': 4044, 'concocted': 1749, 'carried': 1318, 'folk': 3475, 'worthy': 9828, 'scorn': 7593, 'nicest': 5886, 'single': 7902, 'name': 5798, 'overrun': 6161, 'corrupt': 1901, 'weasel': 9628, 'laddish': 4974, 'juvenile': 4862, 'brash': 1069, 'mainly': 5319, 'mere': 5517, 'excuse': 3095, 'wan': 9567, 'sketched': 7929, 'nary': 5816, 'achingly': 165, 'phonce': 6417, 'affair': 246, 'sudden': 8500, 'finale': 3366, 'irk': 4707, 'grows': 3954, 'decidedly': 2166, 'flimsier': 3441, 'sized': 7923, 'logically': 5198, 'porous': 6596, 'disparate': 2480, 'gel': 3711, 'smell': 8013, 'grease': 3901, 'twist': 9118, 'inauspicious': 4451, 'mope': 5678, 'tract': 8969, 'plotless': 6525, 'meanderings': 5460, 'whimper': 9689, 'most': 5699, 'derive': 2289, 'turd': 9097, 'squashed': 8238, 'truck': 9065, 'preferably': 6667, 'remains': 7134, 'tied': 8870, 'vignette': 9482, 'prove': 6794, 'zany': 9893, 'downhill': 2590, 'supremely': 8558, 'unentertaining': 9235, 'middle': 5551, 'drink': 2642, 'piss': 6463, 'tree': 9024, 'getting': 3750, 'excited': 3088, 'chocolate': 1476, 'eclair': 2749, 'biting': 911, 'finding': 3369, 'filling': 3354, 'missing': 5614, 'wondering': 9796, 'mattered': 5433, 'similar': 7881, '1953': 29, 'geriatric': 3743, 'peter': 6400, 'carrying': 1320, 'limit': 5142, 'seeing': 7659, 'at': 604, 'stiff': 8337, 'operative': 6058, 'scary': 7549, 'feardotcom': 3283, 'brazen': 1081, 'stinker': 8351, 'controversy': 1849, 'mexican': 5542, 'horrifying': 4261, 'oppressively': 6065, 'suppose': 8554, 'lovely': 5244, 'cal': 1237, 'dad': 2082, 'perfect': 6358, 'traveler': 9012, 'gave': 3699, 'convinced': 1867, 'keep': 4881, 'family': 3233, 'blind': 946, 'crippled': 1999, 'amish': 378, 'alive': 324, 'british': 1123, 'soldier': 8062, 'keeping': 4882, 'kicking': 4891, 'mild': 5559, 'escapism': 2995, 'fear': 3282, 'provoked': 6805, 'intolerable': 4663, 'exploitative': 3142, 'complete': 1708, 'told': 8909, 'retold': 7247, 'opening': 6053, 'idiocy': 4353, 'frame': 3550, 'makes': 5331, 'chase': 1422, 'salvage': 7478, 'reputation': 7194, 'lowered': 5251, 'nair': 5795, 'necessary': 5845, 'guide': 3966, 'structured': 8418, 'pitfall': 6469, 'redundancy': 7055, 'barbarism': 741, 'ethnic': 3019, 'cleansing': 1547, 'certainly': 1375, 'recommend': 7026, 'generally': 3717, 'letterman': 5097, 'onion': 6042, 'proven': 6796, 'tragedy': 8976, 'fertile': 3318, 'fleeting': 3432, 'grasp': 3890, 'develop': 2341, 'presented': 6684, 'kiddie': 4893, 'fantasy': 3246, 'pablum': 6187, 'fetched': 3325, 'thematic': 8797, 'mumbo': 5753, 'jumbo': 4851, 'destiny': 2321, 'redemptive': 7046, 'drab': 2598, 'inert': 4519, 'pretentious': 6699, 'verge': 9449, 'unlike': 9301, 'scorsese': 7595, 'streets': 8394, 'ash': 561, 'wednesday': 9639, 'essentially': 3005, 'halfway': 4004, 'intriguing': 4669, 'only': 6043, 'fifths': 3343, 'satisfying': 7518, 'murder': 5755, 'numbers': 5967, 'called': 1247, 'jar': 4771, 'binks': 896, 'interview': 4659, 'overall': 6136, 'buy': 1213, 'characterisation': 1402, 'spectacle': 8148, 'derrida': 2291, 'modem': 5637, 'disconnect': 2438, '10': 1, 'pumpkin': 6837, 'pawn': 6315, 'disability': 2417, 'rude': 7420, 'profane': 6752, 'valiantly': 9411, 'struggled': 8420, 'conscious': 1792, 'eyelid': 3188, 'bruised': 1152, 'pressed': 6691, 'cloyingly': 1590, 'sappy': 7502, 'evelyn': 3032, 'procession': 6745, 'despair': 2310, 'cello': 1364, 'culled': 2043, 'minimalist': 5578, 'funeral': 3636, 'mildly': 5560, '84': 86, 'sentence': 7700, 'devastating': 2339, 'precious': 6651, 'tuxedo': 9107, 'sent': 7699, 'tailor': 8665, 'alteration': 347, 'tykwer': 9125, 'fit': 3390, 'kieslowski': 4899, 'lyrical': 5290, 'pessimism': 6396, 'contradicts': 1837, 'aspired': 572, 'including': 4463, 'condition': 1755, 'nose': 5931, 'ultimate': 9136, 'insignificance': 4590, 'sci': 7578, 'fi': 3329, 'whiffle': 9687, 'ball': 715, 'schmaltzy': 7568, 'clumsily': 1595, 'toss': 8948, 'up': 9360, 'presiding': 6689, 'delightful': 2220, 'shadow': 7756, 'appeal': 474, 'sexist': 7748, 'racist': 6905, 'brow': 1148, 'snuck': 8044, 'foot': 3488, 'useful': 9389, 'unoriginal': 9312, 'verdict': 9448, 'joylessly': 4833, 'extravagant': 3173, 'whooshing': 9710, 'marvel': 5400, 'emptily': 2868, 'doofus': 2563, 'sentimentality': 7703, 'stereotype': 8323, '75': 80, 'sample': 7485, 'puerile': 6829, 'rubbish': 7416, 'listless': 5166, 'resembling': 7206, 'ransacked': 6941, 'bratty': 1073, 'sympathy': 8643, 'ring': 7320, 'foolish': 3487, 'ms': 5735, 'phoenix': 6416, 'lacking': 4970, 'charisma': 1412, 'unable': 9144, 'esther': 3012, 'initial': 4564, 'anomie': 437, 'eventual': 3038, 'awakening': 666, 'required': 7198, 'supply': 8551, 'staid': 8260, 'sterile': 8326, 'any': 456, 'color': 1638, 'or': 6075, 'excitement': 3089, 'zero': 9900, 'storyline': 8377, 'attention': 623, 'neck': 5846, 'perform': 6362, 'twice': 9113, 'removed': 7153, 'modeled': 5636, 'seagal': 7630, 'copycat': 1886, 'under': 9190, 'siege': 7861, 'referred': 7066, 'die': 2377, 'boat': 979, 'dutiful': 2704, 'enchanting': 2874, 'episodic': 2971, 'exhilarating': 3107, 'choppy': 1484, 'sucker': 8499, 'distant': 2494, 'telescope': 8744, 'phlegmatic': 6414, 'vs': 9536, 'starring': 8284, 'ben': 848, 'affleck': 257, 'hitchcockian': 4196, 'less': 5090, 'shakespeare': 7766, 'spawn': 8137, 'quentin': 6880, 'tarantino': 8690, 'handful': 4021, 'raucous': 6966, 'gangster': 3680, 'branched': 1067, 'witty': 9782, 'interpretation': 4658, 'collapse': 1628, 'inhalant': 4558, 'blackout': 919, 'taylor': 8712, 'cartoonish': 1324, 'considered': 1799, 'notion': 5948, 'thrill': 8842, 'astonishing': 595, 'exciting': 3091, 'basketball': 773, 'playing': 6503, 'season': 7640, 'busy': 1207, 'urban': 9377, 'zhang': 9901, 'forte': 3531, 'teddy': 8730, 'picnic': 6435, 'rank': 6940, 'among': 381, 'directing': 2408, 'stunt': 8442, 'cheaper': 1430, 'ops': 6067, 'scooby': 7583, 'significantly': 7870, 'listening': 5165, 'exaggeration': 3066, 'recount': 7035, 'halloween': 4008, 'haunted': 4081, 'paste': 6289, 'repetitive': 7174, 'ragged': 6914, 'characteristic': 1403, 'reel': 7061, 'irredeemably': 4713, 'bewitched': 875, 'spring': 8222, 'harry': 4066, 'tonto': 8924, 'purposeless': 6858, 'deadly': 2137, 'shoot': 7821, 'cop': 1880, 'oily': 6027, 'arm': 524, 'dealer': 2140, 'squad': 8231, 'ups': 9374, 'requisite': 7201, 'screaming': 7603, 'captain': 1286, 'overblown': 6138, 'tie': 8869, 'peopled': 6346, 'mouth': 5720, 'forgiven': 3517, 'realizing': 6998, 'spent': 8160, '20': 43, 'waiting': 9549, 'frida': 3591, 'build': 1172, 'vain': 9409, 'dictator': 2373, 'madman': 5304, 'wildly': 9731, 'undeserved': 9222, 'given': 3777, 'remotely': 7151, 'triumphant': 9053, 'dollar': 2550, 'christmas': 1493, 'roll': 7371, 'combination': 1650, 'slightest': 7978, 'soulless': 8111, 'stick': 8333, 'rigidly': 7317, 'paradigm': 6244, 'permitting': 6376, 'dimension': 2393, 'repeatedly': 7169, 'placing': 6483, 'electrocute': 2804, 'dismember': 2472, 'victim': 9466, 'consciousness': 1794, 'imitation': 4389, 'ritchie': 7336, 'felinni': 3303, 'italian': 4736, 'freakshow': 3566, 'dystopian': 2716, 'retooling': 7249, 'fahrenheit': 3210, '451': 63, 'matrix': 5429, 'sickly': 7858, 'acrid': 171, 'gourmet': 3858, 'outdated': 6114, 'swagger': 8602, 'shameless': 7774, '70': 77, 'shuck': 7850, 'jive': 4800, 'sitcom': 7914, 'marginal': 5378, 'reactionary': 6983, 'empathy': 2856, 'shortness': 7829, 'disappoints': 2426, 'otherwise': 6105, 'appealing': 475, 'screenwriting': 7610, 'dummies': 2694, 'conformity': 1772, 'straight': 8380, 'numbingly': 5969, 'stilted': 8344, 'developing': 2344, 'storytelling': 8379, 'flow': 3457, 'pale': 6220, 'xerox': 9853, 'rorschach': 7393, 'must': 5768, 'killed': 4901, 'father': 3270, 'guilty': 3970, 'sin': 7893, 'attributable': 629, 'inhabit': 4556, 'annex': 431, 'behave': 826, 'bill': 891, 'greek': 3910, 'apartheid': 462, 'tries': 9041, 'goofy': 3843, 'span': 8125, 'does': 2540, 'deserve': 2299, 'passing': 6282, 'grade': 3872, 'curve': 2062, 'ice': 4334, 'cool': 1876, 'concerned': 1744, 'rotten': 7401, 'state': 8292, 'california': 1244, 'cheat': 1432, 'torpedo': 8942, 'clancy': 1523, 'scripters': 7618, 'oscars': 6100, 'survive': 8584, 'screening': 7607, 'harm': 4060, 'except': 3080, '15': 20, 'maudlin': 5437, 'mine': 5574, 'spends': 8159, 'fairly': 3218, 'hugely': 4285, 'overwritten': 6179, 'said': 7471, 'mile': 5561, 'longest': 5208, 'yard': 9861, 'aimed': 295, 'squarely': 8236, 'demanding': 2235, 'demographic': 2242, 'pregnant': 6669, 'chance': 1393, 'insult': 4617, 'narcissism': 5809, 'congratulation': 1781, 'disguised': 2455, 'tribute': 9035, 'snow': 8043, 'cone': 1760, 'innocuous': 4571, 'flavorless': 3425, 'ineffective': 4515, 'stand': 8269, 'clockstoppers': 1576, 'played': 6498, 'skewed': 7931, 'entertained': 2945, 'commitment': 1680, 'reginald': 7091, 'hudlin': 4281, 'toilet': 8908, 'slur': 7999, 'pair': 6214, 'squabbling': 8230, 'spouse': 8217, 'counting': 1917, 'gross': 3940, 'forget': 3512, 'bolt': 1003, 'bored': 1030, 'obscenely': 5983, 'dark': 2109, 'friend': 3594, 'cross': 2010, 'hungry': 4309, 'portion': 6598, 'nasty': 5818, 'result': 7239, 'boll': 999, 'us': 9386, 'quick': 6885, 'cutting': 2076, 'blurry': 970, 'printing': 6725, 'goose': 3844, 'dopey': 2570, 'inadequate': 4445, 'kill': 4900, 'crassness': 1960, 'matched': 5423, 'ridiculousness': 7308, 'absurd': 126, 'length': 5081, 'duck': 2674, 'raise': 6922, 'mentally': 5511, 'challenged': 1388, 'fair': 3217, 'shot': 7830, 'surely': 8562, 'collection': 1633, 'keening': 4880, 'mutilating': 5773, 'sideshow': 7860, 'geek': 3709, 'doomed': 2564, 'smallness': 8004, 'unfaithful': 9244, 'whatsoever': 9677, 'stuttering': 8447, 'stitched': 8356, 'stock': 8357, 'firmly': 3382, 'ability': 109, 'forgive': 3516, 'shoddy': 7819, 'yet': 9876, 'hilariously': 4175, 'raunchy': 6969, 'park': 6257, 'schizo': 7564, 'cartoon': 1323, 'suited': 8522, 'scripted': 7617, 'fable': 3190, 'meaningless': 5463, 'godard': 3814, 'ode': 6004, 'tackling': 8658, 'wonderment': 9797, 'manifesto': 5357, 'vagueness': 9408, 'topical': 8934, 'praise': 6640, 'ponderous': 6572, 'endeavor': 2887, 'tediously': 8732, 'exasperating': 3073, 'impressed': 4423, 'overload': 6152, 'female': 3308, 'angst': 418, 'irreparably': 4717, 'narration': 5811, 'help': 4138, 'naipaul': 5794, 'juicy': 4844, 'negated': 5852, 'conjuring': 1784, 'sinister': 7905, 'menacing': 5508, 'flashing': 3414, 'rattling': 6965, 'noise': 5907, 'bump': 1180, 'punishable': 6844, 'chainsaw': 1384, 'attack': 617, 'dahmer': 2085, 'punishment': 6845, 'tiring': 8895, 'reduce': 7051, 'shrill': 7848, 'delivers': 2229, 'inspiration': 4600, 'amid': 377, 'contriving': 1845, 'impenetrable': 4408, 'was': 9594, 'tepid': 8762, 'trotting': 9061, 'worked': 9810, 'fizz': 3396, 'selection': 7676, 'outtake': 6130, 'tacked': 8654, 'credit': 1980, 'fast': 3264, 'forgot': 3519, 'include': 4461, 'rejigger': 7105, 'count': 1912, 'irrational': 4712, 'suffering': 8505, 'hip': 4181, 'hop': 4244, 'tootsie': 8931, 'paced': 6190, 'pootie': 6579, 'tang': 8683, 'punchlines': 6840, 'multitude': 5751, 'simple': 7886, 'minded': 5572, 'yahoo': 9857, 'ing': 4551, 'fudged': 3621, 'opportunity': 6061, 'gigantic': 3767, 'proportion': 6787, 'lunar': 5270, 'mission': 5615, 'improvisation': 4436, 'superficially': 8543, 'ramble': 6929, 'struggling': 8421, 'slowed': 7994, 'stroke': 8410, 'shame': 7773, 'introduction': 4672, 'greatest': 3905, '100': 2, 'galled': 3670, 'puddle': 6828, 'steven': 8329, 'inauthentic': 4452, 'humorless': 4305, 'each': 2717, 'underscoring': 9214, 'sentiment': 7701, 'slathered': 7959, 'rerun': 7202, 'powerpuff': 6635, 'girls': 3775, 'grim': 3924, 'future': 3655, 'splendour': 8196, 'calculation': 1240, 'rescue': 7203, 'sugar': 8509, 'curse': 2060, 'blandness': 928, 'load': 5185, 'michael': 5546, 'myers': 5778, 'stop': 8370, 'buying': 1215, 'exceptionally': 3084, 'hated': 4077, 'morning': 5691, 'swims': 8626, 'mediocrity': 5476, 'sticking': 8335, 'breath': 1091, 'fresh': 3581, 'swiftly': 8621, 'deteriorates': 2332, 'melodrama': 5493, 'rough': 7403, 'hewn': 4153, 'vanity': 9419, 'actress': 183, 'andie': 408, 'macdowell': 5295, 'gamely': 3674, 'gap': 3681, 'clean': 1546, 'jeremy': 4789, 'renner': 7160, 'fiendish': 3336, 'textbook': 8784, 'psychologizing': 6820, 'bridge': 1108, 'tiresomely': 8894, 'derivative': 2288, 'hammily': 4014, 'unconvincing': 9180, 'steal': 8305, 'confines': 1767, 'shtick': 7849, 'bald': 713, 'banal': 725, 'circuit': 1513, 'disingenuous': 2463, 'reno': 7161, 'inhuman': 4562, 'simultaneously': 7892, 'degrades': 2199, 'rooting': 7392, 'peculiar': 6331, 'misfire': 5604, 'tunney': 9095, 'save': 7524, 'emaciated': 2834, 'musketeer': 5767, 'psychological': 6818, 'grounding': 3948, 'deviant': 2347, 'behaviour': 828, 'douglas': 2584, 'mcgrath': 5451, 'nickleby': 5891, 'halfhearted': 4003, '8th': 90, 'boy': 1060, 'delving': 2233, 'reading': 6986, 'infuriating': 4546, 'human': 4289, 'infidelity': 4534, 'happenstance': 4045, 'kitchen': 4920, 'sink': 7906, 'overladen': 6151, 'conceit': 1733, 'pack': 6193, 'dough': 2583, 'ear': 2720, 'interest': 4644, 'grotesque': 3943, 'island': 4730, 'scenery': 7555, 'friday': 3592, 'clam': 1521, 'broiling': 1133, 'sun': 8531, 'gunfight': 3977, 'convince': 1866, 'brat': 1071, 'loser': 5225, 'whoop': 9708, 'flashback': 3413, 'impression': 4425, 'aftertaste': 265, 'operational': 6057, 'mechanic': 5471, 'fulfilling': 3627, 'quota': 6899, 'anticipated': 447, 'shaping': 7782, 'pompous': 6568, 'frankenstein': 3558, 'marginally': 5379, 'em': 2833, 'disappoint': 2421, 'strenuously': 8396, 'showtime': 7844, 'hook': 4240, 'ozpetek': 6186, 'aids': 291, 'subtext': 8475, 'skim': 7937, 'inclusive': 4464, 'uptight': 9376, 'antonia': 452, 'portray': 6601, 'literarily': 5170, 'notorious': 5949, 'dirty': 2416, 'wait': 9547, 'per': 6350, 'sick': 7855, 'demented': 2238, 'cultural': 2047, 'formulaic': 3529, 'tolerate': 8912, 'insipid': 4593, 'brutally': 1156, 'clueless': 1593, 'large': 5005, 'dose': 2576, 'painkiller': 6209, 'swept': 8619, 'insinuation': 4592, 'our': 6108, 'culture': 2048, 'headed': 4092, 'ferocity': 3314, 'frozen': 3613, 'burrito': 1197, 'tequila': 8763, 'bender': 850, 'jackass': 4749, 'frankly': 3559, 'predictably': 6662, 'techno': 8727, 'tripe': 9049, 'jostling': 4823, 'farce': 3249, 'thoughtful': 8833, 'elbowed': 2799, 'aside': 565, 'liner': 5151, 'incorporates': 4475, 'rotoscope': 7400, 'neat': 5842, 'stuffy': 8436, 'sincere': 7895, 'honest': 4232, 'hardly': 4056, 'fallon': 3228, 'bone': 1013, 'rumor': 7430, 'angels': 414, 'dispel': 2481, 'due': 2679, 'stodgy': 8359, 'ish': 4729, 'figure': 3347, 'teleprompter': 8743, 'ick': 4338, 'benigni': 855, 'pinocchio': 6455, 'unimpressive': 9276, 'despairingly': 2312, 'adam': 190, 'eight': 2789, 'crazy': 1966, 'nights': 5897, 'rash': 6956, 'nonsensical': 5924, 'shelf': 7797, 'appropriate': 496, 'location': 5192, '1950': 27, 'doris': 2572, 'undernourished': 9210, 'faith': 3220, 'viability': 9458, 'succumbs': 8495, 'effects': 2779, 'buyers': 1214, 'glum': 3807, 'mr': 5734, 'de': 2133, 'niro': 5902, 'nauseating': 5833, 'davis': 2124, 'cause': 1352, 'epiphany': 2969, 'rashomon': 6957, 'dipsticks': 2404, 'ransacks': 6942, 'archive': 510, 'wore': 9808, 'cutesy': 2072, 'reliance': 7122, 'specific': 8145, 'exactly': 3064, 'stealing': 8306, 'harvard': 4070, 'cleverness': 1556, 'intelligent': 4632, 'terrorism': 8774, 'warmed': 9583, 'paranoia': 6249, 'sentimental': 7702, 'garbled': 3684, 'depressingly': 2280, 'retrograde': 7253, 'post': 6615, 'condescending': 1753, 'jangle': 4765, 'mayhem': 5443, 'contender': 1826, 'casting': 1334, 'woefully': 9788, 'whiff': 9686, 'iwai': 4745, 'vaunted': 9430, 'misguided': 5607, 'moronic': 5693, 'campus': 1261, 'undergo': 9199, 'suit': 8520, 'surrounded': 8578, 'wreck': 9836, 'journey': 4828, 'philosophical': 6411, 'void': 9525, 'sprinkled': 8225, 'everywhere': 3051, 'range': 6939, 'bodacious': 982, '102': 4, 'infomercial': 4540, 'potboiler': 6622, 'relentlessly': 7118, 'saccharine': 7452, 'preaching': 6647, 'converted': 1860, 'wishing': 9766, 'sight': 7864, 'humiliated': 4300, 'dog': 2541, 'smarter': 8006, 'longer': 5207, 'heal': 4096, 'welt': 9661, 'johnny': 4805, 'knoxville': 4937, 'stomach': 8362, 'riot': 7325, 'projectile': 6766, 'psyche': 6814, 'spoofy': 8204, 'update': 9362, 'macbeth': 5294, 'invention': 4680, 'unspeakably': 9346, 'unbearably': 9159, 'featuring': 3295, 'ream': 7001, 'flatly': 3417, 'heroine': 4148, 'killing': 4903, 'represents': 7186, 'latest': 5016, 'universe': 9293, 'bratt': 1072, 'stardom': 8281, 'mapquest': 5372, 'emailed': 2835, 'driving': 2649, 'rush': 7439, 'potentially': 6625, 'trite': 9050, 'overused': 6171, 'crummy': 2027, 'refers': 7067, 'incessantly': 4456, 'rent': 7163, 'alone': 340, 'respectable': 7225, 'exceedingly': 3075, 'period': 6371, 'committed': 1681, 'dumbness': 2692, 'koepp': 4940, 'clever': 1553, 'reasonable': 7004, 'horror': 4262, 'generated': 3720, 'shadowy': 7758, 'lighting': 5125, 'macabre': 5292, 'rain': 6919, 'offset': 6022, 'sheer': 7793, 'ugliness': 9131, 'vice': 9463, '103': 5, 'recently': 7017, 'tortuous': 8944, 'illustrates': 4375, 'schizophrenia': 7565, 'hypnotically': 4328, 'adorable': 221, 'pauly': 6312, 'shore': 7826, 'robotically': 7356, 'italicized': 4737, 'truth': 9075, 'advertising': 238, 'hound': 4271, 'howard': 4276, 'strung': 8422, 'space': 8121, 'daydream': 2128, 'fantastic': 3244, 'trope': 9059, 'cardboard': 1298, 'frontal': 3610, 'when': 9681, 'advice': 239, 'singles': 7903, 'ward': 9580, 'celebrity': 1363, 'cameo': 1252, 'automatically': 653, 'equal': 2973, 'living': 5182, 'goyer': 3862, 'unaccountable': 9146, 'technically': 8725, 'sophisticated': 8095, 'produce': 6746, 'mouthed': 5721, 'yawning': 9865, 'ironically': 4710, 'muted': 5772, 'intended': 4634, 'shine': 7807, 'unattractive': 9156, 'odorous': 6007, 'leon': 5086, 'dismally': 2469, 'capitalizes': 1282, 'breezy': 1100, 'tolerance': 8911, 'pat': 6292, 'fairy': 3219, 'opaque': 6050, 'humble': 4298, 'opinion': 6059, 'fragmented': 3548, 'found': 3538, 'boldly': 997, 'stroked': 8411, 'luridly': 5275, 'coloured': 1642, 'uni': 9269, 'eyeball': 3186, 'evaporates': 3030, 'crypt': 2033, 'mist': 5616, 'brain': 1063, 'jersey': 4793, 'lowbrow': 5249, 'uma': 9140, '112': 10, 'fifteen': 3341, 'aggravating': 277, 'intense': 4635, 'sabotaged': 7451, 'ticking': 8865, 'bomb': 1004, 'cage': 1232, 'duration': 2700, 'schedule': 7560, 'got': 3855, 'sledgehammer': 7964, 'pokemon': 6553, 'induces': 4504, 'headache': 4091, 'overheated': 6148, 'student': 8428, 'outright': 6125, 'newness': 5881, 'pandering': 6230, 'palaver': 6219, 'exception': 3082, 'six': 7920, 'needlessly': 5851, 'quality': 6874, 'archival': 509, 'print': 6723, 'footage': 3489, 'fulfills': 3628, 'minimum': 5579, 'requirement': 7199, 'jump': 4852, 'pyrotechnic': 6869, 'yu': 9890, 'hope': 4245, 'pathetic': 6297, 'god': 3813, 'capra': 1284, 'cooper': 1879, 'rolling': 7374, 'graf': 3876, 'pure': 6850, 'waters': 9610, 'beat': 792, 'slimed': 7980, 'catch': 1342, 'stuck': 8427, 'prevents': 6706, 'cylinder': 2078, 'prescribed': 6679, 'recommended': 7028, 'room': 7389, 'soothing': 8093, 'muzak': 5776, 'cushion': 2065, 'rhythm': 7292, 'macho': 5298, 'convention': 1853, 'assert': 582, 'jerky': 4791, 'wearisome': 9626, 'rail': 6916, 'part': 6265, 'weight': 9646, 'switching': 8632, 'myopic': 5779, 'stall': 8265, 'lackluster': 4971, 'gear': 3705, 'terrific': 8769, 'potter': 6627, 'chamber': 1390, 'secrets': 7651, 'rowling': 7413, 'marvelous': 5402, 'manipulation': 5359, 'dishonorable': 2462, 'shorter': 7828, 'cutoff': 2074, 'substance': 8471, 'classicism': 1534, 'exasperated': 3072, 'noticeable': 5944, 'september': 7707, '11': 8, 'reprehensible': 7183, 'manipulating': 5358, 'collective': 1634, 'bestowing': 865, 'sincerity': 7897, 'unequivocally': 9236, 'beneath': 852, 'uncanny': 9166, 'inevitable': 4523, 'seemingly': 7665, 'shrewd': 7847, 'facade': 3196, 'lie': 5115, 'uncreative': 9184, 'unintentionally': 9284, 'brian': 1106, 'palma': 6224, 'addiction': 197, 'junk': 4856, 'calorie': 1249, 'ruined': 7426, 'adaptation': 192, 'delicate': 2214, 'tightrope': 8874, 'farcical': 3250, 'loathsome': 5187, 'soured': 8118, 'santa': 7499, 'clause': 1541, '21st': 49, 'century': 1372, 'icky': 4339, 'desired': 2308, 'happened': 4042, 'hurry': 4316, 'indicative': 4491, 'uncompelling': 9177, 'area': 515, 'cinematography': 1509, 'clumsy': 1597, 'sade': 7462, 'near': 5840, 'marquis': 5390, 'dullard': 2683, 'soundtrack': 8115, 'critic': 2004, 'proof': 6781, 'baaaaaaaaad': 685, 'claustrophic': 1542, 'chilly': 1469, 'shake': 7763, 'mix': 5623, 'jaglom': 4760, 'gratingly': 3896, 'tainted': 8666, 'improbability': 4429, 'common': 1682, 'firework': 3380, 'normally': 5929, 'co': 1603, 'jonathan': 4816, 'parker': 6258, 'fashion': 3261, 'brazil': 1083, 'hyper': 4326, 'dreadfully': 2622, 'prolonged': 6770, 'barn': 752, 'burningly': 1193, 'promised': 6773, 'viewers': 9479, 'luck': 5257, 'muster': 5769, 'figuring': 3348, 'distasteful': 2496, 'combined': 1652, 'rate': 6960, 'yielded': 9878, 'clare': 1525, 'peploe': 6347, 'misunderstanding': 5619, 'marivaux': 5381, 'mira': 5588, 'sorvino': 8108, 'limitation': 5143, 'classical': 1533, 'summary': 8527, 'awfulness': 678, 'raised': 6923, 'deprecating': 2276, 'insignificant': 4591, 'abundant': 129, 'hatred': 4079, 'spews': 8161, 'forth': 3532, 'unchecked': 9170, 'dismissive': 2475, 'upscale': 9375, 'projection': 6767, 'blame': 924, 'eddie': 2757, 'murphy': 5758, 'owen': 6183, 'wilson': 9741, 'curious': 2055, 'timed': 8878, 'antitrust': 451, 'fraction': 3544, 'publicist': 6827, 'drug': 2663, 'ran': 6935, 'totally': 8952, 'prologue': 6769, 'obligatory': 5980, 'barbed': 742, 'poo': 6574, 'edgy': 2761, 'definition': 2191, 'waster': 9601, 'meet': 5480, 'denis': 2255, 'hopeless': 4249, 'muddle': 5741, 'sticky': 8336, 'unsatisfied': 9335, 'reach': 6978, 'be': 783, 'james': 4763, 'bond': 1009, 'generation': 3723, 'pic': 6430, 'disjointed': 2467, 'laid': 4981, 'doorstep': 2568, 'weirded': 9652, 'pasolini': 6276, 'passion': 6283, 'politics': 6562, 'almodovar': 338, 'beauty': 796, 'numb': 5964, 'fantasma': 3243, 'blasphemous': 931, 'journalistic': 4826, 'odd': 6001, 'haphazard': 4040, 'talky': 8679, 'ambiguous': 367, 'provocative': 6803, 'tonally': 8919, 'downer': 2589, 'sporting': 8210, 'recent': 7016, 'ballistic': 717, 'ecks': 2747, 'sever': 7740, 'timing': 8886, 'smile': 8014, 'stay': 8300, 'channel': 1396, 'drunken': 2668, 'outweighs': 6133, 'nifty': 5894, 'cletis': 1552, 'tout': 8960, 'persona': 6383, 'charmless': 1420, 'vacant': 9402, 'paint': 6210, 'by': 1217, 'bartleby': 764, 'dry': 2669, 'office': 6020, '83': 85, 'trek': 9025, 'nemesis': 5862, 'suggestive': 8517, '65th': 76, 'reunion': 7257, 'mixer': 5625, 'surviving': 8585, 'member': 5499, 'modernized': 5639, 'disease': 2452, 'week': 9640, 'dubious': 2673, 'distinction': 2498, 'blair': 923, 'witch': 9771, 'missed': 5613, 'followed': 3478, 'gore': 3846, 'harrison': 4064, 'ford': 3501, 'deliver': 2226, 'stumblebum': 8439, 'bloody': 960, 'sunday': 8533, 'clarity': 1527, '4ever': 65, 'assures': 593, 'pocket': 6539, 'keel': 4877, 'randall': 6936, 'wallace': 9558, 'bitten': 912, 'driver': 2648, 'traffic': 8975, 'turkey': 9099, 'gobble': 3811, 'dolby': 2548, 'digital': 2387, 'stereo': 8322, 'discomfort': 2437, 'embarrassment': 2839, 'majority': 5328, 'exhaustion': 3105, 'green': 3911, 'floor': 3451, 'somewhere': 8083, 'such': 8496, 'trenchant': 9030, 'ironic': 4709, 'image': 4377, 'milieu': 5562, 'wholly': 9707, 'pitch': 6467, 'influence': 4537, 'rohypnol': 7368, 'garish': 3689, 'showcase': 7838, 'diverges': 2518, 'probing': 6737, 'penetrating': 6343, 'successor': 8492, 'bibbidy': 878, 'bobbidi': 981, 'slovenly': 7992, 'primitive': 6719, 'technique': 8726, 'supposed': 8555, 'somber': 8072, 'dragon': 2602, 'medicine': 5474, 'je': 4779, 'gyu': 3990, 'lyricism': 5291, 'limerick': 5141, 'scrawled': 7601, 'restroom': 7238, 'michel': 5547, 'gondry': 3828, 'restate': 7233, 'ringu': 7324, 'chill': 1466, 'promotion': 6777, 'calibre': 1243, 'virulently': 9501, 'drivel': 2646, 'glimmer': 3790, 'scuttled': 7627, 'subversive': 8484, 'unrelenting': 9326, 'insistence': 4594, 'opting': 6071, 'artistically': 550, 'mannered': 5365, 'been': 809, 'needed': 5848, 'flamboyant': 3410, 'outrageous': 6123, 'absurdity': 127, 'inconsistency': 4472, 'rant': 6944, 'aging': 280, 'thumbing': 8858, 'stillborn': 8343, 'conceptual': 1742, 'elvis': 2832, 'lacks': 4972, 'spirit': 8177, 'ho': 4203, 'unmentionable': 9306, 'splashing': 8190, 'muck': 5739, 'stagey': 8252, 'unlikely': 9303, 'inspire': 4602, 'visit': 9508, 'mcdonald': 5448, 'savvy': 7531, 'street': 8393, 'activism': 178, 'enjoys': 2928, 'knowing': 4933, 'dulled': 2684, 'sens': 7687, 'faster': 3265, 'deeper': 2178, 'recreational': 7039, 'mctiernan': 5454, 'lighter': 5123, 'sober': 8049, 'graceful': 3867, 'tap': 8687, 'dancing': 2098, 'rhino': 7291, 'saddest': 7460, 'witnessed': 9779, 'artistic': 549, 'suffocation': 8508, 'thirteen': 8823, 'totalitarian': 8951, '1984': 37, 'farenheit': 3252, 'harder': 4054, 'literally': 5169, 'toy': 8966, 'hearted': 4108, 'paean': 6200, 'empowerment': 2867, 'brutality': 1155, 'unspeakable': 9345, 'describe': 2293, 'successful': 8490, 'genevieve': 3729, 'leplouff': 5089, 'french': 3576, 'option': 6072, 'measure': 5467, 'failure': 3215, 'tuck': 9083, 'haneke': 4030, 'sadistic': 7464, 'tendency': 8753, 'leading': 5047, 'somehow': 8076, 'guessable': 3962, 'echo': 2746, 'morbidity': 5685, 'deflated': 2193, 'reign': 7099, 'punitive': 6846, 'eardrum': 2721, 'dicing': 2369, 'gunplay': 3978, 'screeching': 7604, 'metal': 5532, 'smashups': 8011, 'flaccid': 3400, 'couple': 1921, 'sniping': 8038, 'shocking': 7816, 'testament': 8777, 'semitism': 7683, 'neo': 5863, 'fascism': 3260, 'derailed': 2283, 'extensive': 3167, 'reworking': 7283, 'throe': 8849, 'flush': 3467, 'unintentional': 9283, 'giggle': 3768, 'delight': 2218, 'loved': 5242, '1989': 38, 'paradiso': 6245, 'prefer': 6666, 'pull': 6831, 'butt': 1210, 'glee': 3785, 'derived': 2290, 'lobotomy': 5189, 'vital': 9515, 'scooped': 7584, 'discarded': 2431, 'milking': 5565, 'lina': 5149, 'wertmuller': 9667, 'eroti': 2987, 'biggest': 887, 'husband': 4318, 'wife': 9722, 'bo': 973, 'derek': 2285, 'bolero': 998, 'dishonest': 2461, 'bonding': 1010, 'growing': 3951, 'frustrated': 3614, 'detached': 2328, 'became': 799, 'usual': 9394, 'sneer': 8034, 'graceless': 3869, 'bludgeoning': 965, 'resemble': 7204, 'soft': 8057, 'shoe': 7820, 'diaries': 2365, 'murderer': 5756, 'inside': 4585, 'station': 8297, 'unleashes': 9298, 'pandora': 6231, 'gamut': 3677, 'cheesier': 1443, 'cheesiest': 1444, 'fuelled': 3625, 'devito': 2352, 'early': 2723, 'smoochy': 8019, 'snooze': 8040, 'carry': 1319, 'ai': 288, 'she': 7791, 'baggage': 707, 'role': 7370, 'troubled': 9063, 'determined': 2336, 'homicide': 4230, 'columbia': 1644, 'pictures': 6437, 'animated': 422, 'holiday': 4216, 'weighed': 9644, 'supporting': 8553, 'goodly': 3835, 'wise': 9759, 'comically': 1667, 'evil': 3055, 'uncool': 9181, 'gadzooks': 3661, 'chewing': 1454, 'whale': 9674, 'blubber': 964, 'both': 1041, 'soporific': 8098, 'repeated': 7168, 'simpleminded': 7887, 'sadism': 7463, 'leaky': 5052, 'staggeringly': 8255, 'boil': 993, 'invader': 4675, 'seeking': 7661, 'existent': 3112, 'virus': 9502, 'monotony': 5662, 'stinks': 8352, 'wet': 9672, 'burlap': 1189, 'sack': 7453, 'gloom': 3796, 'search': 7637, 'veered': 9432, 'exxon': 3184, 'return': 7254, 'super': 8538, 'fold': 3474, 'thinness': 8820, 'unamusing': 9150, 'unrewarding': 9331, 'reckless': 7020, 'fine': 3370, 'eckstraordinarily': 2748, 'severely': 7743, 'dramatically': 2608, '94': 95, 'bombastic': 1005, 'tremendous': 9027, 'introducing': 4671, 'alluring': 336, 'prey': 6710, 'boatload': 980, 'freighter': 3575, 'appreciation': 492, 'steamy': 8310, 'pork': 6592, 'dumpling': 2695, 'staged': 8251, 'overshadows': 6164, 'assed': 578, 'blockbuster': 953, 'pearl': 6330, 'harbor': 4050, 'cumulative': 2050, 'repulsive': 7193, 'filler': 3353, 'surf': 8564, 'threw': 8841, 'medical': 5473, 'equipment': 2978, 'window': 9746, 'grab': 3863, 'lady': 4977, 'aisle': 303, 'walker': 9555, 'exploring': 3149, 'choice': 1477, 'worthwhile': 9827, 'kerrigan': 4887, 'platinum': 6493, 'blonde': 954, 'hair': 3998, 'embarrassed': 2837, 'share': 7783, 'engaging': 2907, 'pornographic': 6595, 'revel': 7262, 'swank': 8605, 'apartment': 463, 'clothes': 1584, 'foundation': 3539, 'brooding': 1139, 'disgusted': 2458, 'finished': 3377, 'unshapely': 9342, 'overacted': 6135, 'boozy': 1025, 'indulgence': 4508, 'brings': 1120, 'appalling': 470, 'odoriferous': 6006, 'crawl': 1962, 'exhaustingly': 3104, '2455': 52, 'crossed': 2011, 'list': 5163, 'hey': 4155, 'messenger': 5529, 'ye': 9866, 'enter': 2940, 'petri': 6402, 'dish': 2460, 'characterized': 1406, 'telephone': 8742, 'audacious': 632, 'ambition': 368, 'soderbergh': 8055, 'emerges': 2850, 'sensational': 7689, '19th': 42, 'metaphor': 5533, 'raindrop': 6921, 'decomposition': 2169, 'healthy': 4099, 'eccentric': 2744, 'wearing': 9625, 'cloak': 1572, 'unsentimental': 9339, 'straightforward': 8381, 'text': 8783, 'romanticization': 7382, 'delusional': 2232, 'live': 5178, 'produced': 6747, 'reproduce': 7189, 'amateur': 359, 'historically': 4190, 'significant': 7869, 'shenanigan': 7798, 'demonstrates': 2248, 'eroded': 2986, 'scam': 7539, 'creep': 1984, 'revolution': 7277, 'studios': 8430, 'surrender': 8576, '93': 94, 'unrecoverable': 9324, 'direct': 2406, 'hit': 4193, 'condescension': 1754, 'lofty': 5196, 'perch': 6354, 'strangers': 8387, 'today': 8904, 'york': 9880, 'metropolitan': 5540, 'fascinating': 3259, 'facetious': 3201, 'smirk': 8015, 'desperately': 2314, 'wacky': 9544, 'screwball': 7611, 'screwy': 7614, 'antonio': 453, 'banderas': 728, 'lucy': 5260, 'liu': 5177, 'faceoff': 3199, 'non': 5912, 'cry': 2032, 'entry': 2961, 'brosnan': 1144, 'suspect': 8588, 'morvern': 5697, 'callar': 1246, 'assume': 586, 'costly': 1905, 'divorce': 2525, 'earthly': 2732, 'distinguished': 2502, 'fault': 3273, 'however': 4277, 'ruse': 7438, 'tactic': 8660, 'nonexistent': 5920, 'bean': 786, 'grating': 3895, 'utter': 9400, 'mush': 5761, 'conceited': 1734, 'pap': 6237, 'glaring': 3781, 'servitude': 7730, 'superstar': 8550, 'skirt': 7944, 'fare': 3251, 'other': 6102, 'romance': 7377, 'hospital': 4264, 'destroying': 2323, 'pollution': 6564, 'month': 5669, 'amari': 357, 'lilia': 5136, 'tasteless': 8702, 'refusal': 7081, 'recognise': 7022, 'signpost': 7871, 'discovering': 2445, 'map': 5371, 'graduated': 3875, 'junior': 4855, 'plato': 6494, 'therefore': 8807, 'greedy': 3909, 'facing': 3203, 'hands': 4026, 'shaped': 7780, 'crappy': 1954, 'despicable': 2316, 'delivery': 2230, 'adventures': 236, 'pluto': 6537, 'nash': 5817, 'nada': 5791, 'aimlessly': 297, 'tearjerker': 8721, 'ordinary': 6086, 'used': 9388, 'being': 831, 'malkovich': 5340, 'robot': 7354, 'haul': 4080, 'killer': 4902, 'website': 9636, 'canadian': 1262, 'ramblings': 6931, 'smorgasbord': 8023, 'soliloquy': 8068, 'former': 3525, 'drew': 2639, 'barrymore': 763, 'hint': 4180, 'joy': 4830, 'preferring': 6668, 'humiliation': 4301, 'defecates': 2182, 'bed': 806, 'urinates': 9383, 'plant': 6491, 'birthday': 905, 'because': 800, 'masquerade': 5409, 'contains': 1820, 'intent': 4638, 'hammering': 4013, 'forgets': 3513, 'grocery': 3936, 'stronger': 8413, 'comforting': 1664, 'marmite': 5388, 'feast': 3289, 'bleakness': 939, 'annoyance': 433, 'limited': 5144, 'embellished': 2840, 'remained': 7132, 'eastwood': 2738, 'trapped': 9005, 'concert': 1745, 'chiller': 1467, 'desert': 2298, 'underdramatized': 9197, 'overstated': 6166, 'transcript': 8987, 'therapy': 8805, 'session': 7731, 'humdrum': 4299, 'freudian': 3589, 'puppet': 6849, 'sheridan': 7799, 'author': 650, 'schoolboy': 7574, 'memoir': 5501, 'toothless': 8930, 'bordering': 1027, 'cringe': 1998, 'salt': 7475, 'sting': 8348, 'prurient': 6810, 'swimfan': 8624, 'unbelievable': 9160, 'villainess': 9486, 'camera': 1253, 'movement': 5724, 'indoors': 4501, 'formal': 3522, 'motionless': 5705, 'staggers': 8256, 'madcap': 5301, 'looked': 5213, 'fetishistic': 3326, 'casual': 1336, 'caring': 1309, 'glossy': 3802, 'horrific': 4259, 'consciously': 1793, 'rag': 6912, 'tag': 8662, 'heist': 4129, 'reportedly': 7180, 'rewritten': 7285, 'dozen': 2596, 'crackle': 1942, 'weeks': 9641, 'indecent': 4480, 'proposal': 6788, 'lyne': 5287, 'stolid': 8361, 'lolita': 5202, 'unhappy': 9264, 'depends': 2266, 'appetite': 481, 'canned': 1269, 'corn': 1891, 'equilibrium': 2977, 'opposed': 6062, 'dope': 2569, 'everlasting': 3043, 'curmudgeon': 2058, 'peak': 6327, 'noisy': 5908, 'lion': 5157, 'redone': 7050, 'horse': 4263, 'fewer': 3328, 'deliberate': 2212, 'inadvertent': 4447, 'stunningly': 8441, 'bryan': 1157, 'adams': 191, 'smoothly': 8022, '295': 55, 'preview': 6707, 'resident': 7212, 'earned': 2726, 'indignant': 4496, 'departure': 2262, 'clotted': 1585, 'symbolism': 8641, 'dime': 2392, 'psychology': 6821, 'scenic': 7557, '105': 7, 'effectively': 2777, 'chilling': 1468, 'choose': 1480, 'caved': 1355, 'bounce': 1045, 'wrist': 9842, 'tight': 8872, 'tummy': 9090, 'hugger': 4286, 'twirling': 9117, 'finger': 3374, 'assuming': 588, 'sustained': 8598, 'fest': 3321, 'scant': 7543, 'choke': 1478, 'nick': 5890, 'cassavetes': 1331, 'yank': 9860, 'whenever': 9682, 'baffling': 704, 'riddled': 7303, 'unanswered': 9151, 'question': 6882, 'gargantuan': 3688, 'leap': 5054, 'spoof': 8202, 'kung': 4954, 'fu': 3619, 'chuckle': 1496, 'main': 5318, 'uninvolving': 9286, 'paul': 6308, 'pender': 6342, 'wood': 9803, 'folksy': 3476, 'stacked': 8248, 'binary': 895, 'opposition': 6064, 'solaris': 8061, 'relying': 7130, 'um': 9139, 'spinoff': 8175, 'bloated': 950, 'littered': 5175, 'satirical': 7513, 'jab': 4746, 'egocentricities': 2786, 'breed': 1099, 'mournfully': 5717, 'brittle': 1126, 'faced': 3198, 'photo': 6422, 'blah': 922, 'bona': 1008, 'fide': 3333, 'groaner': 3935, 'borderline': 1028, 'intentioned': 4641, 'disposable': 2484, 'jumble': 4849, 'degenerates': 2197, 'hogwash': 4209, 'underlying': 9205, 'impersonal': 4409, 'allowed': 333, '50': 67, 'lovebird': 5241, 'unappealing': 9154, 'ace': 156, 'ventura': 9442, 'pollak': 6563, 'wrestler': 9839, 'chyna': 1501, 'dolly': 2552, 'parton': 6273, 'do': 2529, 'repeating': 7170, 'elf': 2817, 'pimp': 6449, 'cram': 1949, 'earplug': 2730, 'pillowcase': 6447, '87': 88, 'blazing': 936, 'cheatfully': 1433, 'filmed': 3356, 'disintegrating': 2465, 'bloodsucker': 959, 'computer': 1729, 'jagged': 4757, 'poetic': 6542, 'rare': 6952, 'speedy': 8154, 'swan': 8604, 'dive': 2516, 'promising': 6775, 'landing': 4991, 'plunges': 6534, 'showboating': 7837, 'afraid': 261, 'reviewer': 7270, 'review': 7269, 'genial': 3730, 'rogue': 7366, 'equally': 2975, 'bearing': 789, 'paramount': 6248, 'imprint': 4428, 'bargain': 749, 'basement': 768, 'european': 3024, 'pickup': 6434, 'stitch': 8355, 'destructive': 2325, 'serf': 7713, 'swipe': 8629, 'heavily': 4117, 'bambi': 724, 'expects': 3127, 'queasy': 6878, 'stomached': 8363, 'staggered': 8253, 'blacked': 918, 'confusion': 1778, 'favourite': 3280, '146': 19, 'undead': 9187, 'mutates': 5771, 'technical': 8724, 'unremarkable': 9328, 'bread': 1084, 'shred': 7845, 'cloudy': 1586, 'becalmed': 798, 'enticing': 2956, 'prospect': 6789, 'nubile': 5961, 'depravity': 2275, 'fade': 3207, 'rendered': 7156, 'avary': 659, 'construct': 1811, 'trace': 8967, 'gymnastics': 3989, 'shaking': 7769, 'entertain': 2944, 'looks': 5215, 'travel': 9010, 'agency': 271, 'targeted': 8693, 'ride': 7304, 'bike': 888, 'topless': 8936, 'mud': 5740, 'glimpse': 3791, 'independent': 4485, 'guiding': 3967, 'grew': 3918, 'hideously': 4164, 'twisted': 9119, 'anywhere': 460, 'scattered': 7552, 'inferior': 4533, 'paraphrase': 6252, 'dickens': 2370, 'nicholas': 5888, 'fragment': 3546, 'underdone': 9196, 'potato': 6621, 'monologue': 5658, 'civilized': 1519, 'ordeal': 6081, 'amusement': 390, 'conceive': 1736, 'reached': 6979, 'puberty': 6824, 'terminally': 8766, 'videotape': 9472, 'indecipherable': 4481, 'chen': 1451, 'kaige': 4865, 'chosen': 1489, 'english': 2911, 'language': 4996, 'national': 5821, 'lampoon': 4987, 'crafted': 1944, 'hackery': 3993, 'following': 3479, 'climax': 1564, 'seinfeld': 7671, 'outburst': 6112, 'flatulence': 3422, 'minutes': 5586, 'overwhelm': 6174, 'hanna': 4037, 'barbera': 743, 'justify': 4860, 'bringing': 1119, 'barf': 748, 'moviehouse': 5728, 'throwback': 8852, 'reparation': 7167, 'trapping': 9006, 'energetic': 2898, 'sports': 8211, 'creaky': 1967, 'empowering': 2866, 'schmaltz': 7567, 'wave': 9614, 'surfing': 8568, 'afterthought': 266, 'adrian': 228, 'sleazy': 7963, 'moralizing': 5682, 'zombie': 9909, 'repulse': 7192, 'pledge': 6517, 'allegiance': 328, 'lacey': 4967, 'constantly': 1809, 'occasionally': 5997, 'independence': 4484, 'cgi': 1378, 'bushel': 1204, 'blood': 955, 'caruso': 1325, 'eminently': 2852, 'miserable': 5601, 'immediately': 4396, 'gravity': 3899, 'plummet': 6533, 'earth': 2731, 'anatomical': 401, 'quasi': 6877, 'improvised': 4438, 'stalking': 8264, 'deploys': 2272, 'guise': 3971, 'elaborate': 2797, 'futuristic': 3656, 'believing': 839, 'sewer': 7745, 'rat': 6958, 'skeeved': 7926, 'shower': 7840, 'occupational': 5998, 'subsequent': 8470, 'reinvention': 7101, 'terrifying': 8771, 'study': 8432, 'bourgeois': 1051, 'grand': 3880, 'fart': 3256, 'beginning': 818, 'grandfather': 3882, 'fitfully': 3391, 'weightless': 9648, 'decent': 2161, 'draft': 2599, 'auditorium': 637, 'door': 2566, '25': 53, 'license': 5114, 'joel': 4803, 'schumacher': 7575, 'reflects': 7073, 'inadequately': 4446, 'motivated': 5706, 'demographically': 2243, 'please': 6509, 'parochial': 6262, 'accessible': 139, 'standoffish': 8273, 'smugly': 8026, 'suggests': 8518, 'superior': 8546, 'laborious': 4962, 'whine': 9693, 'bellyaching': 842, 'paranoid': 6250, 'annals': 429, 'submarine': 8465, 'bullet': 1176, 'alcatraz': 311, 'corpse': 1897, 'cesspool': 1377, 'demeanour': 2237, 'fly': 3469, 'hail': 3996, 'sascha': 7507, 'brisk': 1121, 'overstuffed': 6168, 'solid': 8066, 'success': 8489, 'although': 352, 'evidence': 3053, 'indicate': 4489, 'clooney': 1578, 'mike': 5558, 'tyson': 9129, 'miscast': 5599, 'audacity': 633, 'monstrous': 5667, 'demand': 2234, 'impassive': 4405, 'manner': 5364, '51': 70, 'crushing': 2030, 'days': 2129, 'burning': 1192, 'blasting': 933, 'stabbing': 8245, 'hide': 4161, 'catastrophic': 1341, 'collision': 1637, 'tastelessness': 8703, 'gall': 3669, 'cumbersome': 2049, 'simpering': 7885, 'strained': 8383, 'vaporize': 9421, 'lump': 5267, 'coal': 1604, 'flatter': 3421, 'downbeat': 2588, 'wail': 9546, 'pitched': 6468, 'cadence': 1229, 'depressed': 2278, 'suicidal': 8519, 'moat': 5631, 'surrounding': 8579, 'spice': 8162, 'burger': 1187, 'recycling': 7042, 'brutal': 1154, 'mid': 5550, 'add': 194, 'eric': 2983, 'schaeffer': 7559, 'liability': 5104, 'artless': 552, 'sytle': 8650, 'lurid': 5274, 'hoffman': 4208, 'kline': 4925, 'detention': 2331, 'thumbs': 8859, 'friggin': 3597, 'releasing': 7115, 'frantic': 3560, 'virulent': 9500, 'foul': 3537, 'natured': 5830, 'gratuitous': 3897, 'disturbing': 2512, 'disregard': 2488, 'bravado': 1074, 'meat': 5469, 'grinder': 3927, 'composed': 1720, 'edited': 2763, 'insistent': 4595, 'crudely': 2020, 'literal': 5168, 'compromise': 1726, 'orgasm': 6089, 'tension': 8760, 'wazoo': 9618, 'poignancy': 6546, 'groundbreaking': 3947, 'throw': 8851, 'goodwill': 3837, 'orchestrating': 6080, 'letting': 5098, 'appreciated': 490, 'outside': 6127, 'render': 7155, 'extension': 3166, 'ritual': 7338, 'spell': 8155, 'mesmerizing': 5526, 'disintegrates': 2464, 'cube': 2039, 'fix': 3394, 'sketchy': 7930, 'progress': 6763, 'inexplicably': 4526, 'megaplexes': 5484, 'farrelly': 3255, 'brothers': 1146, 'laugher': 5025, 'na': 5789, 'dressed': 2637, 'clown': 1587, 'violently': 9495, 'gang': 3678, 'raped': 6947, 'description': 2297, 'besotted': 862, 'sooooo': 8092, 'unbalanced': 9157, 'mixture': 5627, '40': 61, 'million': 5569, 'retreat': 7251, 'comfortable': 1663, 'contemptuous': 1825, 'population': 6589, 'splash': 8188, 'michele': 5548, 'spiritual': 8180, 'quest': 6881, 'rote': 7399, 'spookiness': 8206, 'edit': 2762, 'proceeding': 6741, 'beg': 815, 'admission': 212, 'ridicule': 7305, 'factor': 3205, 'pushed': 6861, 'margin': 5377, 'oriented': 6091, 'tadpole': 8661, 'smeary': 8012, 'distraction': 2507, 'scrooge': 7621, 'placement': 6481, 'claptrap': 1524, 'blarney': 930, 'florid': 3454, 'taken': 8669, 'trickery': 9037, 'devolves': 2354, 'vaguely': 9407, 'overkill': 6150, 'jarring': 4772, 'profound': 6759, 'gleaned': 3784, 'endurance': 2894, 'built': 1174, 'botch': 1039, 'intentionally': 4640, 'irreparable': 4716, 'analysis': 397, 'decasia': 2157, 'read': 6984, 'catcher': 1343, 'rye': 7449, 'dyslexia': 2715, 'secret': 7648, 'discovered': 2444, 'indulged': 4507, 'oversimplification': 6165, 'superficiality': 8542, 'silliness': 7878, 'partly': 6270, 'rumination': 7429, 'sensibility': 7693, 'robotic': 7355, 'lazier': 5040, 'enjoyable': 2923, 'pissed': 6464, 'crimes': 1996, 'misdemeanor': 5600, 'misuse': 5621, 'morgan': 5688, 'freeman': 3573, 'ashley': 563, 'judd': 4838, 'dressing': 2638, 'fill': 3351, 'chick': 1459, 'gimmick': 3770, 'comedian': 1657, 'accuse': 155, 'pow': 6630, 'misfiring': 5605, 'atrociously': 613, 'indescribably': 4486, 'penned': 6344, 'clue': 1592, 'nature': 5829, 'horribly': 4257, 'nevertheless': 5876, 'moving': 5732, 'kitten': 4922, 'frat': 3562, 'sorority': 8101, 'boys': 1061, 'bowser': 1058, 'pity': 6474, 'mishmash': 5608, 'amble': 371, 'irony': 4711, 'codswallop': 1615, 'predominantly': 6664, 'suggest': 8513, 'wayward': 9617, 'wooden': 9804, 'stuffing': 8435, 'electric': 2803, 'pencil': 6341, 'sharpener': 7786, 'oleander': 6031, 'eye': 3185, 'reeked': 7060, 'sameness': 7482, 'knew': 4928, 'van': 9417, 'wilder': 9729, 'ya': 9856, 'nelson': 5861, 'stage': 8250, 'shouting': 7834, 'offend': 6014, 'terror': 8773, 'psychodramatics': 6817, 'hindered': 4179, 'peppered': 6348, 'populated': 6586, 'match': 5422, 'freshness': 3585, 'criticism': 2006, 'evaluate': 3027, 'reminding': 7147, 'staying': 8301, 'festival': 3323, 'catsup': 1350, 'release': 7113, 'arrive': 532, 'agonizing': 283, 'kathy': 4874, 'bates': 776, 'helm': 4135, 'deeds': 2174, 'spiritless': 8179, 'monotonous': 5661, 'blast': 932, 'weepy': 9643, 'southern': 8120, 'athon': 607, 'apparently': 473, 'jackson': 4752, 'inexplicable': 4525, 'blunder': 969, 'spielberg': 8166, 'dreamed': 2625, 'sickening': 7856, 'crocodile': 2007, 'hunter': 4312, 'hurried': 4315, '1959': 32, 'godzilla': 3817, 'japanese': 4770, 'raymond': 6974, 'burr': 1196, 'commenting': 1676, 'path': 6296, 'destruction': 2324, 'those': 8830, 'eighth': 2790, 'obviously': 5994, 'charge': 1410, 'gabbiest': 3659, 'bogging': 990, 'barrage': 755, 'hype': 4324, 'dash': 2116, 'aptitude': 498, 'credited': 1981, 'abdul': 104, 'malik': 5339, 'abbott': 102, 'ernest': 2985, 'tron': 9058, 'anderson': 407, 'carefully': 1305, 'choreographed': 1487, 'atrocity': 614, 'abstract': 125, '65': 75, 'trifle': 9043, 'trot': 9060, 'vacation': 9403, 'stonehenge': 8367, 'soggy': 8059, 'creatively': 1974, 'executed': 3097, 'iota': 4701, 'hunk': 4310, 'idiotically': 4357, 'com': 1648, 'improperly': 4431, 'hammy': 4016, 'stephen': 8318, 'rea': 6977, 'added': 195, 'disdain': 2451, 'insufferably': 4616, 'naive': 5796, 'meant': 5465, 'enhance': 2916, 'drooling': 2653, 'quirky': 6894, 'strain': 8382, 'evident': 3054, 'creates': 1970, 'mythologizing': 5787, 'sacrifice': 7454, 'heroism': 4149, 'abject': 110, 'musty': 5770, 'golden': 3824, 'eagle': 2719, 'carpet': 1316, 'bitchy': 909, 'nostalgia': 5933, 'glory': 3801, 'considerable': 1798, 'julia': 4846, 'roberts': 7351, 'award': 667, 'humility': 4302, 'camouflaging': 1256, 'strut': 8423, 'courage': 1924, 'pinned': 6454, 'huckster': 4280, 'lapel': 5001, 'streak': 8389, 'wide': 9716, 'decorates': 2170, 'jerking': 4790, 'byzantine': 1223, 'incarnation': 4454, 'pleasuring': 6516, 'saturday': 7520, 'educational': 2769, 'animatronic': 425, 'root': 7390, 'apparatus': 471, 'hibernation': 4158, 'roger': 7365, 'uproar': 9371, 'mpaa': 5733, 'oo': 6047, 'sweating': 8611, 'agenda': 272, 'forcefully': 3499, 'sorry': 8106, 'diabolical': 2361, 'mad': 5300, 'cows': 1936, 'knitting': 4929, 'needle': 5850, 'invited': 4693, 'chore': 1486, 'profanity': 6753, 'remark': 7136, 'geared': 3706, 'engendering': 2909, 'win': 9743, 'probation': 6734, 'officer': 6021, 'buff': 1167, 'marred': 5391, 'redemption': 7045, 'disastrous': 2429, 'ransom': 6943, 'rubbo': 7417, 'smutty': 8027, 'cranked': 1951, 'kick': 4890, 'brits': 1125, 'performing': 6366, 'ages': 274, 'qualify': 6873, 'clive': 1571, 'barker': 750, 'grow': 3950, 'slough': 7991, 'mire': 5592, 'alleged': 326, 'weave': 9630, 'protective': 6792, 'cocoon': 1612, 'pungent': 6843, 'snoozer': 8041, 'answer': 439, 'unlikeable': 9302, 'involving': 4699, 'voyeuristic': 9535, 'consumed': 1814, 'forgotten': 3520, 'pig': 6443, 'flail': 3405, 'limply': 5147, 'pallid': 6223, 'demonstration': 2250, 'unsalvageability': 9333, 'saddled': 7461, 'tail': 8664, 'snipes': 8037, 'negligible': 5856, 'reduces': 7053, 'bromide': 1136, 'slogan': 7986, 'keen': 4878, 'tub': 9081, 'thumpingly': 8860, 'chump': 1497, 'shock': 7814, 'eviction': 3052, 'expands': 3121, 'horizon': 4254, 'boredom': 1031, 'dullness': 2687, 'laziness': 5042, 'arrogance': 535, 'tends': 8757, 'hammer': 4012, 'airless': 301, 'prepackaged': 6674, 'sell': 7678, 'mongering': 5656, 'her': 4143, 'muttering': 5775, 'dissing': 2491, 'cost': 1904, 'river': 7340, 'disguising': 2456, 'suffer': 8503, 'unfolds': 9253, 'providing': 6800, 'transgressive': 8993, 'attempted': 620, 'stubbornly': 8426, 'refused': 7083, 'unsettling': 9341, 'stately': 8294, 'settle': 7736, 'nurse': 5971, 'gaping': 3682, 'pilot': 6448, 'olympic': 6034, 'swim': 8623, 'deadening': 2135, 'hangover': 4033, 'substandard': 8472, 'unencouraging': 9232, 'dimwit': 2397, 'heathers': 4115, 'familiarity': 3232, 'strip': 8406, 'mined': 5575, 'monty': 5670, 'mercilessly': 5515, '1997': 41, 'fourth': 3543, 'carrey': 1317, 'elicit': 2819, 'deja': 2202, 'vu': 9537, 'awe': 673, 'thousand': 8837, 'times': 8884, 'antiseptic': 450, 'emotionally': 2855, 'desiccated': 2303, 'rollerball': 7372, 'jason': 4773, 'positively': 6609, 'shakesperean': 7768, 'returned': 7255, 'warn': 9587, 'outward': 6131, 'flakiness': 3409, 'gone': 3829, 'funniness': 3641, 'drek': 2634, 'chasm': 1424, 'opportunism': 6060, 'fulfill': 3626, 'goal': 3810, 'drudgery': 2662, 'epilogue': 2968, 'suspension': 8596, 'disbelief': 2430, 'sieve': 7863, 'buddy': 1164, 'heady': 4095, 'domestic': 2554, 'biopic': 902, 'tongue': 8922, 'laughing': 5026, 'dialog': 2362, 'pollyana': 6565, 'favored': 3278, 'untalented': 9354, 'artiste': 548, 'moaning': 5630, 'fate': 3269, 'content': 1827, 'paddle': 6198, 'perceptive': 6352, 'bridget': 1109, 'jones': 4817, 'diary': 2366, 'originality': 6094, 'dread': 2619, 'antwone': 455, 'fisher': 3386, 'jesse': 4794, 'helms': 4137, 'castro': 1335, 'bray': 1080, 'savage': 7522, 'garden': 3687, 'resume': 7240, 'zoe': 9908, 'clarke': 1528, 'enemy': 2897, 'stereotypical': 8325, 'caretaker': 1307, 'teacher': 8715, 'athlete': 605, 'halfwit': 4005, 'standup': 8276, 'sloppiness': 7989, 'restage': 7232, 'suffered': 8504, 'pain': 6205, 'cancer': 1264, 'balanced': 712, 'zeitgeist': 9898, 'games': 3675, 'unrealized': 9323, 'balto': 722, 'quarter': 6875, 'somethings': 8080, 'natter': 5823, 'audiences': 636, 'advised': 240, 'squint': 8241, 'noticing': 5947, 'egregious': 2788, 'lip': 5159, 'synching': 8645, '5ths': 72, 'franc': 3552, 'relate': 7107, 'maggot': 5309, 'crawling': 1963, 'nomination': 5911, 'julianne': 4847, 'moore': 5677, 'elicited': 2820, 'yawner': 9864, 'spawned': 8138, 'dwells': 2710, 'crossing': 2012, 'mounted': 5714, 'exists': 3116, 'capitalize': 1281, 'inclination': 4460, 'hannibal': 4038, 'lecter': 5067, 'harris': 4063, 'immediate': 4395, 'provide': 6798, 'pint': 6457, 'goodfellas': 3833, 'objective': 5977, 'chai': 1381, 'guitar': 3972, 'amp': 386, 'apply': 487, 'fully': 3630, 'experienced': 3131, 'optimistic': 6070, 'absent': 118, 'wrote': 9848, 'cliff': 1561, 'notes': 5940, 'edition': 2765, 'improvise': 4437, 'directionless': 2410, 'rollicking': 7373, 'weighs': 9645, 'profundity': 6761, 'disquietingly': 2487, 'affirming': 255, 'stiletto': 8341, 'stomps': 8365, 'dude': 2677, 'uh': 9133, 'zaidan': 9892, 'paycheck': 6321, 'betty': 871, 'closed': 1580, 'hanky': 4035, 'panky': 6232, 'juiceless': 4843, 'wild': 9725, 'boho': 992, 'sensation': 7688, 'definitive': 2192, 'counter': 1914, 'document': 2533, 'inquisitive': 4577, 'recovering': 7036, 'incongruous': 4470, 'wankery': 9573, 'bog': 987, 'kennedy': 4884, 'assassination': 575, 'revealing': 7260, 'pathology': 6299, 'investigate': 4686, 'anemic': 410, 'impostor': 4422, 'deviously': 2351, 'adopts': 219, 'closing': 1583, 'erratic': 2991, 'dramedy': 2613, 'inescapable': 4520, 'uncertain': 9167, 'shapable': 7778, 'from': 3608, 'replacing': 7177, 'object': 5976, 'misbegotten': 5596, 'diggs': 2386, 'ended': 2889, 'divided': 2522, 'dysfunctional': 2714, 'portrays': 6604, 'absorbing': 123, 'engaged': 2905, 'overinflated': 6149, 'mythology': 5788, 'recognizes': 7025, 'porridge': 6597, 'enjoyably': 2924, 'chewy': 1455, 'spectacularly': 8150, 'throughout': 8850, 'inducingly': 4506, 'phoney': 6419, 'device': 2348, 'disgust': 2457, 'coarse': 1605, 'trifling': 9044, 'squanders': 8234, 'hugh': 4287, 'grant': 3888, 'sandra': 7495, 'bullock': 1177, 'synergistic': 8646, 'impulse': 4440, 'created': 1969, '91': 93, 'coherent': 1619, 'apted': 497, 'enigma': 2920, 'kazan': 4876, 'reversal': 7268, 'fortune': 3534, 'bout': 1053, 'disservice': 2490, 'denial': 2252, 'mourning': 5718, 'spiritualism': 8181, 'distressingly': 2508, 'abiding': 108, 'hallucinogenic': 4010, 'buzz': 1216, 'overwhelming': 6176, 'spine': 8173, 'scratching': 7600, 'amazement': 363, 'participate': 6267, 'sanctimony': 7490, 'sermon': 7720, 'health': 4098, 'insurance': 4621, 'named': 5799, 'kidnapper': 4896, 'emphasizing': 2861, 'hairpiece': 4000, 'lai': 4980, 'villainous': 9487, 'graveyard': 3898, 'encumbers': 2883, 'dodge': 2538, 'sc2': 7536, 'autopilot': 654, 'concoction': 1750, 'authentic': 648, 'remove': 7152, 'will': 9732, 'registering': 7094, 'blip': 947, 'radar': 6906, 'baffled': 703, 'uncouth': 9182, 'vicious': 9465, 'increasingly': 4476, 'cycle': 2077, 'describing': 2296, 'badness': 702, 'invented': 4678, 'clumsiness': 1596, 'damning': 2093, 'censure': 1367, 'follow': 3477, 'connect': 1785, 'dots': 2578, 'commonplace': 1683, 'explore': 3146, 'seamy': 7636, 'underbelly': 9192, 'criminal': 1997, 'dripping': 2644, 'bypassing': 1221, 'trivialize': 9056, 'amuse': 388, 'wars': 9591, 'lumbering': 5265, 'wheezy': 9680, '99': 98, 'laughable': 5022, 'unlaughable': 9297, 'punch': 6838, 'drunk': 2667, 'brilliance': 1112, 'smash': 8009, 'dare': 2105, 'thematically': 8798, 'bowel': 1055, 'indictment': 4492, 'unbridled': 9164, 'greed': 3908, 'materalism': 5424, 'asks': 567, 'suspend': 8591, 'pooper': 6576, 'scoopers': 7585, 'frightening': 3600, 'fee': 3297, 'seemed': 7663, 'expiration': 3136, 'masturbation': 5421, 'elephant': 2812, 'unintended': 9282, 'humorous': 4306, 'favorite': 3279, 'pet': 6398, 'buried': 1188, 'unifying': 9272, 'duckling': 2675, 'accidental': 141, 'relegated': 7116, 'corner': 1892, 'skippable': 7942, 'hayseeds': 4087, 'bigger': 886, 'setpieces': 7733, 'boom': 1018, 'porno': 6594, 'lust': 5280, 'cannes': 1270, 'capture': 1292, 'sole': 8064, 'conditioning': 1756, 'sing': 7898, 'lyric': 5289, 'tonight': 8923, 'moviegoing': 5727, 'dominated': 2556, 'calculated': 1239, 'amused': 389, 'freddy': 3570, 'fingered': 3375, 'side': 7859, 'induce': 4502, 'fright': 3598, 'proverbial': 6797, 'improvement': 4434, 'tolerable': 8910, 'slog': 7985, 'trod': 9057, 'sprung': 8226, 'chirpy': 1474, 'songbird': 8087, 'popped': 6582, 'trudge': 9066, 'rode': 7363, 'zipper': 9906, 'eating': 2741, 'cotton': 1909, 'arrives': 534, 'cloaked': 1573, 'euphemism': 3022, 'flag': 3401, 'angry': 417, 'potshot': 6626, 'bush': 1203, 'henry': 4142, 'kissinger': 4919, 'larry': 5011, 'et': 3013, 'al': 305, 'conveyor': 1863, 'belt': 847, 'parade': 6243, 'drowsy': 2661, 'infatuated': 4530, 'expose': 3152, 'basic': 771, 'offers': 6019, 'annie': 432, 'jordan': 4819, 'weirdo': 9654, 'crispin': 2002, 'glover': 3803, 'screwing': 7613, 'snide': 8036, 'hokey': 4210, 'hellish': 4133, 'numbing': 5968, 'debated': 2149, 'medium': 5479, '90s': 92, 'various': 9426, 'silbersteins': 7873, 'profoundly': 6760, 'populating': 6588, 'meanspirited': 5464, 'credibility': 1978, 'arrest': 530, 'existence': 3111, 'vein': 9439, 'closer': 1581, 'third': 8821, 'revenge': 7265, 'nerds': 5866, '140': 18, 'circumstance': 1514, 'sane': 7497, 'boorish': 1020, 'sweaty': 8612, 'coat': 1606, 'shopping': 7825, 'porn': 6593, 'herzog': 4151, 'fallen': 3224, 'bank': 731, 'manager': 5347, 'maddeningly': 5302, 'sedate': 7653, 'variety': 9425, 'elizabeth': 2822, 'hurley': 4314, 'appreciate': 489, 'overpowered': 6158, 'gets': 3749, 'molested': 5648, 'dizzy': 2527, 'disorientated': 2478, 'philosophically': 6412, 'intellectually': 4630, 'logistically': 5199, 'eternal': 3015, 'pique': 6461, 'indifference': 4494, 'succeeded': 8487, 'groggy': 3938, 'outwardly': 6132, 'unsuccessful': 9349, 'did': 2374, 'scented': 7558, 'bath': 777, 'praying': 6644, 'your': 9887, 'seat': 7642, 'backseat': 696, 'trifecta': 9042, 'counterculture': 1915, 'affinity': 254, 'shamble': 7772, 'damn': 2091, 'sillified': 7877, 'ineptly': 4518, 'supposedly': 8556, 'deem': 2175, 'fell': 3304, 'bang': 729, 'front': 3609, 'cluelessness': 1594, 'misplaced': 5611, 'earnestness': 2728, 'below': 846, 'approached': 494, 'usher': 9392, 'cruelly': 2024, 'crucial': 2018, 'coherence': 1618, 'commentary': 1675, 'shoplifts': 7824, 'shamelessly': 7775, 'farewell': 3253, 'innocence': 4569, 'wanderers': 9569, 'bronx': 1137, 'cribbing': 1992, 'mug': 5744, 'genuinely': 3738, 'irwins': 4726, 'defying': 2196, 'iceberg': 4335, 'melt': 5495, 'puttingly': 6867, 'understandable': 9216, 'motivation': 5707, 'diplomat': 2402, 'tweaked': 9110, 'statecraft': 8293, 'brazenly': 1082, 'moldering': 5646, 'should': 7831, 'slappingly': 7956, 'cult': 2044, 'phenomenon': 6406, 'peaked': 6328, 'dying': 2711, 'evade': 3026, 'responsibility': 7229, 'toddler': 8905, 'shocked': 7815, 'discover': 2443, 'columbus': 1646, 'hat': 4075, 'stifle': 8338, 'creativity': 1975, 'program': 6762, 'imitative': 4390, 'innumerable': 4575, 'derision': 2286, 'drowned': 2659, 'dullingly': 2686, 'yawn': 9863, 'farm': 3254, 'judgment': 4839, 'stultifyingly': 8437, 'collar': 1630, 'franco': 3556, 'excellent': 3078, 'walled': 9559, 'combustible': 1655, 'hustler': 4320, 'transcendent': 8985, 'sonny': 8089, 'treat': 9019, 'credulous': 1982, 'unassuming': 9155, 'subordinate': 8467, 'naturally': 5827, 'jolie': 4811, 'hideous': 4163, 'provocation': 6802, 'succeed': 8486, 'cheapening': 1429, 'aplenty': 466, 'decide': 2164, 'annoyed': 434, 'nowheresville': 5957, 'gotten': 3857, 'mugging': 5745, 'constant': 1808, 'suddenly': 8501, 'transpose': 9001, 'undermines': 9207, 'continuity': 1833, 'scrutiny': 7624, '104': 6, 'corniness': 1894, 'candid': 1265, 'hang': 4031, 'fashioned': 3262, 'fresher': 3583, 'accident': 140, 'solace': 8060, 'futile': 3653, 'moviemakers': 5729, 'crashing': 1957, 'keg': 4883, 'remind': 7144, 'unfortunate': 9258, 'gibson': 3761, 'braveheart': 1076, 'irrepressible': 4718, 'cuba': 2037, 'gooding': 3834, 'jr': 4835, 'dogs': 2544, 'boisterous': 994, 'eke': 2795, 'tug': 9087, 'spreads': 8220, 'commune': 1685, 'pitying': 6475, 'ailment': 293, 'dearth': 2145, 'vitality': 9516, 'uninflected': 9278, 'german': 3744, 'industry': 4513, 'centering': 1370, 'food': 3485, 'wallet': 9560, 'precisely': 6653, 'recompense': 7029, 'repetitious': 7173, 'authority': 651, 'gem': 3713, 'enters': 2943, 'pantheon': 6236, 'wreckage': 9837, 'includes': 4462, 'battlefield': 782, 'showgirls': 7841, 'distinguish': 2501, 'ponder': 6570, 'thanksgiving': 8789, 'highest': 4169, 'shaggy': 7761, 'alas': 308, 'victimized': 9467, 'divine': 2523, 'sisterhood': 7911, 'ploddingly': 6523, 'technological': 8728, 'juice': 4841, 'pratfall': 6643, 'chatter': 1426, 'parrot': 6264, 'oprah': 6066, 'january': 4768, 'lends': 5080, 'uhf': 9134, 'fireball': 3379, 'inexpressible': 4527, 'insecure': 4582, 'prescription': 6680, 'wewannour': 9673, 'deserving': 2302, 'backlash': 694, 'starting': 8287, 'slapping': 7955, 'alike': 323, 'russell': 7442, 'capricious': 1285, 'lightweight': 5127, 'mckay': 5452, 'intermediary': 4650, 'passage': 6279, 'hoping': 4251, 'triteness': 9051, 'service': 7727, 'album': 310, 'exhibits': 3106, 'sensationalism': 7690, 'arrived': 533, 'playoff': 6504, 'demonstrating': 2249, 'deniro': 2254, 'beach': 784, 'boardwalk': 976, 'tissue': 8896, 'siuation': 7919, 'biased': 877, 'ignoring': 4362, 'musicians': 5766, 'hypocrisy': 4329, 'lashing': 5012, 'barney': 753, 'downtown': 2593, 'matinee': 5428, 'iranian': 4704, 'grouchy': 3945, 'ayatollah': 683, 'mosque': 5698, 'revelatory': 7264, 'crassly': 1959, 'comedically': 1659, 'terminal': 8765, 'cutis': 2073, 'inexcusable': 4524, 'calm': 1248, 'agitprop': 281, 'symptom': 8644, 'awry': 682, 'lapse': 5003, 'avalanche': 656, 'fuzziness': 3657, 'dipped': 2403, 'absolute': 119, 'preaches': 6646, 'tony': 8925, 'gayton': 3701, 'reduced': 7052, 'irrelevancy': 4714, 'rape': 6946, 'pillage': 6446, 'incinerates': 4458, 'frank': 3557, 'wreaks': 9835, 'threat': 8839, 'universal': 9292, 'unengaging': 9234, 'fluffy': 3462, 'disposible': 2485, 'morally': 5683, 'bankrupt': 733, 'innate': 4567, 'theatrics': 8795, 'lose': 5224, 'luster': 5281, 'flattened': 3419, 'piano': 6429, 'cynicism': 2080, 'shabby': 7754, 'photography': 6425, 'muddy': 5743, 'exploitive': 3144, 'array': 529, 'undone': 9228, 'edits': 2766, 'occasional': 5996, 'unfold': 9251, 'caught': 1351, 'gum': 3975, 'sneak': 8032, 'pushing': 6862, 'enthusiasm': 2952, 'curiosity': 2054, 'fritter': 3607, 'via': 9457, 'indifferent': 4495, 'sixth': 7921, 'lewd': 5102, 'abysmally': 131, 'actory': 182, 'defined': 2187, 'childlike': 1465, 'dimness': 2396, 'quirk': 6893, 'academy': 132, 'succumb': 8493, 'appearing': 479, 'discern': 2432, 'disturbed': 2511, 'genius': 3731, 'adolescent': 218, 'electra': 2802, 'rebellion': 7008, 'helmer': 4136, 'dependence': 2264, 'defeat': 2180, 'darkly': 2111, 'edged': 2759, 'tome': 8915, 'unsubtle': 9348, 'offended': 6015, 'slanted': 7952, 'enervating': 2902, 'deadeningly': 2136, 'drift': 2640, 'unembarrassing': 9231, 'dragonfly': 2603, 'connection': 1787, 'identification': 4351, 'paranormal': 6251, 'costner': 1906, 'dudsville': 2678, 'fitting': 3392, 'owes': 6184, 'genesis': 3727, 'disneyland': 2477, 'expression': 3156, 'alienating': 321, 'boasting': 978, 'lit': 5167, 'breast': 1090, 'crushingly': 2031, 'equipped': 2979, 'examine': 3068, 'interior': 4649, 'incorporate': 4474, 'unholy': 9267, 'driven': 2647, 'labelled': 4959, 'innovative': 4573, 'realistic': 6993, 'translation': 8995, 'frightfest': 3602, 'italicizes': 4738, 'pride': 6713, 'others': 6104, 'elsewhere': 2829, 'conviction': 1865, 'repellantly': 7171, 'faulty': 3274, 'follows': 3480, 'exclamation': 3092, 'drawer': 2616, 'eloquent': 2826, 'outline': 6120, 'effortlessly': 2784, 'disadvantage': 2418, 'willing': 9737, 'endure': 2895, 'languorous': 4999, 'happiness': 4047, 'pared': 6254, 'subtler': 8479, 'eschews': 2997, 'panorama': 6233, 'roiling': 7369, 'pathos': 6300, 'bug': 1170, 'eyed': 3187, 'niche': 5887, 'hokum': 4211, 'churlish': 1499, 'begrudge': 821, 'receiving': 7015, 'chelsea': 1448, 'hotel': 4268, 'starving': 8291, 'depicts': 2270, 'sorriest': 8102, 'sordid': 8100, 'ebullient': 2743, 'industrial': 4512, 'model': 5635, 'freezer': 3574, 'hyped': 4325, 'menace': 5507, 'informs': 4544, 'giving': 3779, 'thumb': 8857, 'endlessly': 2892, 'generating': 3722, 'recording': 7034, 'conversation': 1855, 'checkout': 1436, 'bmw': 972, 'haranguing': 4049, 'train': 8981, 'spiffing': 8168, 'leftover': 5071, 'substantial': 8473, 'obscure': 5985, 'cocktail': 1610, 'using': 9393, 'olive': 6032, '1962': 34, 'garnish': 3691, 'monosyllabic': 5660, 'frightful': 3603, 'debt': 2152, 'miramax': 5591, 'owed': 6182, 'salvo': 7480, 'hitting': 4200, 'discernible': 2434, 'expressly': 3162, 'sewage': 7744, 'shovel': 7835, 'mental': 5510, 'gullet': 3973, 'simulate': 7891, 'sustenance': 8600, 'snail': 8028, 'martha': 5396, 'stewart': 8332, 'decorating': 2171, 'amok': 380, 'department': 2261, 'repellent': 7172, 'variation': 9424, 'distinguishes': 2503, 'distinguishing': 2504, 'exhausting': 3103, 'glitz': 3793, 'assassin': 574, 'bos': 1038, 'resourceful': 7222, 'amnesiac': 379, 'damon': 2094, 'bourne': 1052, 'predicament': 6658, 'properly': 6785, 'accurately': 154, 'slop': 7987, 'shout': 7833, 'doh': 2546, 'liman': 5140, 'venture': 9443, 'reveals': 7261, 'ratchet': 6959, 'stirring': 8354, 'grotesquely': 3944, 'hipness': 4182, 'romped': 7387, 'bathroom': 779, 'showdown': 7839, 'mushy': 5762, 'pea': 6325, 'reference': 7063, 'sleepwalk': 7970, 'vulgarity': 9540, 'enterprise': 2942, 'joint': 4807, 'association': 585, 'teenaged': 8736, 'rap': 6945, 'poster': 6617, 'lil': 5135, 'bow': 1054, 'wow': 9832, 'strange': 8385, 'warm': 9582, 'damaged': 2089, 'goods': 3836, 'lull': 5263, 'waking': 9551, 'coma': 1649, 'reasonably': 7005, 'creative': 1973, 'grader': 3873, 'inner': 4568, 'city': 1516, 'shifting': 7801, 'peculiarly': 6332, 'amorality': 382, 'anybody': 457, 'picked': 6433, 'learned': 5058, 'nobody': 5905, 'existentialism': 3114, 'forever': 3509, 'cracking': 1941, 'problematic': 6739, 'futility': 3654, 'ensues': 2937, 'splattering': 8192, 'mass': 5410, 'induced': 4503, 'evacuation': 3025, 'narratively': 5813, 'chaotic': 1399, 'amalgam': 356, 'inoffensive': 4576, 'rubber': 7415, 'goldberg': 3823, 'distinctly': 2500, 'par': 6241, 'send': 7684, 'shiver': 7812, 'sleaze': 7961, 'rally': 6926, 'standby': 8271, 'triumph': 9052, 'malarkey': 5337, 'established': 3007, 'ardently': 512, 'gobbler': 3812, 'extended': 3165, 'retard': 7244, '101': 3, 'heading': 4093, 'molestation': 5647, 'stiflingly': 8340, 'tantamount': 8686, 'serviceable': 7728, 'inelegant': 4516, 'unrelated': 9325, 'rife': 7309, 'nutty': 5973, 'faux': 3275, 'vibe': 9459, 'hotter': 4269, 'years': 9870, 'mib': 5545, 'concession': 1746, 'philip': 6408, 'cd': 1356, 'contrivance': 1843, 'miscalculates': 5597, 'forcing': 3500, 'fiddle': 3332, 'aimless': 296, 'skidding': 7932, 'patch': 6293, 'police': 6557, 'cleverly': 1555, 'suspects': 8590, 'directs': 2415, 'witherspoon': 9774, 'wasting': 9602, 'legally': 5074, 'abomination': 112, 'alabama': 306, 'harrowing': 4065, 'reedy': 7057, 'consigliere': 1802, 'pronounce': 6779, 'tame': 8682, 'slightly': 7979, 'wised': 9761, 'fred': 3568, 'schepisi': 7562, 'deathly': 2147, 'influenced': 4538, 'chiefly': 1461, 'humanity': 4294, 'desultory': 2327, 'handy': 4029, 'memories': 5504, 'faded': 3208, 'skipped': 7943, 'brainless': 1064, 'flibbertigibbet': 3437, 'contradictory': 1836, 'hating': 4078, 'than': 8786, 'ram': 6928, 'dass': 2118, 'boomer': 1019, 'extrusion': 3178, 'psychopathic': 6822, 'pulp': 6833, 'flopped': 3453, 'somnambulant': 8084, 'pretension': 6697, 'pervasive': 6392, 'quiet': 6889, 'broken': 1135, 'frequent': 3579, 'pressure': 6693, 'cooker': 1874, 'horrified': 4260, 'unabashedly': 9143, 'consumerist': 1815, 'studiously': 8431, 'mall': 5341, 'wimps': 9742, 'released': 7114, 'swing': 8627, 'mcdormand': 5449, 'harmed': 4061, 'insulted': 4618, 'torture': 8945, 'marcus': 5375, 'flung': 3465, 'illogical': 4371, 'singing': 7901, 'snapping': 8030, 'kept': 4886, 'brooklyn': 1140, 'naturalness': 5828, 'cousin': 1932, 'runner': 7433, 'feeder': 3298, 'fascinate': 3257, 'dulls': 2688, 'band': 727, 'professional': 6754, 'ruin': 7425, 'ame': 372, 'justifying': 4861, 'sundance': 8532, 'contemptible': 1824, 'imitator': 4391, 'snl': 8039, 'channeling': 1397, 'roberto': 7350, 'smothered': 8024, 'crudeness': 2021, 'accompanying': 145, 'screenful': 7606, 'gamesmanship': 3676, 'tough': 8957, 'startled': 8288, 'dozing': 2597, 'decipherable': 2167, 'desire': 2307, 'serial': 7715, '30s': 59, '40s': 62, 'sam': 7481, 'flagellation': 3402, 'circa': 1511, '1960': 33, 'sellers': 7679, 'kenneth': 4885, 'encountering': 2879, 'burns': 1194, 'fifth': 3342, 'soaked': 8046, 'tossed': 8949, 'massive': 5412, 'cardiac': 1299, 'dos': 2574, 'urgent': 9381, 'lawn': 5034, 'chair': 1385, 'assumption': 589, 'innocent': 4570, 'inherently': 4561, 'radioactive': 6910, 'disinterest': 2466, 'syrup': 8647, 'received': 7013, 'astronomically': 601, 'passable': 6278, 'repetitively': 7175, 'awash': 671, 'droning': 2652, 'ed': 2756, 'gain': 3666, 'advance': 232, 'angling': 416, 'excruciatingly': 3094, 'unromantic': 9332, 'wince': 9744, 'worry': 9822, 'subjected': 8460, 'urine': 9384, 'semen': 7680, 'cookie': 1875, 'cutter': 2075, 'imax': 4386, 'careless': 1306, 'abc': 103, 'whopping': 9711, 'shootout': 7823, 'delayed': 2205, 'sinks': 7907, 'court': 1928, 'maneuver': 5352, 'dot': 2577, 'grisly': 3931, 'broomfield': 1142, 'journalism': 4824, 'avid': 662, 'impatient': 4406, 'moron': 5692, 'wilde': 9727, 'zzzzzzzzz': 9913, 'gaghan': 3663, 'intimacy': 4660, 'dorm': 2573, 'coda': 1613, 'dogmatism': 2542, 'manipulativeness': 5361, 'narrow': 5815, 'fearful': 3284, 'debate': 2148, 'drive': 2645, 'unlimited': 9304, 'bait': 709, 'romero': 7384, 'determine': 2335, 'order': 6082, 'importance': 4418, 'possessed': 6611, 'dense': 2257, 'ugh': 9130, 'capacity': 1278, 'excite': 3087, 'flagrantly': 3404, 'thunderstorm': 8861, 'underscore': 9213, 'undistinguished': 9224, 'poke': 6552, 'rowdy': 7412, 'raunch': 6968, 'fests': 3324, 'boob': 1016, 'forewarned': 3510, 'lake': 4983, 'afterwards': 267, '98': 97, 'destructiveness': 2326, 'vicente': 9464, 'aranda': 500, 'obsessive': 5990, 'rampant': 6932, 'adultery': 231, 'hideousness': 4165, 'waited': 9548, 'breathless': 1095, 'anticipation': 448, 'hal': 4001, 'hartley': 4069, 'pore': 6591, 'guarantee': 3959, 'disrespected': 2489, 'knucklehead': 4939, 'swill': 8622, 'milked': 5564, 'irresponsible': 4721, 'sets': 7734, 'musical': 5764, 'judaism': 4837, 'rehearsed': 7098, 'jungle': 4853, 'needing': 5849, 'exhausted': 3102, 'perilously': 6370, 'pessimistic': 6397, 'unflinching': 9249, 'approaching': 495, 'visceral': 9503, 'amazingly': 365, 'uninspiring': 9281, 'immersed': 4400, 'section': 7652, 'romp': 7386, 'scott': 7596, 'kalvert': 4866, 'turf': 9098, '1958': 31, 'machismo': 5297, 'delay': 2204, 'wheezing': 9679, 'subplot': 8468, 'stamen': 8267, 'wattage': 9612, 'jokey': 4810, 'education': 2768, 'unforgettably': 9256, 'uproariously': 9373, 'features': 3294, 'kaos': 4868, 'neglecting': 5855, 'endorsement': 2893, 'abhors': 107, 'column': 1647, 'torn': 8941, 'jacket': 4750, 'dance': 2096, 'completists': 1711, 'restrictive': 7237, 'then': 8801, 'noticed': 5946, 'uselessly': 9391, 'grubbing': 3956, 'tonal': 8918, 'shift': 7800, 'jolting': 4814, 'danny': 2103, 'aiello': 292, 'mumble': 5752, 'surfeit': 8567, 'subplots': 8469, 'shadyac': 7759, 'perfunctory': 6367, 'chop': 1483, 'further': 3645, 'resonant': 7218, 'spinning': 8174, 'lola': 5201, 'pony': 6573, 'softheaded': 8058, 'metaphysical': 5535, 'norton': 5930, 'recite': 7019, 'procedural': 6740, 'detail': 2329, 'wanders': 9570, 'distanced': 2492, 'travesty': 9013, 'unparalleled': 9314, 'legendary': 5076, 'mistaken': 5618, 'identity': 4352, 'monopoly': 5659, 'falling': 3227, 'stylistically': 8454, 'looseness': 5220, 'grasping': 3891, 'misogyny': 5610, 'er': 2981, 'volcano': 9527, 'overflowing': 6147, 'septic': 7708, 'tank': 8685, 'rusted': 7444, 'restored': 7234, 'belittle': 840, 'forages': 3494, 'temperamental': 8749, 'begging': 816, 'decrepit': 2172, 'freak': 3563, 'reprieve': 7188, 'whining': 9694, 'showing': 7842, '000': 0, 'cox': 1937, 'existing': 3115, 'nijinsky': 5898, 'hodgepodge': 4207, 'hickenlooper': 4159, 'smack': 8002, 'undergrad': 9201, 'fancy': 3240, 'table': 8652, 'kraft': 4949, 'macaroni': 5293, 'cheese': 1442, 'represent': 7184, 'exemplify': 3100, 'laziest': 5041, 'mom': 5651, 'regurgitates': 7096, 'transparently': 8998, 'hypocritical': 4330, 'liberation': 5109, 'wane': 9571, 'drizzle': 2650, 'kapur': 4869, 'modernizes': 5640, 'mason': 5408, 'pluck': 6529, 'bare': 746, 'dire': 2405, 'warning': 9588, 'lucky': 5259, 'outage': 6111, 'overwhelmed': 6175, 'gift': 3765, 'magi': 5310, 'relocated': 7127, 'scuzzy': 7628, 'nyc': 5974, 'edward': 2770, 'button': 1212, 'item': 4740, 'winking': 9750, 'social': 8051, 'limpid': 5146, 'conveying': 1862, 'xxx': 9855, 'virtuosity': 9497, 'crapulence': 1955, 'squander': 8232, 'offal': 6012, 'ignored': 4361, 'delinquent': 2223, 'paperback': 6239, 'leather': 5063, 'warriors': 9590, 'switchblade': 8631, 'sexpot': 7749, 'plucking': 6530, 'dazzling': 2132, 'raising': 6924, 'cremaster': 1988, 'heedless': 4123, 'impetuousness': 4411, 'import': 4417, 'sophie': 8094, 'birot': 904, 'fuddled': 3620, 'motif': 5703, 'repugnant': 7191, 'glazed': 3783, 'tawdry': 8709, 'scum': 7625, 'decided': 2165, 'spontaneity': 8200, 'receding': 7011, 'hairline': 3999, 'weathered': 9629, 'countenance': 1913, 'breckin': 1098, 'meyer': 5544, 'ridiculously': 7307, 'ungainly': 9263, 'elbow': 2798, 'knee': 4927, 'oversexed': 6162, 'forty': 3535, 'footed': 3491, 'enchantment': 2875, 'foible': 3473, 'jell': 4786, 'goddammit': 3815, 'borstal': 1037, 'passionate': 6284, 'truthful': 9076, 'timid': 8885, '1991': 39, 'rover': 7410, 'unremittingly': 9329, 'sturdiest': 8445, 'example': 3071, 'dv': 2707, 'cheapened': 1428, 'artistry': 551, 'diaz': 2367, 'wretched': 9840, 'undisciplined': 9223, 'strutting': 8424, 'posturing': 6620, 'derisive': 2287, 'clunker': 1598, 'nettelbeck': 5872, 'understanding': 9217, 'luckiest': 5258, 'seated': 7643, 'ignorant': 4360, 'pinhead': 6451, 'talk': 8675, 'collapses': 1629, 'rifkin': 7310, 'hubert': 4278, 'selby': 7672, 'ounce': 6107, 'unrelentingly': 9327, 'remote': 7150, 'tagline': 8663, 'snore': 8042, 'lucid': 5256, 'heaven': 4116, 'deuces': 2337, 'miscalculation': 5598, 'agey': 275, 'creeping': 1986, 'irritates': 4723, 'saddens': 7459, 'explode': 3139, 'obnoxiously': 5982, '500': 68, 'bubba': 1158, 'tep': 8761, 'languishing': 4998, 'invested': 4685, 'undergraduate': 9202, 'doubling': 2580, 'subtexts': 8476, 'stab': 8244, 'disturbance': 2510, 'fixating': 3395, 'reinforcement': 7100, 'expecting': 3126, 'appear': 477, 'marquee': 5389, 'unschooled': 9338, '800': 83, 'loss': 5228, 'retitle': 7246, 'proper': 6784, 'argument': 520, 'scheme': 7561, 'treachery': 9015, 'permeates': 6373, 'esque': 3001, 'irish': 4706, 'pub': 6823, 'elevate': 2813, 'aspires': 573, 'triumphantly': 9054, 'sermonize': 7721, 'okay': 6028, 'arrogant': 536, 'richard': 7297, 'pryor': 6812, 'unimaginatively': 9275, 'epps': 2972, 'natural': 5824, 'affability': 245, 'tucker': 9085, 'bound': 1048, 'tube': 9082, 'christian': 1492, 'rewarded': 7281, 'bright': 1110, 'pre': 6645, 'excessively': 3086, 'plotline': 6526, 'lumpy': 5268, 'paw': 6314, 'un': 9141, 'variant': 9423, 'nincompoop': 5900, 'sandlerian': 7494, 'manchild': 5350, 'lingering': 5153, 'creepiness': 1985, 'avarice': 658, 'weighted': 9647, 'grit': 3932, 'vulnerability': 9541, 'arty': 557, 'theorizing': 8803, 'expressionist': 3157, 'according': 150, 'capable': 1277, 'trio': 9047, 'illiterate': 4368, 'elfriede': 2818, 'jelinek': 4785, 'unmotivated': 9308, 'psychologically': 6819, 'unpersuasive': 9315, 'inconclusive': 4469, 'flog': 3450, 'obligation': 5979, 'hoary': 4204, 'fluxing': 3468, 'decades': 2156, 'spanning': 8127, 'strives': 8409, 'intimate': 4661, 'socially': 8052, 'encompassing': 2877, 'plastered': 6492, 'precocious': 6656, 'treading': 9016, 'cocky': 1611, 'irksome': 4708, 'spill': 8171, 'projector': 6768, 'lens': 5083, 'passed': 6280, 'unsuccessfully': 9350, 'fuse': 3647, 'corniest': 1893, 'deleting': 2208, 'advanced': 233, 'prozac': 6809, 'nation': 5820, 'rampantly': 6933, 'struck': 8416, 'unusually': 9357, 'unimpressively': 9277, 'fussy': 3652, 'viewpoint': 9481, 'cannibal': 1271, 'gambling': 3672, 'daring': 2107, 'ritter': 7337, 'satisfy': 7517, 'malleable': 5342, 'filmgoers': 3357, 'preliminary': 6671, 'fragmentary': 3547, 'piecing': 6440, 'druggy': 2664, 'trance': 8982, 'noir': 5906, 'trumped': 9072, 'parking': 6259, 'flounder': 3455, 'monday': 5654, 'biographical': 899, 'adhering': 205, 'messiness': 5530, 'loveable': 5240, 'renting': 7165, 'discretion': 2448, 'coke': 1623, 'rocket': 7360, 'scientist': 7581, 'mormon': 5690, 'predisposed': 6663, 'klein': 4924, 'invite': 4692, 'unflattering': 9248, 'installment': 4606, 'transvestite': 9002, 'ennui': 2931, 'news': 5882, 'admit': 213, 'runteldat': 7436, 'tweener': 9111, 'slick': 7974, 'decadent': 2155, 'laconic': 4973, 'traditional': 8973, 'popcorn': 6581, 'arbitrary': 502, 'mannerism': 5366, 'penchant': 6340, 'tearing': 8720, 'cue': 2040, 'sophistication': 8096, 'bearable': 788, 'mutilation': 5774, 'warrior': 9589, 'decade': 2154, 'nosedive': 5932, 'alfred': 315, 'hitchcock': 4195, 'imaginative': 4381, 'flight': 3440, 'inarticulate': 4450, 'notable': 5936, 'observation': 5987, 'gas': 3693, 'singer': 7899, 'cake': 1235, 'bleed': 940, 'verve': 9454, 'dehumanizing': 2201, 'spooky': 8207, 'packed': 6195, 'demise': 2239, 'dusty': 2703, 'leatherbound': 5064, 'satan': 7510, '24': 51, 'marker': 5385, 'preordained': 6673, 'journalistically': 4827, 'lethally': 5095, 'sleaziness': 7962, 'priggish': 6714, 'lethargically': 5096, 'renewal': 7159, 'unforgivingly': 9257, 'depiction': 2269, 'mcculloch': 5447, 'maintain': 5321, 'subjugate': 8462, 'pistoled': 6465, 'hong': 4235, 'kong': 4941, 'aesthetic': 243, 'cure': 2053, 'insomnia': 4598, 'coupling': 1923, 'disgracefully': 2453, 'scorchingly': 7589, 'miserably': 5602, 'dreadfulness': 2623, 'purposefully': 6857, 'eroticized': 2990, 'frisson': 3606, 'glacially': 3780, 'confuses': 1776, 'contorting': 1835, 'unclean': 9172, 'mary': 5404, 'pie': 6438, 'unified': 9270, 'celebi': 1357, 'smith': 8016, 'suburban': 8483, 'stripped': 8408, 'segment': 7669, 'fuzzy': 3658, 'loopy': 5217, 'hoot': 4242, 'tightened': 8873, 'grind': 3926, 'respect': 7224, 'correctness': 1900, 'decency': 2160, 'sugary': 8512, 'withholds': 9775, 'pell': 6338, 'mell': 5492, 'punchy': 6841, 'cared': 1302, 'grayish': 3900, 'theatrical': 8794, 'compared': 1693, 'overweight': 6173, 'shape': 7779, 'referential': 7065, 'jewish': 4796, 'sending': 7685, 'markedly': 5384, 'inactive': 4444, 'conversational': 1856, 'confessional': 1762, 'bastard': 774, 'rigged': 7311, 'sunk': 8535, 'gnashing': 3808, 'actorliness': 181, 'argentine': 516, 'flower': 3458, 'bull': 1175, 'captivating': 1289, 'participant': 6266, 'sputter': 8228, 'operates': 6056, 'lag': 4978, 'lurch': 5273, 'dramatics': 2609, 'reminiscent': 7149, 'flair': 3407, 'bouncing': 1046, 'characterizes': 1407, 'clip': 1570, 'recycle': 7040, 'sits': 7916, 'ordered': 6083, 'ragbag': 6913, 'girlfriends': 3774, 'baby': 688, 'kiss': 4917, 'burnt': 1195, 'teenybopper': 8738, 'replete': 7178, 'pubescent': 6825, 'scandalous': 7542, 'exoticism': 3119, 'pax': 6316, 'lulled': 5264, 'conceivable': 1735, 'filming': 3359, 'perpetrated': 6377, 'perpetually': 6378, 'hazy': 4088, 'benchmark': 849, 'lameness': 4986, 'babysitter': 689, 'sealed': 7632, 'indefinitely': 4483, '21': 48, 'introspective': 4673, 'ethnography': 3020, 'betrayal': 867, 'deceit': 2159, 'shakespearean': 7767, 'rooted': 7391, 'undergoing': 9200, 'midlife': 5553, 'hilarity': 4176, 'modest': 5641, 'dizzily': 2526, 'gorgeous': 3848, 'impeccable': 4407, 'runaway': 7432, 'primary': 6717, 'frighten': 3599, 'disturb': 2509, 'nerve': 5867, 'jaunt': 4774, 'purist': 6853, 'experimental': 3133, 'tackled': 8656, 'peppering': 6349, 'zinger': 9904, 'grace': 3865, 'prevention': 6705, 'refreshing': 7078, 'size': 7922, 'heartfelt': 4110, 'proud': 6793, 'richer': 7298, 'inventive': 4681, 'sexy': 7753, 'tells': 8748, 'proficiency': 6755, 'wonderful': 9794, 'invigorating': 4688, 'surreal': 8574, 'rainbow': 6920, 'ethic': 3017, 'tian': 8863, 'zhuangzhuang': 9902, 'masterful': 5415, 'pinnacle': 6453, 'demon': 2244, 'wallflower': 9561, '300': 57, 'russian': 7443, 'compressed': 1725, 'evanescent': 3028, 'seamless': 7634, 'sumptuous': 8530, 'stream': 8390, 'polanski': 6555, 'hopefully': 4248, 'potent': 6623, 'riveting': 7342, 'sarah': 7504, 'winds': 9747, 'narcissistic': 5810, 'achieving': 163, 'beautiful': 794, 'delectable': 2206, 'diversion': 2520, 'affecting': 250, 'portrait': 6599, 'screwed': 7612, 'dared': 2106, 'powerful': 6633, 'idealistic': 4348, 'chooses': 1481, 'champion': 1391, 'hews': 4154, 'darkness': 2112, 'weirdly': 9653, 'unpredictable': 9319, 'intoxicating': 4664, 'sleek': 7965, 'amazing': 364, 'instrument': 4614, 'cowering': 1935, 'giannini': 3758, 'abel': 105, 'ferrara': 3315, 'beaten': 793, 'dangerous': 2100, 'america': 373, 'lush': 5277, 'enveloping': 2963, 'rhapsodizes': 7289, 'uncluttered': 9173, 'shainberg': 7762, 'gaitskill': 3668, 'brilliantly': 1114, 'truest': 9068, 'beautifully': 795, 'nostalgic': 5934, 'twisty': 9121, 'yarn': 9862, 'guessing': 3964, 'imbued': 4388, 'familial': 3230, 'spirituality': 8182, 'stooping': 8369, 'base': 765, 'mamet': 5343, 'uplifting': 9366, 'literate': 5172, 'monte': 5668, 'cristo': 2003, 'smartly': 8008, 'emphasizes': 2860, 'wrought': 9849, 'omits': 6036, 'swordfights': 8636, 'renowned': 7162, 'indian': 4488, 'splendor': 8195, 'supernatural': 8549, 'parapsychological': 6253, 'soulful': 8110, 'nuance': 5959, 'rich': 7296, 'luscious': 5276, 'sizzle': 7924, 'vent': 9441, 'defiantly': 2185, 'retro': 7252, 'chord': 1485, 'outpaces': 6121, 'contemporary': 1823, 'roaring': 7346, 'miyazaki': 5628, 'wondrously': 9800, 'storyteller': 8378, 'provides': 6799, 'offbeat': 6013, 'godfrey': 3816, 'reggio': 7090, 'lonely': 5205, 'beacon': 785, 'generous': 3726, 'sillier': 7876, 'cuter': 2071, 'reassuring': 7006, 'sung': 8534, 'fused': 3648, 'eerie': 2772, 'diverse': 2519, 'joyous': 4834, 'boundary': 1049, 'celebrates': 1360, 'morality': 5681, 'confident': 1764, 'destination': 2319, 'walk': 9553, 'superbly': 8540, 'photographed': 6423, 'mendes': 5509, 'poem': 6540, 'weil': 9650, 'sharp': 7785, 'inspires': 4604, 'robinson': 7353, 'web': 9633, 'frenzy': 3578, 'austin': 642, 'powers': 6636, 'maintaining': 5323, 'appearance': 478, 'clinical': 1568, 'objectivity': 5978, 'wiseman': 9763, 'warmest': 9584, 'injects': 4566, 'evolves': 3062, 'gorgeously': 3849, 'atmospheric': 610, 'meditation': 5477, 'encounter': 2878, 'experiment': 3132, 'judith': 4840, 'zaza': 9894, 'bedroom': 808, 'sensual': 7696, 'insane': 4579, 'undertaking': 9221, 'coheres': 1620, 'breathtakingly': 1097, 'drumline': 2665, 'leigh': 5079, 'spare': 8128, 'attached': 616, 'bypass': 1220, 'frailty': 3549, 'campfire': 1260, 'willies': 9736, 'shiner': 7808, 'organizing': 6088, 'fight': 3345, 'beast': 791, 'honesty': 4234, 'wondrous': 9799, 'apex': 465, 'misunderstood': 5620, 'combine': 1651, 'enigmatic': 2921, 'memento': 5500, 'hallucinatory': 4009, 'requiem': 7196, 'individual': 4498, 'prism': 6726, 'belief': 833, 'prejudice': 6670, 'peace': 6326, 'leguizamo': 5078, 'uniformly': 9271, 'superb': 8539, 'delia': 2211, 'greta': 3917, 'paula': 6309, 'multilayered': 5748, 'sympathetic': 8642, 'averse': 661, 'secretary': 7649, 'clinic': 1567, 'spader': 8122, 'gyllenhaal': 3988, 'suspenseful': 8594, 'kouyate': 4948, 'elicits': 2821, 'government': 3860, 'asylum': 603, 'jia': 4797, 'hoped': 4246, 'moist': 5644, 'guaranteed': 3960, 'throat': 8848, 'reaffirming': 6988, 'washington': 9595, 'crudup': 2022, 'anchoring': 404, 'admirable': 207, 'sends': 7686, 'believer': 838, 'cheered': 1440, 'scope': 7587, 'startling': 8289, 'breadth': 1085, 'poignant': 6547, 'wry': 9850, 'affectionate': 253, 'peril': 6369, 'brush': 1153, 'calamity': 1238, 'awareness': 670, 'overlooked': 6155, 'politically': 6561, 'widely': 9717, 'thoughtfulness': 8835, 'directorial': 2413, 'stamp': 8268, 'stylish': 8450, 'visualize': 9512, 'handsomely': 4028, 'captures': 1294, 'quietly': 6890, 'expressing': 3155, 'someplace': 8078, 'consuming': 1816, 'absorption': 124, 'insistently': 4596, 'otherness': 6103, 'glow': 3804, 'conniving': 1789, 'robbery': 7348, 'jean': 4781, 'claude': 1540, 'damme': 2090, 'prowess': 6808, 'stopped': 8372, 'reacting': 6981, 'urgently': 9382, 'mercy': 5516, 'inventiveness': 4682, 'gasping': 3695, 'purely': 6851, 'multi': 5747, 'layered': 5038, 'humanist': 4292, 'gently': 3736, 'knowledge': 4934, 'affect': 247, 'geographical': 3739, 'displacement': 2482, 'costume': 1907, 'renaissance': 7154, 'spain': 8124, 'streamlined': 8392, 'pleaser': 6511, 'lift': 5120, 'engrossing': 2914, 'contributed': 1841, 'chabrol': 1379, 'subtlest': 8480, 'melancholy': 5488, 'unhurried': 9268, 'masterfully': 5416, 'controlled': 1847, 'defies': 2186, 'classification': 1535, 'stuart': 8425, 'delicately': 2215, 'calibrated': 1242, 'treasure': 9017, 'rival': 7339, 'vintage': 9492, 'peralta': 6351, 'luminous': 5266, 'evocative': 3057, 'dogtown': 2545, 'euphoria': 3023, 'standing': 8272, 'shadows': 7757, 'motown': 5709, 'depleted': 2271, 'yesterday': 9874, 'brand': 1068, 'tomorrow': 8916, 'integrated': 4624, 'tiny': 8889, 'revelation': 7263, 'audiard': 634, 'successfully': 8491, 'maintains': 5324, 'different': 2381, 'india': 4487, 'popular': 6584, 'gulzar': 3974, 'jagjit': 4759, 'singh': 7900, 'cheer': 1439, 'wiser': 9764, 'refreshingly': 7079, 'forthright': 3533, 'mateys': 5427, 'regardless': 7089, 'bio': 898, 'dole': 2549, 'eisenstein': 2793, 'stunning': 8440, 'meditative': 5478, 'babak': 686, 'payami': 6319, 'ballot': 718, 'evoking': 3059, 'ditty': 2514, 'humane': 4290, 'eastern': 2737, 'westbrook': 9669, 'dalrymple': 2087, 'uplift': 9364, 'enjoyed': 2925, 'ne': 5839, 'otar': 6101, 'iosseliani': 4700, 'pleasant': 6507, 'factory': 3206, 'worker': 9811, 'venice': 9440, 'playful': 6500, 'respite': 7227, 'refresh': 7075, 'ringside': 7323, 'immersive': 4401, 'outer': 6116, '3d': 60, 'muccino': 5737, 'canny': 1273, 'catharsis': 1347, 'multiplex': 5750, 'lips': 5160, 'viewed': 9477, 'treasured': 9018, 'extraordinary': 3172, 'joyful': 4831, 'solo': 8069, 'adding': 198, 'vividly': 9521, 'detailed': 2330, 'newcomer': 5879, 'inspirational': 4601, 'impressive': 4426, 'mattei': 5431, 'forming': 3527, 'chain': 1383, 'circle': 1512, 'cheek': 1437, 'helluva': 4134, 'pander': 6229, 'basest': 769, 'payback': 6320, 'vivid': 9520, 'unapologetically': 9153, 'bittersweet': 914, 'benevolent': 854, 'oddly': 6002, 'balk': 714, 'captivated': 1287, 'subtly': 8482, 'transformed': 8991, 'thomas': 8826, 'artful': 540, 'crushed': 2029, 'conjures': 1783, 'fume': 3631, 'freshly': 3584, 'painted': 6211, 'rembrandt': 7139, 'spectacular': 8149, 'completion': 1710, 'artwork': 556, 'rapport': 6949, 'striking': 8403, 'information': 4541, 'dong': 2559, 'valiant': 9410, 'fundamentals': 3635, 'riled': 7319, 'candle': 1267, 'fret': 3587, 'lesser': 5091, 'outshine': 6126, 'touching': 8955, 'reflection': 7071, 'glorious': 3799, 'griffith': 3922, 'silent': 7875, 'enthusiastic': 2954, 'literature': 5173, 'likable': 5129, 'cherished': 1452, 'bard': 745, 'willie': 9735, 'tattoo': 8706, 'borrows': 1036, 'silence': 7874, 'lambs': 4984, 'fallible': 3226, 'delineate': 2222, 'conflict': 1770, 'institution': 4612, 'preservation': 6685, 'documenting': 2537, 'subtle': 8478, 'hits': 4199, 'charmer': 1418, 'captured': 1293, 'magnificent': 5314, 'clint': 1569, 'efficiently': 2781, 'hutchins': 4322, 'zelda': 9899, 'blended': 942, 'taboo': 8653, 'pan': 6227, 'insightful': 4588, 'fondly': 3482, 'remembered': 7141, 'challenging': 1389, 'maze': 5444, 'teeming': 8733, 'reef': 7058, 'lover': 5245, 'awake': 665, 'tense': 8759, 'denied': 2253, 'invincible': 4689, 'form': 3521, 'astoundingly': 598, 'deceptively': 2163, 'develops': 2346, 'labour': 4963, 'scripting': 7619, 'accomplishes': 148, 'sip': 7908, 'wine': 9749, 'ivory': 4744, 'iced': 4336, 'tea': 8714, 'richness': 7300, 'imagery': 4378, 'chiaroscuro': 1456, 'madness': 5305, 'dooper': 2565, 'adorability': 220, 'intact': 4622, 'sparkling': 8134, 'trove': 9064, 'masculine': 5406, 'storm': 8375, 'lying': 5286, 'ribcage': 7293, 'ache': 158, 'effecting': 2775, 'immensely': 4398, 'pauline': 6311, 'paulette': 6310, 'der': 2282, 'groen': 3937, 'described': 2294, 'belgium': 832, 'cheery': 1441, 'kissing': 4918, 'jessica': 4795, 'stein': 8313, 'grownup': 3953, 'whimsical': 9690, 'crave': 1961, 'bai': 708, 'brother': 1145, 'opened': 6052, 'process': 6743, 'sword': 8635, 'enhances': 2918, 'manual': 5368, 'gorgeousness': 3850, 'blue': 966, 'thrillingly': 8846, 'technology': 8729, 'charlotte': 1416, 'sheerly': 7794, 'unexpectedly': 9241, 'resistance': 7214, 'transcendence': 8984, 'ramsay': 6934, 'expanse': 3122, 'griffiths': 3923, 'pryce': 6811, 'welsh': 9660, 'whimsy': 9692, 'outstanding': 6129, 'adored': 223, 'spit': 8184, 'denzel': 2260, 'encouraging': 2882, 'average': 660, 'aged': 270, 'discovery': 2446, 'sensitivity': 7695, 'yearning': 9869, 'bursting': 1200, 'incident': 4457, 'fictional': 3331, 'livelier': 5180, 'alternative': 351, 'ideal': 4346, 'ian': 4332, 'holm': 4221, 'lear': 5056, 'heartwarming': 4112, 'unfolding': 9252, 'bielinsky': 883, 'greatly': 3906, 'satisfyingly': 7519, 'enthusiastically': 2955, 'invokes': 4696, 'percussion': 6355, 'brass': 1070, 'fierce': 3338, 'competition': 1705, 'marching': 5373, 'football': 3490, 'infused': 4548, 'inherent': 4560, 'painting': 6213, 'ferrera': 3316, 'ontiveros': 6045, 'sensitive': 7694, 'exquisite': 3163, 'anthropomorphic': 444, 'makeup': 5332, 'design': 2304, 'subtitle': 8477, 'emperor': 2857, 'club': 1591, 'ruthless': 7446, 'placid': 6482, 'conservative': 1796, 'hidebound': 4162, 'tradition': 8972, 'relevance': 7119, 'trial': 9032, 'unexpected': 9240, 'refined': 7068, 'whipping': 9698, 'punching': 6839, 'wonderfully': 9795, 'voting': 9532, 'conception': 1741, 'holographic': 4226, 'librarian': 5112, 'orlando': 6095, 'nicely': 5885, 'unadulterated': 9148, 'avant': 657, 'garde': 3686, 'crazed': 1964, 'huston': 4321, 'larger': 5007, 'fragile': 3545, 'literary': 5171, 'multiple': 5749, 'strand': 8384, 'finely': 3371, 'exquisitely': 3164, 'performed': 6364, 'delightfully': 2221, 'transcend': 8983, 'label': 4958, 'faithful': 3221, 'elect': 2801, 'imposed': 4420, 'dynamism': 2713, 'grain': 3879, 'jagger': 4758, 'stoppard': 8371, 'preserve': 6686, 'tosca': 8947, 'ardor': 513, 'communicates': 1687, 'charlie': 1415, 'hunnam': 4311, 'twinkling': 9116, 'repressed': 7187, 'dickensian': 2371, 'measured': 5468, 'themed': 8800, 'sweeping': 8613, 'exceptional': 3083, 'uplifter': 9365, 'sweetness': 8618, 'accomplishment': 149, 'maintained': 5322, 'charles': 1414, 'stone': 8366, 'iii': 4364, 'lapping': 5002, 'infectious': 4531, 'draw': 2615, 'effortless': 2783, 'overwhelms': 6178, 'perry': 6380, 'buoyant': 1185, 'deft': 2194, 'ally': 337, 'mcbeal': 5446, 'slyly': 8001, 'bewilderingly': 874, 'matthew': 5434, 'lillard': 5137, 'born': 1034, 'colour': 1641, 'sadness': 7466, 'chekhov': 1447, 'succumbing': 8494, 'elegantly': 2807, 'expressively': 3160, 'crystallize': 2035, 'minutely': 5585, 'dreamlike': 2627, 'ecstasy': 2755, 'inject': 4565, 'melanie': 5490, 'carmichael': 1313, 'infusion': 4550, 'moon': 5676, 'fuel': 3623, 'demonstrated': 2247, 'knack': 4926, 'mixing': 5626, 'idiosyncratic': 4354, '2000': 44, 'shanghai': 7776, 'noon': 5926, 'laughed': 5024, 'jealousy': 4780, 'robert': 7349, 'travis': 9014, 'bickle': 882, 'understated': 9219, 'nicholson': 5889, 'maguire': 5315, 'wire': 9756, 'amaze': 362, 'format': 3523, 'musician': 5765, 'regalia': 7086, 'incredible': 4477, 'system': 8648, 'toe': 8906, 'surprised': 8571, 'lavish': 5032, 'grandeur': 3881, 'precision': 6655, 'stark': 8283, 'reminder': 7146, 'casualty': 1337, 'ethical': 3018, 'angle': 415, 'communal': 1684, 'yesteryear': 9875, 'inability': 4443, 'lived': 5179, 'paxton': 6317, 'contentedly': 1828, 'energizing': 2900, 'charting': 1421, 'turntablism': 9104, 'compellingly': 1700, 'blisteringly': 949, 'scarily': 7548, 'sorrowfully': 8105, 'survey': 8581, 'kieran': 4898, 'culkin': 2042, 'holden': 4213, 'son': 8085, 'acumen': 187, 'maelstrom': 5307, 'catching': 1344, 'freud': 3588, 'kinnear': 4913, 'portrayal': 6602, 'cho': 1475, 'tall': 8680, 'carlin': 1310, 'learn': 5057, 'nonchallenging': 5915, 'walking': 9556, 'architecture': 508, 'unpretentious': 9320, 'courageousness': 1926, 'employment': 2865, 'intelligently': 4633, 'pipeline': 6460, 'hitch': 4194, 'gate': 3696, 'barb': 738, 'rewarding': 7282, 'adolescence': 217, 'conan': 1732, 'barbarian': 740, 'cussing': 2066, 'tunisian': 9094, 'transformation': 8990, 'widow': 9719, 'exotic': 3118, 'capturing': 1295, 'reagan': 6989, 'gleefully': 3786, 'deliberately': 2213, '1957': 30, 'notch': 5938, 'manage': 5345, 'throws': 8855, 'he': 4089, 'difficulty': 2384, 'accepting': 136, 'reflected': 7070, 'command': 1669, 'solely': 8065, 'enriched': 2935, 'unforced': 9254, 'solidly': 8067, 'awarded': 668, 'status': 8299, 'manhood': 5354, 'complicated': 1715, 'delf': 2209, 'passive': 6286, 'esteem': 3010, 'observed': 5988, 'field': 3335, 'principal': 6721, 'youthful': 9889, 'diva': 2515, 'tenor': 8758, 'richly': 7299, 'handsome': 4027, 'duly': 2689, 'astronaut': 600, 'floating': 3449, 'cabin': 1225, 'dinner': 2398, 'lively': 5181, 'ease': 2733, 'integrates': 4625, 'pasta': 6288, 'fagioli': 3209, 'pointed': 6549, 'incisive': 4459, 'unabashed': 9142, 'bracing': 1062, 'ahem': 287, 'bravery': 1077, 'dedication': 2173, 'reporter': 7181, 'willingly': 9738, 'posterity': 6618, 'curiously': 2056, 'crescendo': 1990, 'encompasses': 2876, 'ashamed': 562, 'admitting': 215, 'enjoyment': 2927, 'came': 1251, 'goliath': 3826, 'skillful': 7935, 'boarder': 975, 'deserved': 2300, 'choreography': 1488, 'entranced': 2959, 'tasteful': 8701, 'revision': 7272, 'enhancing': 2919, 'economic': 2752, 'ten': 8751, 'steadfast': 8302, 'dualistic': 2671, 'excellence': 3077, 'roman': 7376, 'oftentimes': 6025, 'hopeful': 4247, 'lothario': 5231, 'jeffrey': 4783, 'tambor': 8681, 'jazz': 4777, 'exterminator': 3169, '78': 81, 'zing': 9903, 'vibrance': 9460, 'tufano': 9086, 'widescreen': 9718, 'grabowsky': 3864, 'orders': 6084, 'these': 8808, 'liberty': 5111, 'goofiest': 3841, 'surest': 8563, 'bet': 866, 'anakin': 396, 'lustrous': 5282, 'polished': 6558, 'perkiness': 6372, 'locale': 5191, 'nonjudgmental': 5922, 'fluid': 3463, 'breathe': 1092, 'loyal': 5253, 'stray': 8388, 'scorpion': 7594, 'loneliness': 5204, 'nolan': 5909, 'undercurrent': 9194, 'cerebral': 1373, 'cinemantic': 1506, 'stimulating': 8346, 'pianist': 6428, 'cautionary': 1354, 'prevent': 6704, 'puff': 6830, 'reveal': 7258, 'impressively': 4427, 'chateau': 1425, 'belongs': 844, 'rudd': 7419, 'dependent': 2265, 'flakeball': 3408, 'spouting': 8218, 'malapropism': 5336, 'fencing': 3312, 'integrity': 4627, 'admirer': 210, 'ilk': 4366, 'notably': 5937, 'duvall': 2706, 'strength': 8395, 'willingness': 9739, 'patric': 6304, 'ray': 6973, 'liotta': 5158, 'splendidly': 8194, 'sacrificing': 7456, 'suspenser': 8595, 'contructed': 1850, 'adage': 189, 'careful': 1304, 'workout': 9814, 'documentarians': 2534, 'parlor': 6260, 'droll': 2651, 'compassion': 1695, 'sleeper': 7968, 'nuanced': 5960, 'pondering': 6571, 'pleasurable': 6514, 'miller': 5568, 'painterly': 6212, 'grenier': 3915, 'rapid': 6948, 'toback': 8903, 'heidegger': 4126, 'nietzsche': 5893, 'referencing': 7064, 'patriot': 6306, 'wallop': 9562, 'winter': 9755, 'landscape': 4993, 'grenoble': 3916, 'geneva': 3728, 'mounting': 5715, 'expert': 3134, 'gradually': 3874, 'saving': 7526, 'private': 6730, 'israeli': 4733, 'palestinian': 6221, 'revealed': 7259, 'odds': 6003, 'trust': 9073, 'infectiously': 4532, 'noyce': 5958, 'patient': 6302, 'tenacious': 8752, 'serenity': 7712, 'discipline': 2436, 'shockwaves': 7818, 'gratify': 3894, 'suspected': 8589, 'topics': 8935, 'sailor': 7472, 'blush': 971, 'quaid': 6871, 'fearless': 3285, 'reverent': 7266, 'town': 8965, 'becoming': 805, 'irresistibly': 4720, 'baran': 737, 'elegant': 2806, 'craftsmanship': 1946, 'intergalactic': 4648, 'stylistic': 8453, 'brightly': 1111, 'cricket': 1993, 'conversion': 1858, 'returning': 7256, 'minkoff': 5580, 'rubin': 7418, 'updating': 9363, 'strongest': 8414, 'mcmullen': 5453, 'concentration': 1739, 'waltz': 9565, 'somebody': 8074, 'suggested': 8514, 'undeniably': 9189, 'adventurous': 237, 'fringe': 3605, 'underground': 9203, 'fleet': 3431, 'pleasingly': 6513, 'upbeat': 9361, 'metaphorical': 5534, 'wherever': 9684, 'clash': 1529, 'unreachable': 9321, 'women': 9791, 'have': 4083, 'curves': 2063, 'chronicle': 1495, 'represented': 7185, 'astounding': 597, 'cor': 1887, 'blimey': 945, 'luv': 5284, 'cockney': 1609, 'uk': 9135, 'carter': 1321, 'newcastle': 5878, 'drip': 2643, 'energized': 2899, 'volletta': 9528, 'maternal': 5426, 'fury': 3646, 'fearlessness': 3287, 'whimsicality': 9691, 'alert': 313, 'ignite': 4359, 'bride': 1107, 'posse': 6610, 'advantage': 234, 'edges': 2760, 'constraint': 1810, 'espionage': 2999, 'adrenaline': 226, 'boost': 1022, 'notwithstanding': 5951, 'sporadic': 8208, 'freudianism': 3590, 'taut': 8707, 'sobering': 8050, 'splashed': 8189, 'roundelay': 7406, 'partner': 6271, 'function': 3633, 'interplay': 4657, 'partnership': 6272, 'gator': 3697, 'bashing': 770, 'behold': 830, 'finesse': 3372, 'england': 2910, 'mitchell': 5622, 'handily': 4022, 'pleasing': 6512, 'notting': 5950, 'hill': 4178, 'heft': 4125, 'juiced': 4842, 'elvira': 2831, 'absorb': 121, 'delirious': 2224, 'mount': 5712, 'skateboard': 7925, 'motorcycle': 5708, 'immense': 4397, 'perfection': 6360, 'anchor': 402, 'backmasking': 695, 'wickedly': 9715, 'inimitable': 4563, 'tenderness': 8756, 'discontent': 2439, 'twisting': 9120, 'minor': 5581, 'pastry': 6291, 'vin': 9489, 'diesel': 2379, 'seductive': 7655, 'isolation': 4731, 'recreates': 7038, 'physical': 6427, 'papin': 6240, 'sister': 7910, 'testing': 8779, 'stinging': 8349, 'crisp': 2001, 'unaffected': 9149, 'morrison': 5695, 'uncompromising': 9178, 'pimple': 6450, 'reminds': 7148, 'accept': 134, 'opulent': 6074, 'lushness': 5279, 'surroundings': 8580, 'resonate': 7219, 'fascinates': 3258, 'poetics': 6543, 'savor': 7528, 'parents': 6256, 'appetizer': 482, 'kiddy': 4894, 'obstacle': 5991, 'miracle': 5589, 'speaks': 8141, 'courtroom': 1930, 'billed': 893, 'nicole': 5892, 'holofcenter': 4225, 'illuminating': 4373, 'task': 8699, 'finest': 3373, 'bondish': 1011, 'texan': 8782, 'ratliff': 6964, 'access': 138, 'church': 1498, 'meeting': 5481, 'describes': 2295, 'graffiti': 3877, 'sulky': 8523, 'overcoming': 6141, 'obstacles': 5992, 'profile': 6757, 'defining': 2189, 'delicious': 2216, 'trimming': 9046, 'lighthearted': 5124, 'impudent': 4439, 'snicker': 8035, 'humankind': 4296, 'liberating': 5108, 'tavernier': 8708, 'tat': 8705, 'his': 4186, 'gloriously': 3800, 'adrenalized': 227, 'commanding': 1671, 'enthusiast': 2953, 'travail': 9009, 'heck': 4120, 'analytical': 398, 'illogic': 4370, 'permit': 6375, 'compulsively': 1728, 'daytime': 2130, 'heartbreaking': 4106, 'assured': 591, 'scared': 7547, 'esteemed': 3011, 'highlighted': 4171, 'kwan': 4957, 'timeless': 8879, 'danger': 2099, 'blanchett': 925, 'ribisi': 7294, 'piscopo': 6462, 'priceless': 6712, 'correctly': 1899, 'quaint': 6872, 'romanticized': 7383, 'rendering': 7157, 'unconventional': 9179, 'gutsy': 3983, 'anguish': 419, 'elusive': 2830, 'swung': 8637, 'dropped': 2655, 'anteing': 442, 'negotiate': 5857, 'darker': 2110, 'enormously': 2933, 'lingerie': 5152, 'dancer': 2097, 'midwest': 5555, 'reward': 7280, 'hippie': 4184, 'yuppie': 9891, 'melancholic': 5487, 'reminded': 7145, 'splendid': 8193, 'transported': 8999, 'wladyslaw': 9785, 'szpilman': 8651, 'emphatic': 2862, 'kurys': 4956, 'brimming': 1116, 'coltish': 1643, 'neurotic': 5873, 'gadget': 3660, 'creature': 1977, 'hardhearted': 4055, 'respond': 7228, 'boast': 977, 'hottest': 4270, 'hippest': 4183, 'embraced': 2844, 'wary': 9593, 'demme': 2240, 'fontaine': 3484, 'blockage': 952, 'accompanies': 144, 'vietnamese': 9475, 'companion': 1689, 'standout': 8274, 'diane': 2364, 'lane': 4994, 'razzle': 6975, 'dazzle': 2131, 'recovery': 7037, 'later': 5015, 'fathers': 3271, 'tremors': 9029, 'legged': 5077, 'freaks': 3565, 'prime': 6718, 'escapist': 2996, 'jolt': 4813, 'usurp': 9396, 'prevails': 6702, 'uniquely': 9288, 'dramatization': 2610, 'fudges': 3622, 'confidence': 1763, 'purer': 6852, 'naomi': 5805, 'watts': 9613, 'rachel': 6902, 'petite': 6401, 'vulnerable': 9542, 'emphasising': 2859, 'plight': 6520, 'giddy': 3762, 'flagging': 3403, 'legal': 5073, 'investigator': 4687, 'presson': 6692, 'eloquently': 2827, 'symbiotic': 8640, 'escapade': 2993, 'coppola': 1884, 'sofia': 8056, 'extraordinarily': 3171, 'homework': 4229, 'jazzy': 4778, 'revisionist': 7273, 'theory': 8804, 'origin': 6092, 'nazi': 5837, 'conduct': 1758, 'smoky': 8018, 'inviting': 4694, 'airy': 302, 'bon': 1007, 'bons': 1014, 'samurai': 7487, 'jiang': 4798, 'wen': 9662, 'devils': 2349, 'wartime': 9592, 'alternately': 349, 'gut': 3981, 'wrenching': 9838, 'joseph': 4821, 'heller': 4132, 'kurt': 4955, 'vonnegut': 9530, 'likeable': 5131, 'cuisine': 2041, 'tune': 9092, 'wisdom': 9758, 'vibrant': 9461, 'grandkids': 3883, 'grandparent': 3886, 'splashy': 8191, 'entertainingly': 2947, 'intermittently': 4653, 'bowl': 1056, 'bogdanovich': 988, 'perspective': 6389, 'kirsten': 4916, 'dunst': 2698, 'davies': 2123, 'generosity': 3725, 'diplomacy': 2401, 'land': 4989, 'catherine': 1348, 'breillat': 1102, 'sewing': 7746, 'deranged': 2284, 'immediacy': 4394, 'stanley': 8278, 'stripe': 8407, 'frills': 3604, '129': 14, 'vittorio': 9517, 'sica': 7854, 'chemically': 1449, 'teaming': 8717, 'crystal': 2034, 'loyalty': 5254, 'leaping': 5055, 'kosminsky': 4946, 'sliver': 7983, 'condensed': 1752, 'adrien': 229, 'brody': 1132, 'jeffs': 4784, 'acute': 188, 'expressiveness': 3161, 'rugrats': 7424, 'methodical': 5537, 'reductive': 7054, 'lodging': 5195, 'bodied': 984, 'craft': 1943, 'imbue': 4387, 'impersonation': 4410, 'enjoying': 2926, 'shoulder': 7832, 'anguished': 420, 'eclipse': 2750, 'villeneuve': 9488, 'dicaprio': 2368, 'huppert': 4313, 'volatile': 9526, 'prescient': 6678, 'jaw': 4775, 'dropping': 2656, 'palette': 6222, 'boffo': 986, 'apple': 485, 'encourage': 2880, 'samira': 7483, 'makhmalbaf': 5333, 'distinctive': 2499, 'conspicuous': 1807, 'dench': 2251, 'crafty': 1947, 'irrevocable': 4722, 'articulate': 542, 'satin': 7511, 'rouge': 7402, 'intellect': 4628, 'sociological': 8054, 'octane': 6000, 'unwary': 9358, 'uncut': 9185, 'sergio': 7714, 'leone': 5087, 'staggering': 8254, 'ballet': 716, 'lilo': 5138, 'silver': 7880, 'watercolor': 9608, 'dumbo': 2693, 'achieve': 159, 'into': 4662, 'intensity': 4637, 'dadaist': 2083, 'tackle': 8655, 'piccoli': 6431, 'gooeyness': 3839, 'longtime': 5211, 'tolkien': 8913, 'neophyte': 5864, 'victor': 9468, 'rosa': 7394, 'internalized': 4655, 'pete': 6399, 'flowing': 3460, 'accomplish': 146, 'arcane': 504, 'chicago': 1457, 'pacino': 6192, 'upping': 9369, 'ante': 441, 'fiercely': 3339, 'precarious': 6649, 'exiled': 3108, 'aristocracy': 521, 'victorious': 9469, 'revolutionary': 7278, 'didacticism': 2376, 'humanism': 4291, 'bertrand': 860, 'oft': 6023, 'safe': 7468, 'laissez': 4982, 'passer': 6281, 'sleeve': 7971, 'gosling': 3853, 'magnetic': 5313, 'alias': 316, 'masterpeice': 5419, 'smartest': 8007, 'titillating': 8898, 'curling': 2057, 'revives': 7275, 'wheeling': 9678, 'cinderella': 1504, 'proved': 6795, 'hailed': 3997, 'hitchcockianism': 4197, 'chabrolian': 1380, 'powered': 6632, 'holds': 4214, 'barred': 756, 'intricate': 4666, 'memorial': 5503, 'trade': 8970, 'swathe': 8607, 'retaining': 7242, 'refusing': 7084, 'haunting': 4082, 'namely': 5800, 'archetypal': 506, 'benefit': 853, 'reside': 7210, 'primarily': 6716, 'knockout': 4931, 'honor': 4236, 'conflicted': 1771, 'square': 8235, 'sylvie': 8639, 'testud': 8781, 'icily': 4337, 'fabric': 3191, 'hypnotic': 4327, 'foster': 3536, 'spontaneous': 8201, 'convey': 1861, 'brit': 1122, 'anchored': 403, 'honored': 4238, 'veteran': 9456, 'transform': 8989, 'convincingly': 1870, 'portuguese': 6605, 'manoel': 5367, 'oliviera': 6033, 'veggietales': 9437, 'appetizing': 483, 'asparagus': 569, 'stir': 8353, 'carpenter': 1315, 'unnerving': 9310, 'blessed': 944, 'skeleton': 7927, 'rule': 7427, 'regarding': 7088, 'governance': 3859, 'hierarchy': 4166, 'darned': 2114, 'riveted': 7341, 'plethora': 6519, 'spicy': 8163, 'footnote': 3492, 'grip': 3928, 'rapt': 6950, 'kiosk': 4914, 'pink': 6452, 'dreamy': 2631, 'chinese': 1473, 'depict': 2267, 'homosexual': 4231, 'sarandon': 7505, 'wasp': 9598, 'matron': 5430, 'ourside': 6109, 'spending': 8158, 'morton': 5696, 'interaction': 4642, 'juan': 4836, 'carlos': 1311, 'fresnadillo': 3586, 'formed': 3524, 'hamming': 4015, 'winningly': 9753, 'informative': 4542, 'observant': 5986, 'discussed': 2449, 'discreet': 2447, 'mini': 5577, 'fleetingly': 3433, 'jackal': 4748, 'wilco': 9724, 'convert': 1859, 'restraint': 7236, 'ambiguity': 366, 'testimony': 8778, 'satisfied': 7515, 'customer': 2067, 'enormous': 2932, 'package': 6194, 'duty': 2705, 'agreeably': 284, 'slave': 7960, 'precise': 6652, 'discordant': 2441, 'topple': 8938, 'paradoxically': 6246, 'illuminated': 4372, 'liza': 5183, 'flippant': 3447, 'lock': 5193, 'smoking': 8017, 'barrels': 759, 'tearful': 8719, 'offering': 6018, 'gaze': 3703, 'alongside': 342, 'georgia': 3741, 'asphalt': 571, 'establishes': 3008, 'norm': 5927, 'branagh': 1066, 'heroic': 4147, 'condone': 1757, 'shared': 7784, 'destined': 2320, 'quitting': 6896, 'doc': 2531, 'steady': 8304, 'fans': 3241, 'undoubtedly': 9229, 'invasion': 4677, 'sweetly': 8617, 'arguably': 518, 'accomplished': 147, 'versatile': 9452, 'perennial': 6357, 'delivering': 2228, 'wholesome': 9706, 'intoxication': 4665, 'swooning': 8633, 'elegance': 2805, 'quintet': 6892, 'recommendation': 7027, 'smashing': 8010, 'overwhelmingly': 6177, 'noticeably': 5945, 'ghetto': 3754, 'steers': 8312, 'above': 115, 'improves': 4435, 'lathan': 5017, 'chief': 1460, 'residence': 7211, 'carved': 1326, 'imaginatively': 4382, 'christopher': 1494, 'plummer': 6532, 'complexly': 1714, 'uncle': 9171, 'combines': 1653, 'atmospherics': 611, 'dealing': 2141, 'begins': 819, 'docu': 2532, 'flourish': 3456, 'bisset': 907, 'radiant': 6907, 'happily': 4046, 'spangle': 8126, 'monsoon': 5664, 'dover': 2586, 'kosashvili': 4944, 'reynolds': 7286, 'melted': 5496, 'mesmerize': 5525, 'astonish': 594, 'legacy': 5072, 'bronze': 1138, 'guys': 3986, 'fessenden': 3320, 'newfangled': 5880, 'ingenious': 4552, 'sorrowful': 8104, 'hidden': 4160, 'impulsive': 4441, 'uncommonly': 9176, 'tsai': 9080, 'stylist': 8452, 'tenderly': 8755, 'resorting': 7221, 'haynes': 4086, 'sirk': 7909, 'differently': 2382, 'rhetoric': 7290, 'clobbering': 1574, 'urgency': 9380, 'compassionate': 1696, 'intacto': 4623, 'seductively': 7656, 'enduring': 2896, 'unhibited': 9265, 'spite': 8185, 'poverty': 6629, 'hardship': 4057, 'raked': 6925, 'staging': 8257, 'hardware': 4058, 'robust': 7357, 'ahead': 286, 'lovingly': 5247, 'stickiness': 8334, 'entree': 2960, 'stanford': 8277, 'bebe': 797, 'neuwirth': 5874, 'wesley': 9668, 'unexplainable': 9242, 'filter': 3363, 'heartedness': 4109, 'nailbiter': 5793, 'artfully': 541, 'everlyn': 3044, 'sampi': 7484, 'courageous': 1925, 'molly': 5650, 'craig': 1948, 'radiates': 6908, 'wanton': 9578, 'slipperiness': 7982, 'corpus': 1898, 'reshaping': 7209, 'introduce': 4670, 'occasion': 5995, 'insanity': 4581, 'hjejle': 4201, 'transcends': 8986, 'normal': 5928, 'division': 2524, 'nonfiction': 5921, 'whoopee': 9709, 'disarmingly': 2427, 'strikingly': 8404, 'devious': 2350, 'friendly': 3595, 'demeanor': 2236, 'jovial': 4829, 'teasing': 8722, 'whitaker': 9701, 'bravura': 1078, 'grungy': 3958, 'wicked': 9714, 'reliable': 7121, 'moved': 5723, 'wall': 9557, 'separate': 7705, 'summertime': 8529, 'vista': 9510, 'orbit': 6077, 'suspended': 8592, 'chime': 1470, 'globe': 3794, 'stanza': 8279, 'breathtaking': 1096, 'arliss': 523, 'challenge': 1387, 'pose': 6606, 'friel': 3593, 'melancholia': 5486, 'pearce': 6329, 'stable': 8246, 'retooled': 7248, 'phenomenal': 6405, 'flurry': 3466, 'frontman': 3611, 'resist': 7213, 'marshall': 5394, 'humming': 4303, 'moulin': 5711, 'purposeful': 6856, 'overdoing': 6143, 'albeit': 309, 'fiji': 3349, 'diver': 2517, 'rusi': 7441, 'vulakoro': 9538, 'married': 5393, 'michelle': 5549, 'hall': 4006, 'disorienting': 2479, 'verbal': 9447, 'attendant': 621, 'ensure': 2939, 'promises': 6774, 'east': 2736, 'marvelously': 5403, 'deliriously': 2225, 'satisfies': 7516, 'comfort': 1662, 'scored': 7591, 'endeavour': 2888, 'rousing': 7407, 'rated': 6961, 'squirming': 8243, 'phillip': 6410, 'allegory': 329, 'australian': 644, 'flatman': 3418, 'educates': 2767, 'guffaw': 3965, 'skins': 7940, 'desolate': 2309, 'native': 5822, 'infuse': 4547, 'rocky': 7362, 'sibling': 7853, 'reconciliation': 7030, 'droppingly': 2657, 'denying': 2259, 'effectiveness': 2778, 'duke': 2681, 'rohmer': 7367, 'pb': 6324, 'sandwich': 7496, 'tasty': 8704, 'colorful': 1640, 'competent': 1704, 'infinitely': 4536, 'seldahl': 7673, 'wollter': 9789, 'fervently': 3319, 'fanciful': 3239, 'thinker': 8817, 'aimlessness': 298, 'kinetically': 4910, 'bucket': 1162, 'cultivated': 2045, 'greene': 3912, 'discerning': 2435, 'cup': 2051, 'stuffiest': 8434, 'goer': 3818, 'organic': 6087, 'encourages': 2881, 'snappy': 8031, 'fiery': 3340, 'goody': 3838, 'rose': 7396, 'arteta': 539, 'unblinking': 9162, 'elegy': 2809, 'keener': 4879, 'bolster': 1001, 'foreman': 3506, 'barking': 751, 'thewlis': 8810, 'freddie': 3569, 'bettany': 868, 'mcdowell': 5450, 'feminine': 3309, 'cusack': 2064, 'favorably': 3277, 'das': 2115, 'counterpart': 1916, 'stallion': 8266, 'cimarron': 1503, 'continuation': 1831, 'lord': 5222, 'rings': 7322, 'trilogy': 9045, 'adequately': 203, 'expanded': 3120, 'irresistible': 4719, 'privileged': 6731, 'dual': 2670, 'insightfully': 4589, 'lark': 5009, 'twohy': 9124, 'preserving': 6687, 'flavour': 3426, 'conrad': 1790, 'nominated': 5910, 'dashing': 2117, 'lisping': 5162, 'reptilian': 7190, 'bask': 772, 'unit': 9289, 'enlightened': 2929, 'lecture': 5068, 'understands': 9218, 'grandness': 3885, 'equalizer': 2974, 'visionary': 9507, 'attuned': 630, 'anarchist': 400, 'maxim': 5440, 'iconoclastic': 4342, 'pummel': 6836, 'improved': 4433, 'explored': 3147, 'eloquence': 2825, 'volume': 9529, 'dreamscape': 2629, 'frustrates': 3615, 'captivates': 1288, 'roster': 7398, 'kathryn': 4873, 'bigelow': 885, 'behan': 825, 'brawny': 1079, 'marcken': 5374, 'marilyn': 5380, 'impart': 4404, 'austerity': 641, 'krawczyk': 4950, 'ghostbusters': 3756, 'growth': 3955, 'ninth': 5901, 'relevant': 7120, '270': 54, 'salma': 7474, 'hayek': 4085, 'eerily': 2773, 'treatise': 9022, 'university': 9294, 'uppity': 9370, 'remaining': 7133, 'savagely': 7523, 'swift': 8620, 'cinephile': 1510, 'invitation': 4691, 'countless': 1918, 'bending': 851, 'intensely': 4636, 'antidote': 449, 'cannier': 1272, 'doppelganger': 2571, 'flex': 3435, 'thon': 8827, 'collaborative': 1627, 'timely': 8881, 'corporate': 1896, 'circus': 1515, 'current': 2059, 'climate': 1563, 'merger': 5519, 'downsizing': 2592, 'undeniable': 9188, 'sparked': 8130, 'works': 9816, 'contagious': 1818, 'juliette': 4848, 'binoche': 897, 'vivacious': 9518, 'knows': 4936, 'board': 974, 'stevens': 8330, 'tricky': 9039, 'maggie': 5308, 'o2': 5975, 'crack': 1939, 'gasp': 3694, 'deportment': 2273, 'authentically': 649, 'collectively': 1635, 'stellar': 8315, 'brave': 1075, 'conversations': 1857, 'dig': 2385, 'seed': 7658, 'ambivalent': 370, 'savour': 7530, 'lushly': 5278, 'recorded': 7033, 'weaving': 9632, 'sexually': 7752, 'explicit': 3138, 'appealingly': 476, 'manic': 5356, 'addressing': 201, 'engages': 2906, 'somewhat': 8082, 'touched': 8954, 'wang': 9572, 'forefront': 3503, 'china': 1472, 'fist': 3388, 'zip': 9905, 'broke': 1134, 'herald': 4144, 'bouncy': 1047, 'clutch': 1600, 'punctuation': 6842, 'wispy': 9768, 'stepmom': 8319, 'diverting': 2521, 'kindness': 4908, 'survivable': 8582, 'suitable': 8521, 'noble': 5904, 'embrace': 2843, 'strict': 8399, 'code': 1614, 'nonetheless': 5918, 'appreciates': 491, 'scenes': 7556, 'gazing': 3704, 'kaufman': 4875, 'orleans': 6096, 'infinite': 4535, 'insecurity': 4583, 'rom': 7375, 'blazingly': 937, 'allowing': 334, 'bumbling': 1179, 'greatness': 3907, 'nancy': 5802, 'savoca': 7527, 'forged': 3511, 'unsettled': 9340, 'reinvigorated': 7102, 'mystical': 5784, 'panache': 6228, 'polemic': 6556, 'loathe': 5186, 'populist': 6590, 'fatter': 3272, 'unapologetic': 9152, 'sweetheart': 8616, 'mandy': 5351, 'existential': 3113, 'associated': 584, 'oozing': 6049, 'filth': 3364, 'freshening': 3582, 'orange': 6076, 'county': 1920, 'minus': 5583, 'stepmother': 8320, 'lifetime': 5119, 'unmistakable': 9307, 'joie': 4806, 'dreams': 2628, 'rodriguez': 7364, 'adorns': 224, 'maturity': 5436, 'scherfig': 7563, 'desperation': 2315, 'cheeky': 1438, 'round': 7404, 'debrauwer': 2151, 'ana': 394, 'tragically': 8978, 'gestalt': 3746, 'romanek': 7379, 'fondness': 3483, 'salute': 7477, 'brims': 1117, 'prone': 6778, 'slickest': 7975, 'heartbreakingly': 4107, 'singular': 7904, 'postmodern': 6619, 'pastiche': 6290, 'gesture': 3747, 'gedeck': 3708, 'hawn': 4084, 'banger': 730, 'sisters': 7912, 'breakthrough': 1089, 'awesome': 675, 'ineffable': 4514, 'clashing': 1530, 'whirlwind': 9700, 'examining': 3070, 'claustrophobia': 1543, 'sooner': 8091, 'explores': 3148, 'inquisitiveness': 4578, 'truffaut': 9069, 'scrutinize': 7623, 'cohesive': 1622, 'enthralling': 2950, 'lusty': 5283, 'clone': 1577, 'unburdened': 9165, 'significance': 7868, 'address': 200, 'signature': 7867, 'courtesy': 1929, 'pogue': 6545, 'yale': 9859, 'grad': 3871, 'previously': 6709, 'skulls': 7945, 'loving': 5246, 'environmental': 2965, '127': 13, 'despairing': 2311, 'corruption': 1902, 'establishment': 3009, 'spook': 8205, 'odyssey': 6008, 'libertine': 5110, 'exuberantly': 3181, 'lore': 5223, 'largest': 5008, 'canvas': 1276, 'retains': 7243, 'crash': 1956, 'narc': 5808, 'sprawling': 8219, 'surehanded': 8561, 'uproarious': 9372, 'seriousness': 7719, 'yosuke': 9882, 'saeko': 7467, 'dignity': 2388, 'refreshes': 7077, 'overstating': 6167, 'governmental': 3861, 'block': 951, 'everyman': 3048, 'betting': 870, 'gianni': 3757, 'romoli': 7385, 'sudsy': 8502, 'depicted': 2268, 'kudos': 4953, 'greater': 3904, 'arnold': 527, 'schwarzenegger': 7576, 'claud': 1539, 'segal': 7668, 'grueling': 3957, 'illusion': 4374, 'tartly': 8696, 'invaluable': 4676, 'massoud': 5413, 'cultivation': 2046, 'devotion': 2358, 'readily': 6985, 'buoy': 1184, 'djeinaba': 2528, 'diop': 2399, 'gai': 3664, 'adorably': 222, 'ditsy': 2513, 'raimi': 6917, 'relief': 7124, 'balzac': 723, 'seamstress': 7635, 'desirable': 2306, 'flip': 3446, 'courtship': 1931, 'outrageously': 6124, 'unstoppable': 9347, 'pulpy': 6834, 'probe': 6735, 'interdependence': 4643, 'accomodates': 143, 'practical': 6637, 'enchanted': 2873, 'spike': 8169, 'espn': 3000, 'scoring': 7592, 'forgiveness': 3518, 'asset': 583, 'commend': 1672, 'forceful': 3498, 'passionately': 6285, 'uncover': 9183, 'funk': 3637, 'sentimentalizing': 7704, 'celebratory': 1362, 'sparking': 8131, 'daringly': 2108, 'piercing': 6441, 'feisty': 3302, 'bold': 995, 'presentation': 6683, 'breheny': 1101, 'lensing': 5085, 'zealand': 9896, 'cook': 1873, 'fourteen': 3542, 'ferris': 3317, 'bueller': 1166, 'astounds': 599, 'heated': 4114, 'grandstanding': 3887, 'robin': 7352, 'astute': 602, 'cardoso': 1300, 'defiance': 2184, 'dictate': 2372, 'auspicious': 640, 'chaiken': 1382, 'bullseye': 1178, 'laboratory': 4960, 'pulling': 6832, 'rug': 7422, 'underneath': 9209, 'plunging': 6535, 'buscemi': 1202, 'rosario': 7395, 'jacobson': 4753, 'evolved': 3061, 'rejiggering': 7106, 'contraption': 1838, 'outing': 6118, 'phifer': 6407, 'cam': 1250, 'ron': 7388, 'seal': 7631, 'hispanic': 4187, 'clenching': 1551, 'gusto': 3980, 'molina': 5649, 'kahlo': 4864, 'wonton': 9801, 'float': 3448, 'rounded': 7405, 'caliber': 1241, 'sassy': 7508, 'dearly': 2144, 'celebrate': 1358, 'exuberance': 3179, 'inextricably': 4528, 'entwined': 2962, 'liking': 5134, 'known': 4935, '18': 22, 'stoked': 8360, 'rely': 7129, 'enlightening': 2930, 'weddings': 9638, 'serry': 7724, 'contained': 1819, 'indulgently': 4510, 'raucously': 6967, 'again': 268, 'gritty': 3934, 'moody': 5675, 'warming': 9585, 'cat': 1338, 'mouse': 5719, 'lily': 5139, 'chou': 1490, 'plaintiveness': 6488, 'weep': 9642, '80s': 84, 'confronting': 1774, 'demons': 2245, 'shade': 7755, 'lipstick': 5161, 'component': 1719, 'craftsman': 1945, 'faint': 3216, 'san': 7488, 'francisco': 3555, 'quibble': 6884, 'cackle': 1227, 'campaign': 1258, 'trail': 8979, 'candidate': 1266, 'taiwanese': 8667, 'auteur': 647, 'ming': 5576, 'liang': 5105, 'sublime': 8463, 'derring': 2292, 'ethos': 3021, 'clamoring': 1522, 'wwii': 9852, 'siegel': 7862, 'computerized': 1730, 'yoda': 9879, 'ascends': 560, 'kinetic': 4909, 'cranky': 1952, 'rediscover': 7048, 'quivering': 6897, 'virtuoso': 9498, 'dominate': 2555, 'thick': 8812, 'shmear': 7813, 'goo': 3831, 'elling': 2824, 'tremendously': 9028, 'devotedly': 2356, 'jeff': 4782, 'composition': 1721, 'transporting': 9000, 'unflappable': 9247, 'urbanity': 9378, 'everett': 3041, 'wildean': 9728, 'relaxed': 7112, 'firth': 3384, 'wins': 9754, 'vote': 9531, 'shatters': 7789, 'prim': 6715, 'exterior': 3168, 'atlantic': 608, 'maryam': 5405, 'centered': 1369, 'gracefully': 3868, 'yiddish': 9877, 'israel': 4732, 'spiked': 8170, 'watchful': 9605, 'steadily': 8303, 'climactic': 1562, 'burst': 1198, 'greg': 3913, 'fledged': 3430, 'addict': 196, 'simplicity': 7888, 'lan': 4988, 'layer': 5037, 'ripening': 7328, 'separation': 7706, 'di': 2360, 'napoli': 5807, 'melville': 5498, 'whirl': 9699, 'perdition': 6356, 'platter': 6495, 'skillfully': 7936, 'combining': 1654, 'sexuality': 7751, 'surefire': 8560, 'beloved': 845, 'aragorn': 499, 'arwen': 558, 'fellowship': 3306, 'doo': 2561, 'shimmeringly': 7805, 'watery': 9611, 'pleased': 6510, 'meticulous': 5538, 'withered': 9773, 'enforced': 2903, 'hiatus': 4157, 'taymor': 8713, 'utilizes': 9398, 'breathing': 1094, 'catapulting': 1340, 'hardy': 4059, 'zealanders': 9897, 'mettle': 5541, 'sharply': 7787, 'gong': 3830, 'nadia': 5792, 'mail': 5317, 'kidman': 4895, 'kittenish': 4923, 'accumulates': 152, 'probes': 6736, 'omniscient': 6037, 'narrator': 5814, 'sly': 8000, 'iben': 4333, 'hjelje': 4202, 'pertinent': 6391, 'collect': 1632, 'own': 6185, 'spiritually': 8183, 'vietnam': 9474, 'copious': 1883, 'myriad': 5780, 'harvesting': 4071, 'tooled': 8929, 'korea': 4942, 'confection': 1761, 'flawless': 3429, 'rabbit': 6900, 'fence': 3311, 'timelessness': 8880, 'mulan': 5746, 'tarzan': 8697, 'were': 9665, 'soldiers': 8063, 'hybrid': 4323, 'proficient': 6756, 'gaudy': 3698, 'thirst': 8822, 'toned': 8921, 'ripping': 7331, 'pleasantly': 6508, 'patiently': 6303, 'distinct': 2497, 'rarity': 6955, 'shiri': 7811, 'ghastly': 3752, 'improbable': 4430, 'abbass': 101, 'shining': 7809, 'elemental': 2811, 'stylishly': 8451, 'engulfed': 2915, 'miraculous': 5590, 'dreamworks': 2630, 'pivotal': 6476, 'acidity': 168, 'bathos': 778, 'perceptiveness': 6353, 'vastly': 9428, 'germanic': 3745, 'hughes': 4288, 'elder': 2800, 'affirms': 256, 'nourishing': 5952, 'companionship': 1690, 'breakingly': 1088, 'melds': 5491, 'devotee': 2357, 'minutia': 5587, 'glide': 3788, 'fluidity': 3464, 'bundling': 1182, 'perversity': 6395, 'tempting': 8750, 'bouquet': 1050, 'playfully': 6501, 'explosive': 3151, 'region': 7092, 'inhabitant': 4557, 'barry': 762, 'reclaiming': 7021, 'carmen': 1312, 'tour': 8958, 'bernard': 858, 'ivans': 4743, 'cad': 1228, 'oomph': 6048, 'enthrall': 2949, 'turner': 9102, 'thoughtfully': 8834, 'humanizing': 4295, 'seduce': 7654, 'josh': 4822, 'koury': 4947, 'harmless': 4062, 'butter': 1211, 'implicitly': 4414, 'acknowledges': 169, 'chicanery': 1458, 'delusion': 2231, 'zippy': 9907, 'pithy': 6470, 'sugarcoated': 8510, 'billing': 894, 'thorough': 8828, 'gives': 3778, 'mountain': 5713, 'serrault': 7723, 'openness': 6054, 'masterly': 5418, 'stevenson': 8331, 'frothy': 3612, 'preciseness': 6654, 'lovable': 5238, 'tundra': 9091, 'breathes': 1093, 'inuit': 4674, 'alternating': 350, 'aleck': 312, 'android': 409, 'lux': 5285, 'eighty': 2791, 'grandmother': 3884, 'biography': 900, 'superlative': 8547, 'sunshine': 8537, 'invitingly': 4695, 'overture': 6169, 'conducted': 1759, 'aficionado': 260, 'lout': 5237, 'climbing': 1565, 'stadium': 8249, 'megaplex': 5483, 'preteen': 6694, 'receives': 7014, 'luke': 5262, '60s': 74, 'ving': 9491, 'rhames': 7287, 'inspection': 4599, 'acquires': 170, 'yeah': 9867, 'confirms': 1768, 'lynne': 5288, 'international': 4656, 'indoor': 4500, 'meow': 5513, 'purr': 6859, 'schweig': 7577, 'graham': 3878, 'exude': 3182, 'lingers': 5154, 'sayles': 7535, 'resurrecting': 7241, 'flavorful': 3424, 'ballroom': 720, 'waltzed': 9566, 'australia': 643, 'excites': 3090, 'tickle': 8866, 'profiling': 6758, 'latin': 5018, 'trend': 9031, 'overdue': 6144, 'clayburgh': 1545, 'holofcener': 4224, 'flicks': 3439, 'treating': 9021, 'breitbart': 1103, 'hanussen': 4039, 'westerners': 9671, 'beguiling': 822, 'poise': 6551, 'revisiting': 7274, 'bombshell': 1006, 'aware': 669, 'mocking': 5634, 'geeked': 3710, 'apollo': 469, 'altman': 353, 'animaton': 424, 'japan': 4769, 'seldhal': 7674, 'burgeoning': 1186, 'aboriginal': 113, 'anime': 426, 'spellbinding': 8156, 'deliciously': 2217, 'mazel': 5445, 'tov': 8961, 'doubting': 2582, 'egoyan': 2787, 'iconic': 4341, 'duel': 2680, 'seam': 7633, 'devastatingly': 2340, 'economical': 2753, 'rigid': 7316, 'evasive': 3031, 'erin': 2984, 'brockovich': 1131, 'ocean': 5999, 'eleven': 2816, 'shudder': 7851, 'tremble': 9026, 'attracting': 626, 'gere': 3742, 'commerce': 1677, 'essayist': 3002, 'here': 4145, 'monument': 5671, 'evans': 3029, 'scathing': 7550, 'conjured': 1782, 'infrequently': 4545, 'slam': 7951, 'extravaganza': 3174, 'woolly': 9806, 'campanella': 1259, 'affectation': 248, 'vowing': 9533, 'turbulent': 9096, 'labyrinthine': 4965, 'buffeted': 1168, 'understatement': 9220, 'overlook': 6154, 'goofily': 3842, 'lensed': 5084, 'gorefest': 3847, 'levity': 5100, 'steeped': 8311, 'ravishing': 6971, 'baroque': 754, 'precedent': 6650, 'jolly': 4812, 'broadway': 1130, 'raffish': 6911, 'perfected': 6359, 'aggrandizing': 276, 'merited': 5521, 'worm': 9820, 'nervy': 5869, 'informed': 4543, 'wireless': 9757, 'exceeding': 3074, 'empire': 2863, 'strikes': 8402, 'majestic': 5325, 'undercover': 9193, 'goofball': 3840, 'ton': 8917, 'between': 872, 'savory': 7529, 'sincerely': 7896, 'emerge': 2847, 'jam': 4762, 'elevates': 2815, 'blender': 943, 'salton': 7476, 'atypically': 631, 'hopped': 4253, 'schnitzler': 7572, 'contrasting': 1840, 'sleekness': 7966, 'icon': 4340, 'kingsley': 4912, 'ghandi': 3751, 'stylized': 8455, 'misogynist': 5609, 'sorrow': 8103, 'laugther': 5029, 'cascade': 1328, 'risky': 7335, 'tapestry': 8688, 'woven': 9831, 'unforgettable': 9255, 'heartache': 4105, 'someday': 8075, 'wryly': 9851, 'framing': 3551, 'besson': 863, 'archibald': 507, 'pedestal': 6333, 'lifting': 5121, 'higher': 4168, 'fuss': 3650, 'expertly': 3135, 'until': 9355, 'extremities': 3177, 'commander': 1670, 'propels': 6783, 'upper': 9368, 'echelon': 2745, 'korean': 4943, 'sparkle': 8132, 'attending': 622, 'dana': 2095, 'janklowicz': 4766, 'tipped': 8890, 'track': 8968, 'bluer': 967, 'biologically': 901, 'autopsy': 655, 'achival': 166, 'directly': 2411, 'caesar': 1230, 'ladle': 4976, 'local': 5190, 'pizza': 6478, 'gary': 3692, 'mordantly': 5686, 'soullessness': 8112, 'embracing': 2845, 'harshness': 4068, 'mankind': 5362, 'unusual': 9356, 'instructive': 4613, 'refreshed': 7076, 'net': 5871, 'popularity': 6585, 'groove': 3939, 'impresses': 4424, 'manhunter': 5355, 'hooker': 4241, 'client': 1560, 'foremost': 3507, 'hennings': 4141, 'numerous': 5970, 'checking': 1435, 'tender': 8754, 'praiseworthy': 6642, 'respecting': 7226, 'moodiness': 5674, 'vegetable': 9436, 'batch': 775, 'angel': 412, 'sappiness': 7501, 'optimism': 6069, 'resort': 7220, 'dismantle': 2470, 'wonderous': 9798, 'veracity': 9446, 'croze': 2017, 'tormented': 8940, 'bibi': 879, 'honorable': 4237, 'france': 3553, 'conscience': 1791, 'pause': 6313, 'funnybone': 3643, 'philippe': 6409, 'mora': 5679, 'hitler': 4198, 'immaculate': 4392, 'roussillon': 7408, 'sustains': 8599, 'learning': 5059, 'inventing': 4679, 'jacques': 4755, 'walt': 9564, 'becker': 801, 'chaplin': 1400, 'glued': 3805, 'adapted': 193, 'searing': 7639, 'panoramic': 6234, 'swooping': 8634, 'scooping': 7586, 'frenetic': 3577, 'punny': 6848, 'specifically': 8146, 'libretto': 5113, 'ideally': 4349, 'terrifically': 8770, 'specimen': 8147, 'spielbergian': 8167, 'wondered': 9793, 'armed': 525, 'landmark': 4992, '1937': 26, 'dwarfs': 2709, 'gosford': 3852, 'thankfully': 8787, 'napoleon': 5806, 'jacqueline': 4754, 'plimpton': 6521, 'directors': 2414, 'admittedly': 214, 'middling': 5552, 'vibrantly': 9462, 'colored': 1639, 'metropolis': 5539, 'outgag': 6117, 'whippersnapper': 9697, 'clicking': 1559, 'invisible': 4690, 'psychic': 6816, 'digression': 2389, 'simmering': 7883, 'prevalent': 6703, 'bubble': 1159, 'walsh': 9563, 'pipe': 6459, 'wisely': 9762, 'uninhibited': 9279, 'ayres': 684, 'remembrance': 7143, 'delighted': 2219, 'reconstruction': 7031, 'merrily': 5522, 'unsung': 9351, '20th': 47, 'spaghetti': 8123, 'athletic': 606, 'exploit': 3140, 'awed': 674, 'sportsman': 8212, 'eats': 2742, 'ferment': 3313, 'gaza': 3702, 'heightened': 4128, 'nachtwey': 5790, 'traveled': 9011, 'devastated': 2338, 'famine': 3234, 'documented': 2536, 'cruelty': 2025, 'turturro': 9105, 'fabulously': 3194, 'butler': 1209, 'excels': 3079, 'disappearing': 2420, 'reappearing': 7002, 'dour': 2585, 'deadpan': 2138, 'consistency': 1803, 'parmentier': 6261, 'fanatical': 3238, 'adherent': 204, 'integrating': 4626, 'foreground': 3504, 'forest': 3508, 'hue': 4282, 'drastic': 2614, 'iconography': 4343, 'superheroics': 8545, 'engross': 2913, 'antsy': 454, 'youngster': 9886, 'hooting': 4243, 'vanessa': 9418, 'redgrave': 7047, 'koshashvili': 4945, 'laramie': 5004, 'decay': 2158, 'dismay': 2471, 'stocked': 8358, 'few': 3327, 'chaos': 1398, 'conflagration': 1769, 'shaken': 7764, 'nesbitt': 5870, 'flying': 3470, 'hug': 4283, 'considers': 1801, 'transparency': 8996, 'alienated': 320, 'executive': 3099, 'invents': 4683, 'trials': 9033, 'nanook': 5804, 'puts': 6865, 'persistence': 6381, 'wittier': 9781, 'robustness': 7358, 'bloodletting': 958, 'seigner': 7670, 'naturalism': 5825, 'admirers': 211, 'relieved': 7126, 'xmas': 9854, 'contemplative': 1822, 'sublimely': 8464, 'virtuous': 9499, 'larky': 5010, 'belong': 843, 'influential': 4539, 'prepared': 6676, 'cling': 1566, 'backhanded': 693, 'compliment': 1718, 'examines': 3069, 'forbidden': 3495, 'valid': 9412, '1950s': 28, 'alien': 318, 'revigorates': 7271, 'concentrate': 1738, 'sway': 8608, 'psychedelia': 6815, 'whip': 9696, 'chomp': 1479, 'ant': 440, 'arrow': 537, 'unscathed': 9337, 'raging': 6915, 'overflow': 6146, 'intricately': 4667, 'warfare': 9581, 'embroils': 2846, 'twin': 9114, 'donald': 2557, 'jonze': 4818, 'placed': 6480, 'flexible': 3436, 'crammed': 1950, 'scriptwriter': 7620, 'breaking': 1087, 'implosion': 4415, 'eileen': 2792, 'infuses': 4549, 'slender': 7972, 'glinting': 3792, 'questioning': 6883, 'enables': 2871, 'shafer': 7760, 'navigate': 5836, 'aplomb': 467, 'garcia': 3685, 'fashioning': 3263, 'backstage': 697, 'motherhood': 5702, 'compassionately': 1697, 'portrayed': 6603, 'goosebump': 3845, 'discord': 2440, 'boosted': 1023, 'sky': 7947, 'grin': 3925, 'ballplayer': 719, 'convinces': 1868, 'secretly': 7650, 'unhinged': 9266, 'president': 6688, 'isabelle': 4728, 'mika': 5557, 'anna': 428, 'mouglalis': 5710, 'thurman': 8862, 'lewis': 5103, 'engagingly': 2908, 'quixotic': 6898, 'reject': 7103, 'patent': 6295, 'dramatize': 2611, 'vigorously': 9483, 'fisk': 3387, 'verisimilitude': 9450, 'sunset': 8536, 'frighteningly': 3601, 'asian': 564, 'realist': 6992, 'playfulness': 6502, 'outlandishness': 6119, 'heartstrings': 4111, 'dean': 2142, 'deblois': 2150, 'sanders': 7492, 'cq': 1938, 'shimmer': 7803, 'saga': 7470, 'shedding': 7792, 'unnoticed': 9311, 'underappreciated': 9191, 'twinkle': 9115, 'sensuous': 7698, 'karmen': 4871, 'enthronement': 2951, 'legend': 5075, 'sterling': 8327, 'embodies': 2841, 'fallibility': 3225, 'insists': 4597, 'clock': 1575, 'articulates': 543, 'tangled': 8684, 'yorkers': 9881, 'unprecedented': 9318, 'imagining': 4385, '1930s': 25, 'seventies': 7739, 'society': 8053, 'deemed': 2176, 'hired': 4185, 'dustin': 2702, 'dosage': 2575, 'consummate': 1817, 'majidi': 5326, 'smoother': 8021, 'flabbergasting': 3398, '14': 17, 'macnaughton': 5299, 'wizened': 9784, 'visitor': 9509, 'faraway': 3248, 'anomaly': 436, 'alienation': 322, 'broach': 1127, 'augustinian': 639, 'theology': 8802, 'swashbuckler': 8606, 'daniel': 2102, 'auteuil': 646, 'comical': 1666, 'predict': 6659, 'idemoto': 4350, 'assuredly': 592, 'tickled': 8867, 'consume': 1813, 'rarest': 6954, 'inescapably': 4521, 'skyscraper': 7948, 'trapeze': 9004, 'fantastically': 3245, 'invest': 4684, 'expressive': 3159, 'contribution': 1842, 'flowering': 3459, 'bowling': 1057, 'columbine': 1645, 'holmes': 4222, 'league': 5049, 'widowmaker': 9720, 'kim': 4904, 'brim': 1115, 'subgenre': 8458, 'coldest': 1625, 'environment': 2964, 'crumb': 2026, 'banquet': 734, 'recall': 7009, 'neorealism': 5865, 'viveka': 9519, 'sven': 8601, 'practiced': 6639, 'flavor': 3423, 'charade': 1408, 'clutching': 1601, 'advocacy': 241, 'torrent': 8943, 'touchstone': 8956, 'earmark': 2724, 'curdling': 2052, 'continuum': 1834, 'delhi': 2210, 'specialized': 8144, 'til': 8875, 'nurture': 5972, 'layers': 5039, 'gamble': 3671, 'hence': 4140, 'bille': 892, 'august': 638, 'deterioration': 2333, 'barbara': 739, 'elegiac': 2808, 'ample': 387, 'shekhar': 7796, 'besides': 861, 'wander': 9568, 'flinching': 3443, 'shakes': 7765, 'signal': 7866, 'rick': 7301, 'famuyiwa': 3236, 'emergence': 2849, 'william': 9733, 'sickeningly': 7857, 'knuckled': 4938, 'determination': 2334, 'spoken': 8199, 'patricio': 6305, 'guzman': 3987, 'dangerously': 2101, 'curtain': 2061, 'copenhagen': 1881, 'neighborhood': 5858, 'coping': 1882, 'befuddling': 814, 'mastering': 5417, 'formidable': 3526, 'arithmetic': 522, 'serene': 7711, 'sprightly': 8221, 'unimaginable': 9273, 'stimulate': 8345, 'discussion': 2450, 'bliss': 948, 'quietude': 6891, 'neil': 5859, 'springboard': 8223, 'reflect': 7069, 'incurably': 4479, 'brett': 1105, 'morgen': 5689, 'nanette': 5803, 'burstein': 1199, 'fantasia': 3242, 'guilt': 3969, 'doodled': 2562, 'steamboat': 8308, 'varying': 9427, 'coughed': 1910, 'fidgeted': 3334, 'cleavage': 1550, 'principled': 6722, 'jane': 4764, 'utilized': 9397, 'scintillating': 7582, 'sparse': 8135, 'civilization': 1518, 'complaint': 1707, 'berry': 859, 'saucy': 7521, 'bonds': 1012, 'barrie': 760, 'restrained': 7235, '12th': 15, 'choosing': 1482, 'actuary': 186, '22': 50, 'tashlin': 8698, 'recapitulation': 7010, 'millennium': 5567, 'pageantry': 6203, 'roar': 7345, 'leonine': 5088, 'exceeds': 3076, 'bolder': 996, 'girardot': 3772, 'palmed': 6225, 'ape': 464, 'elevated': 2814, 'weary': 9627, 'journalist': 4825, 'learns': 5060, 'crossover': 2013, 'nonethnic': 5919, 'kubrick': 4952, 'seldom': 7675, 'utilizing': 9399, 'furiously': 3644, 'indisputably': 4497, 'conveys': 1864, 'mexico': 5543, 'controversial': 1848, 'nonconformist': 5916, 'acerbic': 157, 'hoofing': 4239, 'crooning': 2009, 'languid': 4997, 'romanticism': 7381, 'byler': 1219, 'sultry': 8525, 'fueled': 3624, 'afternoon': 264, 'retiring': 7245, 'aided': 290, 'mirren': 5594, 'survival': 8583, 'wrapped': 9833, 'pounding': 6628, 'goers': 3819, 'embarking': 2836, 'towers': 8964, 'outdoes': 6115, 'spittingly': 8187, 'timeout': 8882, 'borrow': 1035, 'mobility': 5633, 'sullivan': 8524, 'venturesome': 9444, 'coral': 1888, 'heavyweight': 4119, 'behalf': 824, 'endangered': 2885, 'semimusical': 7682, 'rendition': 7158, 'viscerally': 9504, 'peek': 6336, 'spectrum': 8151, 'mob': 5632, 'canon': 1274, 'numbered': 5966, '52': 71, 'commended': 1673, 'spoofing': 8203, 'photographic': 6424, 'hashiguchi': 4073, 'suggesting': 8515, 'emerging': 2851, 'grittily': 3933, 'archly': 511, 'gidget': 3763, 'muscle': 5759, 'plea': 6506, 'wildlife': 9730, 'environs': 2966, 'ingeniously': 4553, 'comprehend': 1723, 'serpent': 7722, 'meal': 5456, 'ripe': 7327, 'ingredient': 4555, 'certified': 1376, 'palatable': 6217, 'jose': 4820, 'iris': 4705, 'hearst': 4103, 'mystique': 5785, 'reenacting': 7062, 'historic': 4188, 'scandal': 7541, 'shindler': 7806, 'springer': 8224, 'ong': 6041, 'immigrant': 4402, 'marveled': 5401, 'flame': 3411, 'valuable': 9414, 'unfussily': 9262, 'pro': 6732, 'wildcard': 9726, 'allison': 331, 'lohman': 5200, 'marveilleux': 5399, 'adobo': 216, 'palate': 6218, 'tully': 9088, 'filmgoing': 3358, 'imply': 4416, 'suggestion': 8516, 'overuse': 6170, 'bonus': 1015, 'cooly': 1878, 'modesty': 5643, 'grateful': 3892, 'freedom': 3572, 'write': 9843, 'guessed': 3963, 'scorcese': 7588, 'gangs': 3679, 'host': 4265, 'concludes': 1747, 'dawn': 2125, 'resentment': 7207, 'pretence': 6695, 'rhapsodic': 7288, 'illustrating': 4376, 'italy': 4739, 'beckons': 802, 'brooms': 1143, 'canadians': 1263, 'vardalos': 9422, 'corbett': 1889, 'zwick': 9912, 'attach': 615, 'steaming': 8309, 'carton': 1322, 'spiderman': 8165, 'rocks': 7361, 'are': 514, 'rapturous': 6951, 'wiggling': 9723, 'jonah': 4815, 'gratefully': 3893, 'pronounced': 6780, 'pythonesque': 6870, 'cuaron': 2036, 'perversely': 6394, 'vivre': 9522, 'mournful': 5716, 'argentinian': 517, 'dynamic': 2712, 'disquieting': 2486, 'byplay': 1222, 'bickering': 881, 'vega': 9435, 'juni': 4854, 'sabara': 7450, 'cortez': 1903, 'bollywood': 1000, 'funky': 3638, 'thrives': 8847, 'artificiality': 546, 'cleverest': 1554, 'alexandre': 314, 'desplat': 2318, 'transfixes': 8988, 'arresting': 531, 'songs': 8088, 'orc': 6078, 'uruk': 9385, 'hai': 3995, 'fearlessly': 3286, 'classy': 1538, 'naturalistic': 5826, 'overview': 6172, 'ancient': 405, 'holistic': 4217, 'healing': 4097, 'undogmatic': 9226, 'developer': 2343, 'tourism': 8959, 'pageant': 6202, 'gon': 3827, '50s': 69, 'jules': 4845, 'verne': 9451, 'leagues': 5050, 'pal': 6216, 'wells': 9659, 'iran': 4703, 'afghani': 259, 'refugee': 7080, 'streamed': 8391, 'border': 1026, 'catalyst': 1339, 'celebrated': 1359, 'spotlight': 8214, 'administration': 206, 'complicity': 1717, 'orphan': 6097, 'stumble': 8438, 'apocalypse': 468, 'confidently': 1765, 'orchestrated': 6079, 'aesthetically': 244, 'rightly': 7315, 'unslick': 9343, 'aniston': 427, 'persuades': 6390, 'enhanced': 2917, 'surplus': 8569, 'flesh': 3434, 'democracy': 2241, 'civic': 1517, 'laudable': 5020, 'griffin': 3921, 'reputedly': 7195, 'unfilmable': 9246, 'bucked': 1161, 'max': 5439, 'provokes': 6806, 'expressionistic': 3158, 'yakusho': 9858, 'shimizu': 7802, 'dunk': 2697, 'underrated': 9211, 'receive': 7012, 'squareness': 8237, 'darling': 2113, 'cable': 1226, 'nalin': 5797, 'unknowable': 9295, 'closest': 1582, 'conned': 1788, 'stands': 8275, 'anew': 411, 'trump': 9071, 'classify': 1536, 'tuned': 9093, 'werner': 9666, 'congratulate': 1780, 'confront': 1773, 'nimble': 5899, 'sydney': 8638, 'harbour': 4051, 'seater': 7644, 'plane': 6489, 'gliding': 3789, 'banking': 732, 'pristine': 6729, 'camerawork': 1254, 'dramas': 2606, 'accepts': 137, 'assembles': 580, 'humanistic': 4293, 'communicate': 1686, 'outsider': 6128, 'plague': 6484, 'applauded': 484, 'tireless': 8892, 'laced': 4966, 'liberal': 5107, 'stimulus': 8347, 'optic': 6068, 'fusion': 3649, 'broader': 1129, 'concrete': 1751, 'slugfest': 7996, 'mesmerised': 5524, 'competence': 1703, 'relating': 7108, 'worldly': 9819, 'olympus': 6035, 'redolent': 7049, 'filmmakers': 3361, 'weissman': 9655, 'weber': 9635, 'cockettes': 1608, 'craziness': 1965, 'weaver': 9631, 'lapaglia': 5000, 'naughty': 5831, 'evolve': 3060, 'affords': 258, 'smooth': 8020, 'abroad': 116, 'runs': 7435, 'adrenalin': 225, 'marked': 5383, 'subjective': 8461, 'angela': 413, 'gheorghiu': 3753, 'ruggero': 7423, 'raimondi': 6918, 'alagna': 307, 'shimmering': 7804, 'costumed': 1908, 'reassuringly': 7007, 'nervous': 5868, 'uncertainty': 9168, 'sardonic': 7506, 'forster': 3530, 'meara': 5466, 'levy': 5101, 'namesake': 5801, 'ought': 6106, 'befallen': 811, 'coen': 1616, 'sparkles': 8133, 'seasoned': 7641, 'gossip': 3854, 'wealth': 9622, 'lean': 5053, 'donovan': 2560, 'managed': 5346, 'prepare': 6675, 'interestingly': 4647, 'erotically': 2989, 'perplexing': 6379, 'austrian': 645, 'suppression': 8557, 'tucked': 9084, 'evocation': 3056, 'stepped': 8321, 'assurance': 590, 'acclaim': 142, 'tool': 8928, 'noteworthy': 5941, 'shaw': 7790, 'melting': 5497, 'phocion': 6415, 'stoppingly': 8373, 'scathingly': 7551, 'dafoe': 2084, '1993': 40, 'applies': 486, 'giggly': 3769, 'handling': 4025, 'everyday': 3047, 'naval': 5834, 'personnel': 6388, 'diego': 2378, 'welled': 9658, 'titan': 8897, 'reopens': 7166, 'dogme': 2543, 'bedfellow': 807, 'compatible': 1698, 'eventful': 3037, 'guru': 3979, 'launch': 5030, 'aching': 164, 'essential': 3004, 'nonchalant': 5913, 'mesh': 5523, 'immerse': 4399, 'doors': 2567, 'phoniness': 6420, 'ravaging': 6970, 'aaa': 99, 'eee': 2771, 'reflexive': 7074, 'tart': 8694, 'personable': 6384, 'stake': 8262, 'modestly': 5642, 'instilled': 4610, 'weighty': 9649, 'fraser': 3561, 'scan': 7540, 'goggles': 3820, 'popping': 6583, 'admirably': 208, 'brent': 1104, 'hanley': 4036, 'bolstered': 1002, 'economics': 2754, 'fabulousness': 3195, 'cinematically': 1508, 'risk': 7334, 'consequence': 1795, 'managing': 5349, 'jake': 4761, 'susan': 8587, 'holly': 4219, 'ellen': 2823, 'pompeo': 6566, 'geddes': 3707, 'grisham': 3930, 'kincaid': 4905, 'meets': 5482, 'steinis': 8314, 'assayas': 577, 'chardonne': 1409, 'crowdpleaser': 2016, 'resources': 7223, 'establish': 3006, 'cantet': 1275, 'poet': 6541, 'workplace': 9815, 'conceptually': 1743, 'reflective': 7072, 'wake': 9550, 'unadorned': 9147, 'rural': 7437, 'timer': 8883, 'hilary': 4177, 'birmingham': 903, 'portraiture': 6600, 'cuban': 2038, 'treated': 9020, 'gory': 3851, 'pitted': 6473, 'ethereal': 3016, 'congrats': 1779, 'unknown': 9296, 'affectingly': 251, 'recognizable': 7023, 'jokester': 4809, 'highway': 4173, 'patrolman': 6307, 'caution': 1353, 'ecological': 2751, 'speculative': 8152, 'brainpower': 1065, 'coupled': 1922, 'unfakable': 9245, 'devos': 2355, 'cassel': 1332, 'vocalized': 9523, 'skilfully': 7933, 'aerial': 242, 'evergreen': 3042, 'exuberant': 3180, 'lightly': 5126, 'contemplation': 1821, 'marketing': 5387, 'gluing': 3806, '16': 21, 'player': 6499, 'fore': 3502, 'inestimable': 4522, 'busting': 1206, 'tim': 8876, 'lagaan': 4979, 'efficiency': 2780, 'nonchalantly': 5914, 'freaky': 3567, 'reluctant': 7128, 'captor': 1291, 'befuddled': 813, 'captive': 1290, 'method': 5536, 'traditionally': 8974, 'surrendering': 8577, 'rigor': 7318, 'composure': 1722, 'insider': 4586, 'eat': 2740, 'gelati': 3712, 'bladerunner': 921, 'samuel': 7486, 'exudes': 3183, 'busby': 1201, 'berkeley': 857, 'tackles': 8657, 'populates': 6587, 'dislocation': 2468, 'gracious': 3870, 'taxi': 8710, 'teetering': 8739, 'sanity': 7498, 'excepting': 3081, 'hewitt': 4152, 'believed': 837, 'laughingly': 5027}\n"
     ]
    }
   ],
   "source": [
    "from sklearn.feature_extraction.text import TfidfVectorizer\n",
    "# list of text documents\n",
    "text = df2.Processed_Phrase1.values\n",
    "# create the transform\n",
    "vectorizer = TfidfVectorizer()\n",
    "# tokenize and build vocab\n",
    "vectorizer.fit(text)\n",
    "# summarize\n",
    "print(vectorizer.vocabulary_)\n",
    "\n",
    "# encode document\n",
    "# vector = vectorizer.transform(text)"
   ]
  },
  {
   "cell_type": "markdown",
   "id": "6fc32c75",
   "metadata": {},
   "source": [
    "### Now change 4 to 1 (Positive)\n",
    "### 0 to 0 (Negative)"
   ]
  },
  {
   "cell_type": "code",
   "execution_count": 34,
   "id": "a3525721",
   "metadata": {},
   "outputs": [
    {
     "data": {
      "text/plain": [
       "1    9206\n",
       "0    7072\n",
       "Name: Sentiment, dtype: int64"
      ]
     },
     "execution_count": 34,
     "metadata": {},
     "output_type": "execute_result"
    }
   ],
   "source": [
    "df2.Sentiment = df2.Sentiment.map({4:1,\n",
    "                                  0:0})\n",
    "df2.Sentiment.value_counts(dropna=False)"
   ]
  },
  {
   "cell_type": "markdown",
   "id": "21bbac6a",
   "metadata": {},
   "source": [
    "### save to csv format"
   ]
  },
  {
   "cell_type": "code",
   "execution_count": 35,
   "id": "b645e8f9",
   "metadata": {},
   "outputs": [],
   "source": [
    "Cleaned_Data = df2.to_csv('Cleaned_Data.csv', index = False)"
   ]
  },
  {
   "cell_type": "markdown",
   "id": "93015b8b",
   "metadata": {},
   "source": [
    "### save to pickel format"
   ]
  },
  {
   "cell_type": "code",
   "execution_count": 36,
   "id": "f51774a4",
   "metadata": {},
   "outputs": [],
   "source": [
    "df2.to_pickle(\"Cleaned_Data.pkl\")"
   ]
  },
  {
   "cell_type": "code",
   "execution_count": null,
   "id": "ef5476b0",
   "metadata": {},
   "outputs": [],
   "source": []
  }
 ],
 "metadata": {
  "kernelspec": {
   "display_name": "Python 3 (ipykernel)",
   "language": "python",
   "name": "python3"
  },
  "language_info": {
   "codemirror_mode": {
    "name": "ipython",
    "version": 3
   },
   "file_extension": ".py",
   "mimetype": "text/x-python",
   "name": "python",
   "nbconvert_exporter": "python",
   "pygments_lexer": "ipython3",
   "version": "3.9.13"
  }
 },
 "nbformat": 4,
 "nbformat_minor": 5
}
